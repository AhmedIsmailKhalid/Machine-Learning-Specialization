{
 "cells": [
  {
   "cell_type": "markdown",
   "metadata": {
    "hideCode": false,
    "hidePrompt": false
   },
   "source": [
    "# Regression Week 2: Multiple Regression (Interpretation)"
   ]
  },
  {
   "cell_type": "markdown",
   "metadata": {
    "hideCode": false,
    "hidePrompt": false
   },
   "source": [
    "The goal of this first notebook is to explore multiple regression and feature engineering with existing Turi Create functions.\n",
    "\n",
    "In this notebook you will use data on house sales in King County to predict prices using multiple regression. You will:\n",
    "* Use SFrames to do some feature engineering\n",
    "* Use built-in Turi Create functions to compute the regression weights (coefficients/parameters)\n",
    "* Given the regression weights, predictors and outcome write a function to compute the Residual Sum of Squares\n",
    "* Look at coefficients and interpret their meanings\n",
    "* Evaluate multiple models via RSS"
   ]
  },
  {
   "cell_type": "code",
   "execution_count": 1,
   "metadata": {
    "hideCode": false,
    "hidePrompt": false
   },
   "outputs": [],
   "source": [
    "import pandas as pd\n",
    "import numpy as np\n",
    "from math import log\n",
    "from sklearn.linear_model import LinearRegression"
   ]
  },
  {
   "cell_type": "markdown",
   "metadata": {
    "hideCode": false,
    "hidePrompt": false
   },
   "source": [
    "# Load in house sales data\n",
    "\n",
    "Dataset is from house sales in King County, the region where the city of Seattle, WA is located."
   ]
  },
  {
   "cell_type": "code",
   "execution_count": 2,
   "metadata": {
    "hideCode": false,
    "hidePrompt": false
   },
   "outputs": [
    {
     "data": {
      "text/html": [
       "<div>\n",
       "<style scoped>\n",
       "    .dataframe tbody tr th:only-of-type {\n",
       "        vertical-align: middle;\n",
       "    }\n",
       "\n",
       "    .dataframe tbody tr th {\n",
       "        vertical-align: top;\n",
       "    }\n",
       "\n",
       "    .dataframe thead th {\n",
       "        text-align: right;\n",
       "    }\n",
       "</style>\n",
       "<table border=\"1\" class=\"dataframe\">\n",
       "  <thead>\n",
       "    <tr style=\"text-align: right;\">\n",
       "      <th></th>\n",
       "      <th>id</th>\n",
       "      <th>date</th>\n",
       "      <th>price</th>\n",
       "      <th>bedrooms</th>\n",
       "      <th>bathrooms</th>\n",
       "      <th>sqft_living</th>\n",
       "      <th>sqft_lot</th>\n",
       "      <th>floors</th>\n",
       "      <th>waterfront</th>\n",
       "      <th>view</th>\n",
       "      <th>...</th>\n",
       "      <th>grade</th>\n",
       "      <th>sqft_above</th>\n",
       "      <th>sqft_basement</th>\n",
       "      <th>yr_built</th>\n",
       "      <th>yr_renovated</th>\n",
       "      <th>zipcode</th>\n",
       "      <th>lat</th>\n",
       "      <th>long</th>\n",
       "      <th>sqft_living15</th>\n",
       "      <th>sqft_lot15</th>\n",
       "    </tr>\n",
       "  </thead>\n",
       "  <tbody>\n",
       "    <tr>\n",
       "      <th>0</th>\n",
       "      <td>7129300520</td>\n",
       "      <td>20141013T000000</td>\n",
       "      <td>221900.0</td>\n",
       "      <td>3</td>\n",
       "      <td>1.00</td>\n",
       "      <td>1180</td>\n",
       "      <td>5650</td>\n",
       "      <td>1.0</td>\n",
       "      <td>0</td>\n",
       "      <td>0</td>\n",
       "      <td>...</td>\n",
       "      <td>7</td>\n",
       "      <td>1180</td>\n",
       "      <td>0</td>\n",
       "      <td>1955</td>\n",
       "      <td>0</td>\n",
       "      <td>98178</td>\n",
       "      <td>47.5112</td>\n",
       "      <td>-122.257</td>\n",
       "      <td>1340</td>\n",
       "      <td>5650</td>\n",
       "    </tr>\n",
       "    <tr>\n",
       "      <th>1</th>\n",
       "      <td>6414100192</td>\n",
       "      <td>20141209T000000</td>\n",
       "      <td>538000.0</td>\n",
       "      <td>3</td>\n",
       "      <td>2.25</td>\n",
       "      <td>2570</td>\n",
       "      <td>7242</td>\n",
       "      <td>2.0</td>\n",
       "      <td>0</td>\n",
       "      <td>0</td>\n",
       "      <td>...</td>\n",
       "      <td>7</td>\n",
       "      <td>2170</td>\n",
       "      <td>400</td>\n",
       "      <td>1951</td>\n",
       "      <td>1991</td>\n",
       "      <td>98125</td>\n",
       "      <td>47.7210</td>\n",
       "      <td>-122.319</td>\n",
       "      <td>1690</td>\n",
       "      <td>7639</td>\n",
       "    </tr>\n",
       "    <tr>\n",
       "      <th>2</th>\n",
       "      <td>5631500400</td>\n",
       "      <td>20150225T000000</td>\n",
       "      <td>180000.0</td>\n",
       "      <td>2</td>\n",
       "      <td>1.00</td>\n",
       "      <td>770</td>\n",
       "      <td>10000</td>\n",
       "      <td>1.0</td>\n",
       "      <td>0</td>\n",
       "      <td>0</td>\n",
       "      <td>...</td>\n",
       "      <td>6</td>\n",
       "      <td>770</td>\n",
       "      <td>0</td>\n",
       "      <td>1933</td>\n",
       "      <td>0</td>\n",
       "      <td>98028</td>\n",
       "      <td>47.7379</td>\n",
       "      <td>-122.233</td>\n",
       "      <td>2720</td>\n",
       "      <td>8062</td>\n",
       "    </tr>\n",
       "    <tr>\n",
       "      <th>3</th>\n",
       "      <td>2487200875</td>\n",
       "      <td>20141209T000000</td>\n",
       "      <td>604000.0</td>\n",
       "      <td>4</td>\n",
       "      <td>3.00</td>\n",
       "      <td>1960</td>\n",
       "      <td>5000</td>\n",
       "      <td>1.0</td>\n",
       "      <td>0</td>\n",
       "      <td>0</td>\n",
       "      <td>...</td>\n",
       "      <td>7</td>\n",
       "      <td>1050</td>\n",
       "      <td>910</td>\n",
       "      <td>1965</td>\n",
       "      <td>0</td>\n",
       "      <td>98136</td>\n",
       "      <td>47.5208</td>\n",
       "      <td>-122.393</td>\n",
       "      <td>1360</td>\n",
       "      <td>5000</td>\n",
       "    </tr>\n",
       "    <tr>\n",
       "      <th>4</th>\n",
       "      <td>1954400510</td>\n",
       "      <td>20150218T000000</td>\n",
       "      <td>510000.0</td>\n",
       "      <td>3</td>\n",
       "      <td>2.00</td>\n",
       "      <td>1680</td>\n",
       "      <td>8080</td>\n",
       "      <td>1.0</td>\n",
       "      <td>0</td>\n",
       "      <td>0</td>\n",
       "      <td>...</td>\n",
       "      <td>8</td>\n",
       "      <td>1680</td>\n",
       "      <td>0</td>\n",
       "      <td>1987</td>\n",
       "      <td>0</td>\n",
       "      <td>98074</td>\n",
       "      <td>47.6168</td>\n",
       "      <td>-122.045</td>\n",
       "      <td>1800</td>\n",
       "      <td>7503</td>\n",
       "    </tr>\n",
       "    <tr>\n",
       "      <th>...</th>\n",
       "      <td>...</td>\n",
       "      <td>...</td>\n",
       "      <td>...</td>\n",
       "      <td>...</td>\n",
       "      <td>...</td>\n",
       "      <td>...</td>\n",
       "      <td>...</td>\n",
       "      <td>...</td>\n",
       "      <td>...</td>\n",
       "      <td>...</td>\n",
       "      <td>...</td>\n",
       "      <td>...</td>\n",
       "      <td>...</td>\n",
       "      <td>...</td>\n",
       "      <td>...</td>\n",
       "      <td>...</td>\n",
       "      <td>...</td>\n",
       "      <td>...</td>\n",
       "      <td>...</td>\n",
       "      <td>...</td>\n",
       "      <td>...</td>\n",
       "    </tr>\n",
       "    <tr>\n",
       "      <th>21608</th>\n",
       "      <td>263000018</td>\n",
       "      <td>20140521T000000</td>\n",
       "      <td>360000.0</td>\n",
       "      <td>3</td>\n",
       "      <td>2.50</td>\n",
       "      <td>1530</td>\n",
       "      <td>1131</td>\n",
       "      <td>3.0</td>\n",
       "      <td>0</td>\n",
       "      <td>0</td>\n",
       "      <td>...</td>\n",
       "      <td>8</td>\n",
       "      <td>1530</td>\n",
       "      <td>0</td>\n",
       "      <td>2009</td>\n",
       "      <td>0</td>\n",
       "      <td>98103</td>\n",
       "      <td>47.6993</td>\n",
       "      <td>-122.346</td>\n",
       "      <td>1530</td>\n",
       "      <td>1509</td>\n",
       "    </tr>\n",
       "    <tr>\n",
       "      <th>21609</th>\n",
       "      <td>6600060120</td>\n",
       "      <td>20150223T000000</td>\n",
       "      <td>400000.0</td>\n",
       "      <td>4</td>\n",
       "      <td>2.50</td>\n",
       "      <td>2310</td>\n",
       "      <td>5813</td>\n",
       "      <td>2.0</td>\n",
       "      <td>0</td>\n",
       "      <td>0</td>\n",
       "      <td>...</td>\n",
       "      <td>8</td>\n",
       "      <td>2310</td>\n",
       "      <td>0</td>\n",
       "      <td>2014</td>\n",
       "      <td>0</td>\n",
       "      <td>98146</td>\n",
       "      <td>47.5107</td>\n",
       "      <td>-122.362</td>\n",
       "      <td>1830</td>\n",
       "      <td>7200</td>\n",
       "    </tr>\n",
       "    <tr>\n",
       "      <th>21610</th>\n",
       "      <td>1523300141</td>\n",
       "      <td>20140623T000000</td>\n",
       "      <td>402101.0</td>\n",
       "      <td>2</td>\n",
       "      <td>0.75</td>\n",
       "      <td>1020</td>\n",
       "      <td>1350</td>\n",
       "      <td>2.0</td>\n",
       "      <td>0</td>\n",
       "      <td>0</td>\n",
       "      <td>...</td>\n",
       "      <td>7</td>\n",
       "      <td>1020</td>\n",
       "      <td>0</td>\n",
       "      <td>2009</td>\n",
       "      <td>0</td>\n",
       "      <td>98144</td>\n",
       "      <td>47.5944</td>\n",
       "      <td>-122.299</td>\n",
       "      <td>1020</td>\n",
       "      <td>2007</td>\n",
       "    </tr>\n",
       "    <tr>\n",
       "      <th>21611</th>\n",
       "      <td>291310100</td>\n",
       "      <td>20150116T000000</td>\n",
       "      <td>400000.0</td>\n",
       "      <td>3</td>\n",
       "      <td>2.50</td>\n",
       "      <td>1600</td>\n",
       "      <td>2388</td>\n",
       "      <td>2.0</td>\n",
       "      <td>0</td>\n",
       "      <td>0</td>\n",
       "      <td>...</td>\n",
       "      <td>8</td>\n",
       "      <td>1600</td>\n",
       "      <td>0</td>\n",
       "      <td>2004</td>\n",
       "      <td>0</td>\n",
       "      <td>98027</td>\n",
       "      <td>47.5345</td>\n",
       "      <td>-122.069</td>\n",
       "      <td>1410</td>\n",
       "      <td>1287</td>\n",
       "    </tr>\n",
       "    <tr>\n",
       "      <th>21612</th>\n",
       "      <td>1523300157</td>\n",
       "      <td>20141015T000000</td>\n",
       "      <td>325000.0</td>\n",
       "      <td>2</td>\n",
       "      <td>0.75</td>\n",
       "      <td>1020</td>\n",
       "      <td>1076</td>\n",
       "      <td>2.0</td>\n",
       "      <td>0</td>\n",
       "      <td>0</td>\n",
       "      <td>...</td>\n",
       "      <td>7</td>\n",
       "      <td>1020</td>\n",
       "      <td>0</td>\n",
       "      <td>2008</td>\n",
       "      <td>0</td>\n",
       "      <td>98144</td>\n",
       "      <td>47.5941</td>\n",
       "      <td>-122.299</td>\n",
       "      <td>1020</td>\n",
       "      <td>1357</td>\n",
       "    </tr>\n",
       "  </tbody>\n",
       "</table>\n",
       "<p>21613 rows × 21 columns</p>\n",
       "</div>"
      ],
      "text/plain": [
       "               id             date     price  bedrooms  bathrooms  \\\n",
       "0      7129300520  20141013T000000  221900.0         3       1.00   \n",
       "1      6414100192  20141209T000000  538000.0         3       2.25   \n",
       "2      5631500400  20150225T000000  180000.0         2       1.00   \n",
       "3      2487200875  20141209T000000  604000.0         4       3.00   \n",
       "4      1954400510  20150218T000000  510000.0         3       2.00   \n",
       "...           ...              ...       ...       ...        ...   \n",
       "21608   263000018  20140521T000000  360000.0         3       2.50   \n",
       "21609  6600060120  20150223T000000  400000.0         4       2.50   \n",
       "21610  1523300141  20140623T000000  402101.0         2       0.75   \n",
       "21611   291310100  20150116T000000  400000.0         3       2.50   \n",
       "21612  1523300157  20141015T000000  325000.0         2       0.75   \n",
       "\n",
       "       sqft_living  sqft_lot  floors  waterfront  view  ...  grade  \\\n",
       "0             1180      5650     1.0           0     0  ...      7   \n",
       "1             2570      7242     2.0           0     0  ...      7   \n",
       "2              770     10000     1.0           0     0  ...      6   \n",
       "3             1960      5000     1.0           0     0  ...      7   \n",
       "4             1680      8080     1.0           0     0  ...      8   \n",
       "...            ...       ...     ...         ...   ...  ...    ...   \n",
       "21608         1530      1131     3.0           0     0  ...      8   \n",
       "21609         2310      5813     2.0           0     0  ...      8   \n",
       "21610         1020      1350     2.0           0     0  ...      7   \n",
       "21611         1600      2388     2.0           0     0  ...      8   \n",
       "21612         1020      1076     2.0           0     0  ...      7   \n",
       "\n",
       "       sqft_above  sqft_basement  yr_built  yr_renovated  zipcode      lat  \\\n",
       "0            1180              0      1955             0    98178  47.5112   \n",
       "1            2170            400      1951          1991    98125  47.7210   \n",
       "2             770              0      1933             0    98028  47.7379   \n",
       "3            1050            910      1965             0    98136  47.5208   \n",
       "4            1680              0      1987             0    98074  47.6168   \n",
       "...           ...            ...       ...           ...      ...      ...   \n",
       "21608        1530              0      2009             0    98103  47.6993   \n",
       "21609        2310              0      2014             0    98146  47.5107   \n",
       "21610        1020              0      2009             0    98144  47.5944   \n",
       "21611        1600              0      2004             0    98027  47.5345   \n",
       "21612        1020              0      2008             0    98144  47.5941   \n",
       "\n",
       "          long  sqft_living15  sqft_lot15  \n",
       "0     -122.257           1340        5650  \n",
       "1     -122.319           1690        7639  \n",
       "2     -122.233           2720        8062  \n",
       "3     -122.393           1360        5000  \n",
       "4     -122.045           1800        7503  \n",
       "...        ...            ...         ...  \n",
       "21608 -122.346           1530        1509  \n",
       "21609 -122.362           1830        7200  \n",
       "21610 -122.299           1020        2007  \n",
       "21611 -122.069           1410        1287  \n",
       "21612 -122.299           1020        1357  \n",
       "\n",
       "[21613 rows x 21 columns]"
      ]
     },
     "execution_count": 2,
     "metadata": {},
     "output_type": "execute_result"
    }
   ],
   "source": [
    "sales = pd.read_csv('kc_house_data.csv')\n",
    "sales"
   ]
  },
  {
   "cell_type": "markdown",
   "metadata": {
    "hideCode": false,
    "hidePrompt": false
   },
   "source": [
    "# Split data into training and testing.\n",
    "We use seed=0 so that everyone running this notebook gets the same results.  In practice, you may set a random seed (or let Turi Create pick a random seed for you).  "
   ]
  },
  {
   "cell_type": "code",
   "execution_count": 3,
   "metadata": {
    "hideCode": false,
    "hidePrompt": false
   },
   "outputs": [],
   "source": [
    "train_data = pd.read_csv('kc_house_train_data.csv')\n",
    "test_data = pd.read_csv('kc_house_test_data.csv')"
   ]
  },
  {
   "cell_type": "markdown",
   "metadata": {
    "hideCode": false,
    "hidePrompt": false
   },
   "source": [
    "# Learning a multiple regression model"
   ]
  },
  {
   "cell_type": "markdown",
   "metadata": {
    "hideCode": false,
    "hidePrompt": false
   },
   "source": [
    "Recall we can use the following code to learn a multiple regression model predicting 'price' based on the following features:\n",
    "example_features = ['sqft_living', 'bedrooms', 'bathrooms'] on training data with the following code:\n",
    "\n",
    "(Aside: We set validation_set = None to ensure that the results are always the same)"
   ]
  },
  {
   "cell_type": "code",
   "execution_count": 4,
   "metadata": {
    "hideCode": false,
    "hidePrompt": false
   },
   "outputs": [],
   "source": [
    "X = np.array(train_data[['sqft_living', 'bedrooms', 'bathrooms']])\n",
    "Y = np.array(train_data['price'])\n",
    "\n",
    "reg = LinearRegression()\n",
    "model = reg.fit(X,Y)"
   ]
  },
  {
   "cell_type": "markdown",
   "metadata": {
    "hideCode": false,
    "hidePrompt": false
   },
   "source": [
    "Now that we have fitted the model we can extract the regression weights (coefficients) as an SFrame as follows:"
   ]
  },
  {
   "cell_type": "code",
   "execution_count": 5,
   "metadata": {
    "hideCode": false,
    "hidePrompt": false
   },
   "outputs": [
    {
     "data": {
      "text/plain": [
       "array([   315.40669062, -65081.88711588,   6942.16598637])"
      ]
     },
     "execution_count": 5,
     "metadata": {},
     "output_type": "execute_result"
    }
   ],
   "source": [
    "reg.coef_"
   ]
  },
  {
   "cell_type": "markdown",
   "metadata": {
    "hideCode": false,
    "hidePrompt": false
   },
   "source": [
    "# Making Predictions\n",
    "\n",
    "In the gradient descent notebook we use numpy to do our regression. In this book we will use existing Turi Create functions to analyze multiple regressions. \n",
    "\n",
    "Recall that once a model is built we can use the .predict() function to find the predicted values for data we pass. For example using the example model above:"
   ]
  },
  {
   "cell_type": "code",
   "execution_count": 6,
   "metadata": {
    "hideCode": false,
    "hidePrompt": false
   },
   "outputs": [
    {
     "data": {
      "text/plain": [
       "271789.26537996985"
      ]
     },
     "execution_count": 6,
     "metadata": {},
     "output_type": "execute_result"
    }
   ],
   "source": [
    "example_predictions = reg.predict(X)\n",
    "example_predictions[0] # should be 271789.505878"
   ]
  },
  {
   "cell_type": "markdown",
   "metadata": {
    "hideCode": false,
    "hidePrompt": false
   },
   "source": [
    "# Compute RSS"
   ]
  },
  {
   "cell_type": "markdown",
   "metadata": {
    "hideCode": false,
    "hidePrompt": false
   },
   "source": [
    "Now that we can make predictions given the model, let's write a function to compute the RSS of the model. Complete the function below to calculate RSS given the model, data, and the outcome."
   ]
  },
  {
   "cell_type": "code",
   "execution_count": 7,
   "metadata": {
    "hideCode": false,
    "hidePrompt": false
   },
   "outputs": [],
   "source": [
    "def get_residual_sum_of_squares(model, X, Y):\n",
    "    \n",
    "    '''\n",
    "    Arguments :\n",
    "    model -- the multiple linear regression model learned as above\n",
    "    X -- the input features 'sqft_living', 'bedrooms', 'bathrooms' from the train_data\n",
    "    Y -- the output values of 'price' from the train_data\n",
    "    \n",
    "    Returns :\n",
    "    RSS -- the residual sum of squares, i.e. the difference between the predicted value and the actual value\n",
    "    \n",
    "    '''\n",
    "    # First get the predictions\n",
    "    predictions = np.array(model.predict(X))\n",
    "\n",
    "    # Then compute the residuals/errors\n",
    "    residuals = predictions - Y\n",
    "\n",
    "    # Then square and add them up\n",
    "    RSS = np.sum(np.square(residuals))\n",
    "\n",
    "    return(RSS)    "
   ]
  },
  {
   "cell_type": "markdown",
   "metadata": {
    "hideCode": false,
    "hidePrompt": false
   },
   "source": [
    "Test your function by computing the RSS on TEST data for the example model:"
   ]
  },
  {
   "cell_type": "code",
   "execution_count": 8,
   "metadata": {
    "hideCode": false,
    "hidePrompt": false
   },
   "outputs": [
    {
     "name": "stdout",
     "output_type": "stream",
     "text": [
      "273761940583133.75\n"
     ]
    }
   ],
   "source": [
    "X_test = test_data[['sqft_living', 'bedrooms', 'bathrooms']]\n",
    "Y_test = test_data['price']\n",
    "\n",
    "rss_example_train = get_residual_sum_of_squares(model, X_test, Y_test)\n",
    "print(rss_example_train) # should be 2.7376153833e+14"
   ]
  },
  {
   "cell_type": "markdown",
   "metadata": {
    "hideCode": false,
    "hidePrompt": false
   },
   "source": [
    "# Create some new features"
   ]
  },
  {
   "cell_type": "markdown",
   "metadata": {
    "hideCode": false,
    "hidePrompt": false
   },
   "source": [
    "Although we often think of multiple regression as including multiple different features (e.g. # of bedrooms, squarefeet, and # of bathrooms) but we can also consider transformations of existing features e.g. the log of the squarefeet or even \"interaction\" features such as the product of bedrooms and bathrooms."
   ]
  },
  {
   "cell_type": "markdown",
   "metadata": {
    "hideCode": false,
    "hidePrompt": false
   },
   "source": [
    "You will use the logarithm function to create a new feature. so first you should import it from the math library."
   ]
  },
  {
   "cell_type": "markdown",
   "metadata": {
    "hideCode": false,
    "hidePrompt": false
   },
   "source": [
    "Next create the following 4 new features as column in both TEST and TRAIN data:\n",
    "* bedrooms_squared = bedrooms\\*bedrooms\n",
    "* bed_bath_rooms = bedrooms\\*bathrooms\n",
    "* log_sqft_living = log(sqft_living)\n",
    "* lat_plus_long = lat + long \n",
    "As an example here's the first one:"
   ]
  },
  {
   "cell_type": "code",
   "execution_count": 9,
   "metadata": {
    "hideCode": false,
    "hidePrompt": false
   },
   "outputs": [
    {
     "name": "stdout",
     "output_type": "stream",
     "text": [
      "Mean of bedrooms_squared for test data :  12.45\n",
      "Mean of bed_bath_rooms for test data   :  7.5\n",
      "Mean of log_sqft_living for test data  :  3.28\n",
      "Mean of lat_plus_long for test data    :  -74.65\n"
     ]
    }
   ],
   "source": [
    "# Creating new features for the train_data\n",
    "train_data['bedrooms_squared'] = train_data['bedrooms'] * train_data['bedrooms']\n",
    "train_data['bed_bath_rooms'] = train_data['bedrooms'] * train_data['bathrooms']\n",
    "train_data['log_sqft_living'] = np.log10(train_data['sqft_living'])\n",
    "train_data['lat_plus_long'] = train_data['lat'] + train_data['long']\n",
    "\n",
    "# Create new features for the test_data\n",
    "test_data['bedrooms_squared'] = test_data['bedrooms'] * test_data['bedrooms']\n",
    "test_data['bed_bath_rooms'] = test_data['bedrooms'] * test_data['bathrooms']\n",
    "test_data['log_sqft_living'] = np.log10(test_data['sqft_living'])\n",
    "test_data['lat_plus_long'] = test_data['lat'] + test_data['long']\n",
    "\n",
    "# The code below is used to answer the following quiz question\n",
    "\n",
    "test_bedrooms_squared_mean = round(sum(test_data['bedrooms_squared']) / len(test_data['bedrooms_squared']),2)\n",
    "test_bed_bath_rooms_mean = round(sum(test_data['bed_bath_rooms']) / len(test_data['bed_bath_rooms']),2)\n",
    "test_log_sqft_living_mean = round(sum(test_data['log_sqft_living']) / len(test_data['log_sqft_living']),2)\n",
    "test_lat_plus_long_mean = round(sum(test_data['lat_plus_long']) / len(test_data['lat_plus_long']),2)\n",
    "\n",
    "print('Mean of bedrooms_squared for test data : ', test_bedrooms_squared_mean)\n",
    "print('Mean of bed_bath_rooms for test data   : ', test_bed_bath_rooms_mean)\n",
    "print('Mean of log_sqft_living for test data  : ', test_log_sqft_living_mean)\n",
    "print('Mean of lat_plus_long for test data    : ', test_lat_plus_long_mean)"
   ]
  },
  {
   "cell_type": "markdown",
   "metadata": {
    "hideCode": false,
    "hidePrompt": false
   },
   "source": [
    "* Squaring bedrooms will increase the separation between not many bedrooms (e.g. 1) and lots of bedrooms (e.g. 4) since 1^2 = 1 but 4^2 = 16. Consequently this feature will mostly affect houses with many bedrooms.\n",
    "* bedrooms times bathrooms gives what's called an \"interaction\" feature. It is large when *both* of them are large.\n",
    "* Taking the log of squarefeet has the effect of bringing large values closer together and spreading out small values.\n",
    "* Adding latitude to longitude is totally non-sensical but we will do it anyway (you'll see why)"
   ]
  },
  {
   "cell_type": "markdown",
   "metadata": {
    "hideCode": false,
    "hidePrompt": false,
    "variables": {
     "test_bed_bath_rooms_mean": "7.5",
     "test_bedrooms_squared_mean": "12.45",
     "test_lat_plus_long_mean": "-74.65",
     "test_log_sqft_living_mean": "3.28"
    }
   },
   "source": [
    "<font color = 'steelblue'><b> Quiz Question: What is the mean (arithmetic average) value of your 4 new features on TEST data? (round to 2 digits) </b></font>\n",
    "\n",
    "<font color = 'mediumvioletred'><b> Answer  : The mean value of 4 new features on TEST data are : </b></font>\n",
    "<font color = 'slategray'><b>\n",
    "- Mean of bedrooms_squared for test data : {{test_bedrooms_squared_mean}}\n",
    "- Mean of bed_bath_rooms for test data : {{test_bed_bath_rooms_mean}}\n",
    "- Mean of log_sqft_living for test data : {{test_log_sqft_living_mean}}\n",
    "- Mean of lat_plus_long for test data : {{test_lat_plus_long_mean}}\n",
    "</b></font>"
   ]
  },
  {
   "cell_type": "markdown",
   "metadata": {},
   "source": [
    "# Learning Multiple Models"
   ]
  },
  {
   "cell_type": "markdown",
   "metadata": {},
   "source": [
    "Now we will learn the weights for three (nested) models for predicting house prices. The first model will have the fewest features the second model will add one more feature and the third will add a few more:\n",
    "* Model 1: squarefeet, # bedrooms, # bathrooms, latitude & longitude\n",
    "* Model 2: add bedrooms\\*bathrooms\n",
    "* Model 3: Add log squarefeet, bedrooms squared, and the (nonsensical) latitude + longitude"
   ]
  },
  {
   "cell_type": "code",
   "execution_count": 10,
   "metadata": {},
   "outputs": [],
   "source": [
    "model_1_features_train = train_data[['sqft_living', 'bedrooms', 'bathrooms', 'lat', 'long']]\n",
    "model_2_features_train = model_1_features_train.join(train_data['bed_bath_rooms']) \n",
    "model_3_features_train = model_2_features_train.join([train_data['bedrooms_squared'], train_data['log_sqft_living'],\n",
    "                                         train_data['lat_plus_long']])"
   ]
  },
  {
   "cell_type": "markdown",
   "metadata": {},
   "source": [
    "Now that you have the features, learn the weights for the three different models for predicting target = 'price' using turicreate.linear_regression.create() and look at the value of the weights/coefficients:"
   ]
  },
  {
   "cell_type": "code",
   "execution_count": 11,
   "metadata": {},
   "outputs": [],
   "source": [
    "# Creating 3 Linear Regression Models\n",
    "model_1 = LinearRegression().fit(model_1_features_train, train_data['price'])\n",
    "model_2 = LinearRegression().fit(model_2_features_train, train_data['price'])\n",
    "model_3 = LinearRegression().fit(model_3_features_train, train_data['price'])"
   ]
  },
  {
   "cell_type": "code",
   "execution_count": 12,
   "metadata": {},
   "outputs": [
    {
     "name": "stdout",
     "output_type": "stream",
     "text": [
      "Model_1 Summary\n",
      "Coefficients :  [ 3.12258646e+02 -5.95865332e+04  1.57067421e+04  6.58619264e+05\n",
      " -3.09374351e+05]\n",
      "Intercept :  -69075726.79256986\n",
      "\n",
      "Model_2 Summary\n",
      "Coefficients :  [ 3.06610053e+02 -1.13446368e+05 -7.14613083e+04  6.54844630e+05\n",
      " -2.94298969e+05  2.55796520e+04]\n",
      "Intercept :  -66867968.871078916\n",
      "\n",
      "Model_3 Summary\n",
      "Coefficients :  [ 5.29422820e+02  3.45142296e+04  6.70607813e+04  5.34085611e+05\n",
      " -4.06750711e+05 -8.57050439e+03 -6.78858667e+03 -1.29366480e+06\n",
      "  1.27334900e+05]\n",
      "Intercept :  -62036084.986098416\n"
     ]
    }
   ],
   "source": [
    "# Printing the coefficients and intercepts of the 3 Linear Regression Models\n",
    "print('Model_1 Summary')\n",
    "print('Coefficients : ', model_1.coef_)\n",
    "print('Intercept : ', model_1.intercept_)\n",
    "\n",
    "print('\\nModel_2 Summary')\n",
    "print('Coefficients : ', model_2.coef_)\n",
    "print('Intercept : ', model_2.intercept_)\n",
    "\n",
    "print('\\nModel_3 Summary')\n",
    "print('Coefficients : ', model_3.coef_)\n",
    "print('Intercept : ', model_3.intercept_)\n",
    "\n",
    "# The code below is used to answer the following quiz questions\n",
    "\n",
    "model1_bathroom_coef_sign = 'positive (+)' if model_1.coef_[2] > 0 else 'negative (-)'\n",
    "model2_bathroom_coef_sign = 'positive (+)' if model_2.coef_[2] > 0 else 'negative (-)'"
   ]
  },
  {
   "cell_type": "markdown",
   "metadata": {},
   "source": [
    "<font color = 'steelblue'><b> Quiz 1: What is the sign (positive or negative) for the coefficient/weight for `bathrooms` in model 1?**\n",
    "\n",
    "<font color = 'mediumvioletred'><b> Answer 1 : The sign of the coefficient for bathrooms in model 1 is {{model1_bathroom_coef_sign}} </b></font>\n",
    "\n",
    "<br/>\n",
    "\n",
    "<font color = 'mediumvioletred'><b> Quiz 2: What is the sign (positive or negative) for the coefficient/weight for `bathrooms` in model 2?**\n",
    "\n",
    "<font color = 'steelblue'><b> Answer 2 : The sign of the coefficient for bathrooms in model 2 is {{model2_bathroom_coef_sign}} </b></font>"
   ]
  },
  {
   "cell_type": "markdown",
   "metadata": {},
   "source": [
    "# Comparing multiple models\n",
    "\n",
    "Now that you've learned three models and extracted the model weights we want to evaluate which model is best."
   ]
  },
  {
   "cell_type": "markdown",
   "metadata": {},
   "source": [
    "First use your functions from earlier to compute the RSS on TRAINING Data for each of the three models."
   ]
  },
  {
   "cell_type": "code",
   "execution_count": 13,
   "metadata": {},
   "outputs": [
    {
     "name": "stdout",
     "output_type": "stream",
     "text": [
      "RSS for model 1 on train data :  967879963049546.4\n",
      "RSS for model 2 on train data :  958419635074068.2\n",
      "RSS for model 3 on train data :  903436455050477.2\n",
      "\n",
      "Model 3 has the lowest RSS on the TRAINING DATA\n"
     ]
    }
   ],
   "source": [
    "RSS_model_1_train_data = get_residual_sum_of_squares(model_1, model_1_features_train, train_data['price'])\n",
    "RSS_model_2_train_data = get_residual_sum_of_squares(model_2, model_2_features_train, train_data['price'])\n",
    "RSS_model_3_train_data = get_residual_sum_of_squares(model_3, model_3_features_train, train_data['price'])\n",
    "\n",
    "print('RSS for model 1 on train data : ' , RSS_model_1_train_data)\n",
    "print('RSS for model 2 on train data : ' , RSS_model_2_train_data)\n",
    "print('RSS for model 3 on train data : ' , RSS_model_3_train_data)\n",
    "\n",
    "RSS_list = [RSS_model_1_train_data, RSS_model_2_train_data,RSS_model_3_train_data]\n",
    "model_names = ['Model 1', 'Model 2', 'Model 3']\n",
    "rss_dict = dict(zip(model_names, RSS_list))\n",
    "\n",
    "# The code below is used to answer the following quiz questions\n",
    "\n",
    "name_lowest_RSS = min(rss_dict, key=rss_dict.get)\n",
    "\n",
    "print('\\n' + str(name_lowest_RSS) + ' has the lowest RSS on the TRAINING DATA')"
   ]
  },
  {
   "cell_type": "markdown",
   "metadata": {},
   "source": [
    "<font color = 'steelblue'><b> Quiz Question : Which model (1, 2 or 3) has lowest RSS on TRAINING Data? Is this what you expected? </b></font>\n",
    "\n",
    "<font color = 'mediumvioletred'><b>Answer : {{name_lowest_RSS}} has the lowest RSS on TRAINING DATA </b></font>"
   ]
  },
  {
   "cell_type": "markdown",
   "metadata": {},
   "source": [
    "Now compute the RSS on on TEST data for each of the three models."
   ]
  },
  {
   "cell_type": "code",
   "execution_count": 14,
   "metadata": {},
   "outputs": [
    {
     "name": "stdout",
     "output_type": "stream",
     "text": [
      "RSS for model 1 on test data :  225500469795490.2\n",
      "RSS for model 2 on test data :  223377462976466.7\n",
      "RSS for model 3 on test data :  259236319207175.75\n",
      "\n",
      "Model 2 has the lowest RSS on the TESTING Data\n"
     ]
    }
   ],
   "source": [
    "# Create the features for TEST DATA\n",
    "model_1_features_test = test_data[['sqft_living', 'bedrooms', 'bathrooms', 'lat', 'long']]\n",
    "model_2_features_test = model_1_features_test.join(test_data['bed_bath_rooms']) \n",
    "model_3_features_test = model_2_features_test.join([test_data['bedrooms_squared'], test_data['log_sqft_living'],\n",
    "                                         test_data['lat_plus_long']])\n",
    "\n",
    "# Calculate the RSS for the models on the TEST DATA\n",
    "RSS_model_1_test_data = get_residual_sum_of_squares(model_1, model_1_features_test, test_data['price'])\n",
    "RSS_model_2_test_data = get_residual_sum_of_squares(model_2, model_2_features_test, test_data['price'])\n",
    "RSS_model_3_test_data = get_residual_sum_of_squares(model_3, model_3_features_test, test_data['price'])\n",
    "\n",
    "print('RSS for model 1 on test data : ' , RSS_model_1_test_data)\n",
    "print('RSS for model 2 on test data : ' , RSS_model_2_test_data)\n",
    "print('RSS for model 3 on test data : ' , RSS_model_3_test_data)\n",
    "\n",
    "# The code below is used to answer the following quiz question\n",
    "\n",
    "RSS_list = [RSS_model_1_test_data, RSS_model_2_test_data,RSS_model_3_test_data]\n",
    "model_names = ['Model 1', 'Model 2', 'Model 3']\n",
    "rss_dict = dict(zip(model_names, RSS_list))\n",
    "\n",
    "name_lowest_RSS = min(rss_dict, key=rss_dict.get)\n",
    "\n",
    "print('\\n' + str(name_lowest_RSS) + ' has the lowest RSS on the TESTING Data')"
   ]
  },
  {
   "cell_type": "markdown",
   "metadata": {
    "variables": {
     "name_lowest_RSS": "Model 2"
    }
   },
   "source": [
    "<font color = 'steelblue'><b> Quiz : Which model (1, 2 or 3) has lowest RSS on TESTING Data? Is this what you expected? Think about the features that were added to each model from the previous </b></font>\n",
    "\n",
    "<font color = 'mediumvioletred'><b>Answer : {{name_lowest_RSS}} has the lowest RSS on TRAINING DATA </b></font>"
   ]
  }
 ],
 "metadata": {
  "hide_code_all_hidden": false,
  "kernelspec": {
   "display_name": "Python 3",
   "language": "python",
   "name": "python3"
  },
  "language_info": {
   "codemirror_mode": {
    "name": "ipython",
    "version": 3
   },
   "file_extension": ".py",
   "mimetype": "text/x-python",
   "name": "python",
   "nbconvert_exporter": "python",
   "pygments_lexer": "ipython3",
   "version": "3.6.5"
  }
 },
 "nbformat": 4,
 "nbformat_minor": 4
}
