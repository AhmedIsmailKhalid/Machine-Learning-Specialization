{
 "cells": [
  {
   "cell_type": "markdown",
   "metadata": {},
   "source": [
    "In this notebook, you will use LASSO to select features, building on a pre-implemented solver for LASSO (using Turi Create, though you can use other solvers). You will:\n",
    "* Run LASSO with different L1 penalties.\n",
    "* Choose best L1 penalty using a validation set.\n",
    "* Choose best L1 penalty using a validation set, with additional constraint on the size of subset.\n",
    "\n",
    "In the second notebook, you will implement your own LASSO solver, using coordinate descent. "
   ]
  },
  {
   "cell_type": "markdown",
   "metadata": {},
   "source": [
    "# Import Neccessary Libraries"
   ]
  },
  {
   "cell_type": "code",
   "execution_count": 1,
   "metadata": {},
   "outputs": [],
   "source": [
    "import pandas as pd\n",
    "import numpy as np\n",
    "import matplotlib.pyplot as plt\n",
    "import math\n",
    "from math import log, sqrt\n",
    "from collections import defaultdict\n",
    "from sklearn.linear_model import LinearRegression, Ridge, Lasso\n",
    "%matplotlib inline"
   ]
  },
  {
   "cell_type": "markdown",
   "metadata": {},
   "source": [
    "# Load in house sales data\n",
    "\n",
    "Dataset is from house sales in King County, the region where the city of Seattle, WA is located."
   ]
  },
  {
   "cell_type": "code",
   "execution_count": 2,
   "metadata": {},
   "outputs": [],
   "source": [
    "dtype_dict = {'bathrooms':float, 'waterfront':int, 'sqft_above':int, 'sqft_living15':float, 'grade':int, 'yr_renovated':int, 'price':float, 'bedrooms':float, 'zipcode':str, 'long':float, 'sqft_lot15':float, 'sqft_living':float, 'floors':float, 'condition':int, 'lat':float, 'date':str, 'sqft_basement':int, 'yr_built':int, 'id':str, 'sqft_lot':int, 'view':int}\n",
    "\n",
    "sales = pd.read_csv('kc_house_data.csv', dtype=dtype_dict)\n",
    "sales = sales.sort_values(['sqft_living','price'])"
   ]
  },
  {
   "cell_type": "markdown",
   "metadata": {},
   "source": [
    "# Create new features"
   ]
  },
  {
   "cell_type": "markdown",
   "metadata": {},
   "source": [
    "As in Week 2, we consider features that are some transformations of inputs."
   ]
  },
  {
   "cell_type": "code",
   "execution_count": 3,
   "metadata": {},
   "outputs": [],
   "source": [
    "from math import log, sqrt\n",
    "sales['sqft_living_sqrt'] = sales['sqft_living'].apply(sqrt)\n",
    "sales['sqft_lot_sqrt'] = sales['sqft_lot'].apply(sqrt)\n",
    "sales['bedrooms_square'] = sales['bedrooms']*sales['bedrooms']\n",
    "\n",
    "# In the dataset, 'floors' was defined with type string, \n",
    "# so we'll convert them to float, before creating a new feature.\n",
    "sales['floors'] = sales['floors'].astype(float) \n",
    "sales['floors_square'] = sales['floors']*sales['floors']"
   ]
  },
  {
   "cell_type": "markdown",
   "metadata": {},
   "source": [
    "* Squaring bedrooms will increase the separation between not many bedrooms (e.g. 1) and lots of bedrooms (e.g. 4) since 1^2 = 1 but 4^2 = 16. Consequently this variable will mostly affect houses with many bedrooms.\n",
    "* On the other hand, taking square root of sqft_living will decrease the separation between big house and small house. The owner may not be exactly twice as happy for getting a house that is twice as big."
   ]
  },
  {
   "cell_type": "markdown",
   "metadata": {},
   "source": [
    "# Learn regression weights with L1 penalty"
   ]
  },
  {
   "cell_type": "markdown",
   "metadata": {},
   "source": [
    "Let us fit a model with all the features available, plus the features we just created above."
   ]
  },
  {
   "cell_type": "markdown",
   "metadata": {},
   "source": [
    "Using the entire house dataset, learn regression weights using an L1 penalty of 5e2. Make sure to add \"normalize=True\" when creating the Lasso object. Refer to the following code snippet for the list of features."
   ]
  },
  {
   "cell_type": "code",
   "execution_count": 4,
   "metadata": {},
   "outputs": [],
   "source": [
    "all_features = ['bedrooms', 'bedrooms_square',\n",
    "                'bathrooms',\n",
    "                'sqft_living', 'sqft_living_sqrt',\n",
    "                'sqft_lot', 'sqft_lot_sqrt',\n",
    "                'floors', 'floors_square',\n",
    "                'waterfront', 'view', 'condition', 'grade',\n",
    "                'sqft_above',\n",
    "                'sqft_basement',\n",
    "                'yr_built', 'yr_renovated']\n",
    "\n",
    "reg_all = Lasso(alpha=5e2,normalize=True)\n",
    "model_all = reg_all.fit(sales[all_features], sales['price'])"
   ]
  },
  {
   "cell_type": "markdown",
   "metadata": {},
   "source": [
    "Find what features had non-zero weight."
   ]
  },
  {
   "cell_type": "code",
   "execution_count": 5,
   "metadata": {
    "hideOutput": true
   },
   "outputs": [
    {
     "name": "stdout",
     "output_type": "stream",
     "text": [
      "   Selected Features  Coefficients\n",
      "0           bedrooms      0.000000\n",
      "1    bedrooms_square      0.000000\n",
      "2          bathrooms      0.000000\n",
      "3        sqft_living    134.439314\n",
      "4   sqft_living_sqrt      0.000000\n",
      "5           sqft_lot      0.000000\n",
      "6      sqft_lot_sqrt      0.000000\n",
      "7             floors      0.000000\n",
      "8      floors_square      0.000000\n",
      "9         waterfront      0.000000\n",
      "10              view  24750.004586\n",
      "11         condition      0.000000\n",
      "12             grade  61749.103091\n",
      "13        sqft_above      0.000000\n",
      "14     sqft_basement      0.000000\n",
      "15          yr_built     -0.000000\n",
      "16      yr_renovated      0.000000\n",
      "\n",
      "Features with non-zero coefficients are : \n",
      "\n",
      "    Selected Features  Coefficients\n",
      "3        sqft_living    134.439314\n",
      "10              view  24750.004586\n",
      "12             grade  61749.103091\n"
     ]
    }
   ],
   "source": [
    "data = {'Selected Features' : all_features, 'Coefficients' : model_all.coef_}\n",
    "selected_features = pd.DataFrame(data=data)\n",
    "print(selected_features)\n",
    "selected_features = selected_features[selected_features['Coefficients'] > 0]\n",
    "\n",
    "print('\\nFeatures with non-zero coefficients are : \\n\\n' ,selected_features)"
   ]
  },
  {
   "cell_type": "markdown",
   "metadata": {},
   "source": [
    "Note that a majority of the weights have been set to zero. So by setting an L1 penalty that's large enough, we are performing a subset selection"
   ]
  },
  {
   "cell_type": "markdown",
   "metadata": {},
   "source": [
    "<font color = 'steelblue'><b> Quiz :  Which features have been chosen by LASSO, i.e. which features were assigned nonzero weights?\n",
    "\n",
    "<font color = 'mediumvioletred'><b> Answer : `sqft_living`,\t`view` and `grade` were features selected by LASSO  </b></font>"
   ]
  },
  {
   "cell_type": "markdown",
   "metadata": {},
   "source": [
    "# Selecting an L1 penalty"
   ]
  },
  {
   "cell_type": "markdown",
   "metadata": {},
   "source": [
    "To find a good L1 penalty, we will explore multiple values using a validation set. Let us do three way split into train, validation, and test sets:\n",
    "* Split our sales data into 2 sets: training and test\n",
    "* Further split our training data into two sets: train, validation\n",
    "\n",
    "Be *very* careful that you use seed = 1 to ensure you get the same answer!"
   ]
  },
  {
   "cell_type": "code",
   "execution_count": 6,
   "metadata": {},
   "outputs": [],
   "source": [
    "test = pd.read_csv('wk3_kc/wk3_kc_house_test_data.csv', dtype=dtype_dict)\n",
    "train = pd.read_csv('wk3_kc/wk3_kc_house_train_data.csv', dtype=dtype_dict)\n",
    "validation = pd.read_csv('wk3_kc/wk3_kc_house_valid_data.csv', dtype=dtype_dict)"
   ]
  },
  {
   "cell_type": "markdown",
   "metadata": {},
   "source": [
    "Make sure to create the 4 features as we did earlier:"
   ]
  },
  {
   "cell_type": "code",
   "execution_count": 7,
   "metadata": {},
   "outputs": [],
   "source": [
    "test['sqft_living_sqrt'] = test['sqft_living'].apply(sqrt)\n",
    "test['sqft_lot_sqrt'] = test['sqft_lot'].apply(sqrt)\n",
    "test['bedrooms_square'] = test['bedrooms']*test['bedrooms']\n",
    "test['floors_square'] = test['floors']*test['floors']\n",
    "\n",
    "train['sqft_living_sqrt'] = train['sqft_living'].apply(sqrt)\n",
    "train['sqft_lot_sqrt'] = train['sqft_lot'].apply(sqrt)\n",
    "train['bedrooms_square'] = train['bedrooms']*train['bedrooms']\n",
    "train['floors_square'] = train['floors']*train['floors']\n",
    "\n",
    "validation['sqft_living_sqrt'] = validation['sqft_living'].apply(sqrt)\n",
    "validation['sqft_lot_sqrt'] = validation['sqft_lot'].apply(sqrt)\n",
    "validation['bedrooms_square'] = validation['bedrooms']*validation['bedrooms']\n",
    "validation['floors_square'] = validation['floors']*validation['floors']"
   ]
  },
  {
   "cell_type": "markdown",
   "metadata": {},
   "source": [
    "Now for each l1_penalty in [10^1, 10^1.5, 10^2, 10^2.5, ..., 10^7] (to get this in Python, type np.logspace(1, 7, num=13).)\n",
    "\n",
    "* Learn a model on TRAINING data using the specified l1_penalty. Make sure to specify normalize=True in the constructor\n",
    "* Compute the RSS on VALIDATION for the current model (print or save the RSS)\n",
    "\n",
    "Report which `l1_penalty` produced the lowest RSS on validation data."
   ]
  },
  {
   "cell_type": "code",
   "execution_count": 8,
   "metadata": {},
   "outputs": [
    {
     "name": "stdout",
     "output_type": "stream",
     "text": [
      "L1 Penalty :  10.0 \tRSS :  398213327300135.0 \n",
      "\n",
      "L1 Penalty :  31.622776601683793 \tRSS :  399041900253346.8 \n",
      "\n",
      "L1 Penalty :  100.0 \tRSS :  429791604072559.56 \n",
      "\n",
      "L1 Penalty :  316.22776601683796 \tRSS :  463739831045121.06 \n",
      "\n",
      "L1 Penalty :  1000.0 \tRSS :  645898733633800.8 \n",
      "\n",
      "L1 Penalty :  3162.2776601683795 \tRSS :  1222506859427163.0 \n",
      "\n",
      "L1 Penalty :  10000.0 \tRSS :  1222506859427163.0 \n",
      "\n",
      "L1 Penalty :  31622.776601683792 \tRSS :  1222506859427163.0 \n",
      "\n",
      "L1 Penalty :  100000.0 \tRSS :  1222506859427163.0 \n",
      "\n",
      "L1 Penalty :  316227.7660168379 \tRSS :  1222506859427163.0 \n",
      "\n",
      "L1 Penalty :  1000000.0 \tRSS :  1222506859427163.0 \n",
      "\n",
      "L1 Penalty :  3162277.6601683795 \tRSS :  1222506859427163.0 \n",
      "\n",
      "L1 Penalty :  10000000.0 \tRSS :  1222506859427163.0 \n",
      "\n",
      "\n",
      "Best RSS on Test data is with  10.0  with RSS of  398213327300135.0\n"
     ]
    }
   ],
   "source": [
    "L1 = []\n",
    "RSS_list = []\n",
    "for l1_penalty in np.logspace(1, 7, num=13) :\n",
    "    reg_train = Lasso(alpha=l1_penalty, normalize=True)\n",
    "    model_train = reg_train.fit(train[all_features], train['price'])\n",
    "    predictions = reg_train.predict(validation[all_features])\n",
    "    \n",
    "    residuals = predictions - validation['price']\n",
    "    RSS = np.sum(np.square(residuals))\n",
    "    print('L1 Penalty : ', l1_penalty, '\\tRSS : ', RSS, '\\n')\n",
    "    L1.append(l1_penalty)\n",
    "    RSS_list.append(RSS)\n",
    "    \n",
    "    \n",
    "'''The code below is used to answer the quiz question as below'''\n",
    "# Create a dictionary with the keys as 'L1' and the values as 'RSS_List'\n",
    "L1_list = dict(zip(L1,RSS_list))\n",
    "\n",
    "# Get the key for the minimum value in the dictionary\n",
    "best_L1 = min(L1_list, key=L1_list.get)\n",
    "\n",
    "print('\\nBest RSS on Test data is with ', best_L1, ' with RSS of ', min(RSS_list))\n"
   ]
  },
  {
   "cell_type": "markdown",
   "metadata": {},
   "source": [
    "<font color = 'steelblue'><b> Quiz :  Which was the best value for the l1_penalty, i.e. which value of l1_penalty produced the lowest RSS on VALIDATION data?\n",
    "\n",
    "<font color = 'mediumvioletred'><b> Answer : The best value for `best_L1` is {{best_L1}} since it produced the lowest RSS on VALIDATION data </b></font>"
   ]
  },
  {
   "cell_type": "markdown",
   "metadata": {},
   "source": [
    "Now that you have selected an L1 penalty, compute the RSS on TEST data for the model with the best L1 penalty."
   ]
  },
  {
   "cell_type": "code",
   "execution_count": 9,
   "metadata": {},
   "outputs": [
    {
     "name": "stdout",
     "output_type": "stream",
     "text": [
      "RSS on TEST data :  97246664646602.88\n",
      "Total number of non-zero coefficients :  16\n"
     ]
    }
   ],
   "source": [
    "reg_test = Lasso(alpha=10, normalize=True,max_iter=10000)\n",
    "model_test = reg_test.fit(test[all_features], test['price'])\n",
    "predictions = reg_test.predict(test[all_features])\n",
    "    \n",
    "residuals = predictions - test['price']\n",
    "RSS = np.sum(np.square(residuals))\n",
    "print('RSS on TEST data : ', RSS)\n",
    "'''The code below is used to answer the quiz question as below'''\n",
    "\n",
    "if model_test.intercept_ != 0 : \n",
    "    total_count = np.count_nonzero(model_test.coef_) + 1\n",
    "    print('Total number of non-zero coefficients : ', total_count)\n",
    "\n",
    "elif model_test.intercept_ == 0 :\n",
    "    total_count = np.count_nonzero(model_test.coef_)\n",
    "    print('Total number of non-zero coefficients : ', total_count)"
   ]
  },
  {
   "cell_type": "markdown",
   "metadata": {},
   "source": [
    "<font color = 'steelblue'><b> Quiz :  Using the best L1 penalty, how many nonzero weights do you have? Count the number of nonzero coefficients first, and add 1 if the intercept is also nonzero\n",
    "\n",
    "<font color = 'mediumvioletred'><b> Answer : The total number of non-zero coefficients is {{total_count}} </b></font>"
   ]
  },
  {
   "cell_type": "markdown",
   "metadata": {},
   "source": [
    "# Limit the number of nonzero weights\n",
    "\n",
    "What if we absolutely wanted to limit ourselves to, say, 7 features? This may be important if we want to derive \"a rule of thumb\" --- an interpretable model that has only a few features in them."
   ]
  },
  {
   "cell_type": "markdown",
   "metadata": {},
   "source": [
    "In this section, you are going to implement a simple, two phase procedure to achive this goal:\n",
    "* Explore a large range of `l1_penalty` values to find a narrow region of `l1_penalty` values where models are likely to have the desired number of non-zero weights.\n",
    "* Further explore the narrow region you found to find a good value for `l1_penalty` that achieves the desired sparsity.  Here, we will again use a validation set to choose the best value for `l1_penalty`.\n",
    "* Assign 7 to the variable ‘max_nonzeros’.\n"
   ]
  },
  {
   "cell_type": "markdown",
   "metadata": {},
   "source": [
    "Exploring large range of l1_penalty\n",
    "\n",
    "For l1_penalty in np.logspace(1, 4, num=20):\n",
    "\n",
    "* Fit a regression model with a given l1_penalty on TRAIN data. Add \"alpha=l1_penalty\" and \"normalize=True\" to the parameter list.\n",
    "* Extract the weights of the model and count the number of nonzeros. Take account of the intercept as we did earlier, adding 1 whenever the intercept is nonzero. Save the number of nonzeros to a list."
   ]
  },
  {
   "cell_type": "code",
   "execution_count": 10,
   "metadata": {},
   "outputs": [
    {
     "name": "stdout",
     "output_type": "stream",
     "text": [
      "L1 Penalty :  10.0 \tRSS :  398213327300135.0 \n",
      "Number of non-zero coefficients :  15 \n",
      "\n",
      "L1 Penalty :  14.38449888287663 \tRSS :  396831833943813.5 \n",
      "Number of non-zero coefficients :  15 \n",
      "\n",
      "L1 Penalty :  20.6913808111479 \tRSS :  396210901853184.3 \n",
      "Number of non-zero coefficients :  15 \n",
      "\n",
      "L1 Penalty :  29.76351441631318 \tRSS :  398215534574786.06 \n",
      "Number of non-zero coefficients :  15 \n",
      "\n",
      "L1 Penalty :  42.81332398719393 \tRSS :  406877258520204.6 \n",
      "Number of non-zero coefficients :  13 \n",
      "\n",
      "L1 Penalty :  61.58482110660264 \tRSS :  424647490490609.44 \n",
      "Number of non-zero coefficients :  12 \n",
      "\n",
      "L1 Penalty :  88.58667904100822 \tRSS :  427906308934484.8 \n",
      "Number of non-zero coefficients :  11 \n",
      "\n",
      "L1 Penalty :  127.42749857031335 \tRSS :  435374677102680.6 \n",
      "Number of non-zero coefficients :  10 \n",
      "\n",
      "L1 Penalty :  183.29807108324357 \tRSS :  443107216261395.56 \n",
      "Number of non-zero coefficients :  7 \n",
      "\n",
      "L1 Penalty :  263.6650898730358 \tRSS :  454176669662635.25 \n",
      "Number of non-zero coefficients :  6 \n",
      "\n",
      "L1 Penalty :  379.26901907322497 \tRSS :  478132980831627.0 \n",
      "Number of non-zero coefficients :  6 \n",
      "\n",
      "L1 Penalty :  545.5594781168514 \tRSS :  531397181866766.5 \n",
      "Number of non-zero coefficients :  6 \n",
      "\n",
      "L1 Penalty :  784.7599703514607 \tRSS :  594043306274207.4 \n",
      "Number of non-zero coefficients :  5 \n",
      "\n",
      "L1 Penalty :  1128.8378916846884 \tRSS :  674059169985784.2 \n",
      "Number of non-zero coefficients :  3 \n",
      "\n",
      "L1 Penalty :  1623.776739188721 \tRSS :  802609410822920.8 \n",
      "Number of non-zero coefficients :  3 \n",
      "\n",
      "L1 Penalty :  2335.7214690901214 \tRSS :  1061255252873615.0 \n",
      "Number of non-zero coefficients :  2 \n",
      "\n",
      "L1 Penalty :  3359.818286283781 \tRSS :  1222506859427163.0 \n",
      "Number of non-zero coefficients :  1 \n",
      "\n",
      "L1 Penalty :  4832.930238571752 \tRSS :  1222506859427163.0 \n",
      "Number of non-zero coefficients :  1 \n",
      "\n",
      "L1 Penalty :  6951.927961775606 \tRSS :  1222506859427163.0 \n",
      "Number of non-zero coefficients :  1 \n",
      "\n",
      "L1 Penalty :  10000.0 \tRSS :  1222506859427163.0 \n",
      "Number of non-zero coefficients :  1 \n",
      "\n"
     ]
    }
   ],
   "source": [
    "max_nonzeros = 7\n",
    "not_zeros = 0\n",
    "L1_penalties = []\n",
    "RSS_ = []\n",
    "non_zeros = []\n",
    "\n",
    "for l1_penalty in np.logspace(1, 4, num=20):\n",
    "    reg_limited = Lasso(alpha=l1_penalty,normalize=True)\n",
    "    model_limited = reg_limited.fit(train[all_features], train['price'])\n",
    "    \n",
    "    predictions = reg_limited.predict(validation[all_features])\n",
    "    \n",
    "    residuals = predictions - validation['price']\n",
    "    RSS = np.sum(np.square(residuals))\n",
    "    \n",
    "    if model_limited.intercept_ != 0 : \n",
    "        not_zeros = np.count_nonzero(model_limited.coef_) + 1\n",
    "        print('L1 Penalty : ', l1_penalty, '\\tRSS : ', RSS, '\\nNumber of non-zero coefficients : ', \n",
    "              not_zeros, '\\n')\n",
    "    \n",
    "    elif model_limited.intercept_ == 0 :\n",
    "        not_zeros = np.count_nonzero(model_limited.coef_)\n",
    "        print('L1 Penalty : ', l1_penalty, '\\nNumber of non-zero coefficients : ', not_zeros, '\\n')\n",
    "    \n",
    "    L1_penalties.append(l1_penalty)\n",
    "    RSS_.append(RSS)\n",
    "    non_zeros.append(not_zeros)"
   ]
  },
  {
   "cell_type": "code",
   "execution_count": 11,
   "metadata": {},
   "outputs": [
    {
     "name": "stdout",
     "output_type": "stream",
     "text": [
      "MAX DF Before Dropping : \n",
      "     non_zeros            l1           rss\n",
      "0          15     10.000000  3.982133e+14\n",
      "1          15     14.384499  3.968318e+14\n",
      "2          15     20.691381  3.962109e+14\n",
      "3          15     29.763514  3.982155e+14\n",
      "4          13     42.813324  4.068773e+14\n",
      "5          12     61.584821  4.246475e+14\n",
      "6          11     88.586679  4.279063e+14\n",
      "7          10    127.427499  4.353747e+14\n",
      "8           7    183.298071  4.431072e+14\n",
      "9           6    263.665090  4.541767e+14\n",
      "10          6    379.269019  4.781330e+14\n",
      "11          6    545.559478  5.313972e+14\n",
      "12          5    784.759970  5.940433e+14\n",
      "13          3   1128.837892  6.740592e+14\n",
      "14          3   1623.776739  8.026094e+14\n",
      "15          2   2335.721469  1.061255e+15\n",
      "16          1   3359.818286  1.222507e+15\n",
      "17          1   4832.930239  1.222507e+15\n",
      "18          1   6951.927962  1.222507e+15\n",
      "19          1  10000.000000  1.222507e+15\n",
      "\n",
      "MAX DF After Dropping :\n",
      "     non_zeros            l1           rss\n",
      "9           6    263.665090  4.541767e+14\n",
      "10          6    379.269019  4.781330e+14\n",
      "11          6    545.559478  5.313972e+14\n",
      "12          5    784.759970  5.940433e+14\n",
      "13          3   1128.837892  6.740592e+14\n",
      "14          3   1623.776739  8.026094e+14\n",
      "15          2   2335.721469  1.061255e+15\n",
      "16          1   3359.818286  1.222507e+15\n",
      "17          1   4832.930239  1.222507e+15\n",
      "18          1   6951.927962  1.222507e+15\n",
      "19          1  10000.000000  1.222507e+15 \n",
      "\n",
      "\n",
      "MIN DF Before Dropping : \n",
      "     non_zeros            l1           rss\n",
      "0          15     10.000000  3.982133e+14\n",
      "1          15     14.384499  3.968318e+14\n",
      "2          15     20.691381  3.962109e+14\n",
      "3          15     29.763514  3.982155e+14\n",
      "4          13     42.813324  4.068773e+14\n",
      "5          12     61.584821  4.246475e+14\n",
      "6          11     88.586679  4.279063e+14\n",
      "7          10    127.427499  4.353747e+14\n",
      "8           7    183.298071  4.431072e+14\n",
      "9           6    263.665090  4.541767e+14\n",
      "10          6    379.269019  4.781330e+14\n",
      "11          6    545.559478  5.313972e+14\n",
      "12          5    784.759970  5.940433e+14\n",
      "13          3   1128.837892  6.740592e+14\n",
      "14          3   1623.776739  8.026094e+14\n",
      "15          2   2335.721469  1.061255e+15\n",
      "16          1   3359.818286  1.222507e+15\n",
      "17          1   4832.930239  1.222507e+15\n",
      "18          1   6951.927962  1.222507e+15\n",
      "19          1  10000.000000  1.222507e+15\n",
      "\n",
      "MIN DF After Dropping :\n",
      "    non_zeros          l1           rss\n",
      "0         15   10.000000  3.982133e+14\n",
      "1         15   14.384499  3.968318e+14\n",
      "2         15   20.691381  3.962109e+14\n",
      "3         15   29.763514  3.982155e+14\n",
      "4         13   42.813324  4.068773e+14\n",
      "5         12   61.584821  4.246475e+14\n",
      "6         11   88.586679  4.279063e+14\n",
      "7         10  127.427499  4.353747e+14 \n",
      "\n"
     ]
    }
   ],
   "source": [
    "# Create a dataframe with 'non_zeros', 'RSS_' and 'L1_penalties'\n",
    "data = {'non_zeros' : non_zeros, 'l1' : L1_penalties, 'rss' :RSS_}\n",
    "df = pd.DataFrame(data=data)\n",
    "\n",
    "print('MAX DF Before Dropping : \\n', df)\n",
    "df_max = df[df['non_zeros'] < max_nonzeros]\n",
    "print('\\nMAX DF After Dropping :\\n', df_max, '\\n')\n",
    "\n",
    "print('\\nMIN DF Before Dropping : \\n', df)\n",
    "df_min = df[df['non_zeros'] > max_nonzeros]\n",
    "print('\\nMIN DF After Dropping :\\n', df_min, '\\n')"
   ]
  },
  {
   "cell_type": "markdown",
   "metadata": {},
   "source": [
    "Out of this large range, we want to find the two ends of our desired narrow range of l1_penalty. At one end, we will have l1_penalty values that have too few non-zeros, and at the other end, we will have an l1_penalty that has too many non-zeros.\n",
    "\n",
    "More formally, find:\n",
    "\n",
    "* The largest l1_penalty that has more non-zeros than ‘max_nonzeros’ (if we pick a penalty smaller than this value, we will definitely have too many non-zero weights)Store this value in the variable **‘l1_penalty_min’** (we will use it later)\n",
    "* The smallest l1_penalty that has fewer non-zeros than ‘max_nonzeros’ (if we pick a penalty larger than this value, we will definitely have too few non-zero weights)Store this value in the variable **‘l1_penalty_max’** (we will use it later)\n",
    "\n",
    "Hint: there are many ways to do this, e.g.:\n",
    "\n",
    "* Programmatically within the loop above\n",
    "* Creating a list with the number of non-zeros for each value of l1_penalty and inspecting it to find the appropriate boundaries."
   ]
  },
  {
   "cell_type": "code",
   "execution_count": 12,
   "metadata": {},
   "outputs": [
    {
     "data": {
      "text/plain": [
       "(127.42749857031335, 263.6650898730358)"
      ]
     },
     "execution_count": 12,
     "metadata": {},
     "output_type": "execute_result"
    }
   ],
   "source": [
    "l1_penalty_max = min(df_max['l1'])\n",
    "l1_penalty_min = max(df_min['l1'])\n",
    "\n",
    "l1_penalty_min, l1_penalty_max"
   ]
  },
  {
   "cell_type": "markdown",
   "metadata": {},
   "source": [
    "<font color = 'steelblue'><b> Quiz :  What values did you find for `l1_penalty_min` and `l1_penalty_max`, respectively?\n",
    "\n",
    "<font color = 'mediumvioletred'><b> Answer : The values are as below : </b></font>\n",
    "<font color = 'slategray'><b>\n",
    "- l1_penalty_min = 127.42749857031335\n",
    "- l1_penalty_max = 263.6650898730358\n",
    "    </b></font>"
   ]
  },
  {
   "cell_type": "markdown",
   "metadata": {},
   "source": [
    "## Exploring the narrow range of values to find the solution with the right number of non-zeros that has lowest RSS on the validation set \n",
    "\n",
    "We will now explore the narrow region of `l1_penalty` values we found:"
   ]
  },
  {
   "cell_type": "markdown",
   "metadata": {},
   "source": [
    "* For `l1_penalty` in `np.linspace(l1_penalty_min,l1_penalty_max,20)`:\n",
    "    * Fit a regression model with a given `l1_penalty` on TRAIN data\n",
    "    * Measure the RSS of the learned model on the VALIDATION set\n",
    "\n",
    "Find the model that the lowest RSS on the VALIDATION set and has sparsity *equal* to `max_nonzeros`."
   ]
  },
  {
   "cell_type": "code",
   "execution_count": 13,
   "metadata": {},
   "outputs": [
    {
     "name": "stdout",
     "output_type": "stream",
     "text": [
      "L1 Penalty :  127.42749857031335 \tRSS :  435374677102680.6 \n",
      "Number of non-zero coefficients :  10 \n",
      "\n",
      "L1 Penalty :  134.5978981125619 \tRSS :  437009229124471.25 \n",
      "Number of non-zero coefficients :  10 \n",
      "\n",
      "L1 Penalty :  141.76829765481045 \tRSS :  438236128386912.2 \n",
      "Number of non-zero coefficients :  8 \n",
      "\n",
      "L1 Penalty :  148.938697197059 \tRSS :  439158937799660.1 \n",
      "Number of non-zero coefficients :  8 \n",
      "\n",
      "L1 Penalty :  156.10909673930755 \tRSS :  440037365263316.56 \n",
      "Number of non-zero coefficients :  7 \n",
      "\n",
      "L1 Penalty :  163.2794962815561 \tRSS :  440777489641605.1 \n",
      "Number of non-zero coefficients :  7 \n",
      "\n",
      "L1 Penalty :  170.44989582380464 \tRSS :  441566698090139.94 \n",
      "Number of non-zero coefficients :  7 \n",
      "\n",
      "L1 Penalty :  177.6202953660532 \tRSS :  442406413188666.3 \n",
      "Number of non-zero coefficients :  7 \n",
      "\n",
      "L1 Penalty :  184.79069490830176 \tRSS :  443296716874314.9 \n",
      "Number of non-zero coefficients :  7 \n",
      "\n",
      "L1 Penalty :  191.96109445055032 \tRSS :  444239780526141.6 \n",
      "Number of non-zero coefficients :  7 \n",
      "\n",
      "L1 Penalty :  199.13149399279888 \tRSS :  445230739842614.25 \n",
      "Number of non-zero coefficients :  7 \n",
      "\n",
      "L1 Penalty :  206.3018935350474 \tRSS :  446268896864706.3 \n",
      "Number of non-zero coefficients :  6 \n",
      "\n",
      "L1 Penalty :  213.47229307729594 \tRSS :  447112919434640.56 \n",
      "Number of non-zero coefficients :  6 \n",
      "\n",
      "L1 Penalty :  220.6426926195445 \tRSS :  447998187851564.94 \n",
      "Number of non-zero coefficients :  6 \n",
      "\n",
      "L1 Penalty :  227.81309216179307 \tRSS :  448924706673255.06 \n",
      "Number of non-zero coefficients :  6 \n",
      "\n",
      "L1 Penalty :  234.98349170404163 \tRSS :  449892475899711.0 \n",
      "Number of non-zero coefficients :  6 \n",
      "\n",
      "L1 Penalty :  242.1538912462902 \tRSS :  450901498778123.25 \n",
      "Number of non-zero coefficients :  6 \n",
      "\n",
      "L1 Penalty :  249.32429078853872 \tRSS :  451952426654987.0 \n",
      "Number of non-zero coefficients :  6 \n",
      "\n",
      "L1 Penalty :  256.49469033078725 \tRSS :  453043924367599.25 \n",
      "Number of non-zero coefficients :  6 \n",
      "\n",
      "L1 Penalty :  263.6650898730358 \tRSS :  454176669662635.25 \n",
      "Number of non-zero coefficients :  6 \n",
      "\n"
     ]
    }
   ],
   "source": [
    "l1_penalty_values = np.linspace(l1_penalty_min,l1_penalty_max,20)\n",
    "\n",
    "not_zeros = 0\n",
    "non_zeros = []\n",
    "best_RSS = []\n",
    "best_l1 = []\n",
    "\n",
    "\n",
    "for l1_penalty in l1_penalty_values :\n",
    "    reg_range = Lasso(alpha=l1_penalty,normalize=True,max_iter=500000)\n",
    "    model_range = reg_range.fit(train[all_features], train['price'])\n",
    "    \n",
    "    predictions = reg_range.predict(validation[all_features])\n",
    "    \n",
    "    residuals = predictions - validation['price']\n",
    "    RSS = np.sum(np.square(residuals))\n",
    "    \n",
    "    if model_range.intercept_ != 0 : \n",
    "        not_zeros = np.count_nonzero(model_range.coef_) + 1\n",
    "        print('L1 Penalty : ', l1_penalty, '\\tRSS : ', RSS, '\\nNumber of non-zero coefficients : ', \n",
    "              not_zeros, '\\n')\n",
    "    \n",
    "    elif model.intercept_ == 0 :\n",
    "        not_zeros = np.count_nonzero(model_range.coef_)\n",
    "        print('L1 Penalty : ', l1_penalty, '\\nNumber of non-zero coefficients : ', not_zeros, '\\n')\n",
    "\n",
    "    best_l1.append(l1_penalty)\n",
    "    best_RSS.append(RSS)\n",
    "    non_zeros.append(not_zeros)"
   ]
  },
  {
   "cell_type": "code",
   "execution_count": 14,
   "metadata": {},
   "outputs": [
    {
     "name": "stdout",
     "output_type": "stream",
     "text": [
      "\n",
      "L1 Penalty 42.81332398719393  has is the lowest L1 Penalty with RSS of 406877258520204.6\n",
      "Features with non-zero coefficients are : \n",
      "\n",
      "        Features   Coefficients\n",
      "3   sqft_living     164.307714\n",
      "9    waterfront  420588.370815\n",
      "10         view   40094.951895\n",
      "12        grade  104485.991764\n"
     ]
    }
   ],
   "source": [
    "data = {'non_zeros' : non_zeros, 'L1 Penalty' : L1_penalties, 'RSS' :RSS_}\n",
    "df = pd.DataFrame(data=data)\n",
    "#print('Before Selecting :\\n', df)\n",
    "df = df[df['non_zeros'] == max_nonzeros]\n",
    "#print('\\nAfter Selecting :\\n', df)\n",
    "\n",
    "\n",
    "# The code below is used to answer the quiz question as below\n",
    "lowest_rss = min(df['RSS'])\n",
    "df = df[df['RSS']==lowest_rss]\n",
    "#print('\\nLowest DF:\\n',df)\n",
    "print('\\nL1 Penalty', df['L1 Penalty'].item(), ' has is the lowest L1 Penalty with RSS of', df['RSS'].item())\n",
    "\n",
    "data_coef = {'Features' : all_features, 'Coefficients' : model_range.coef_}\n",
    "df_coef = pd.DataFrame(data=data_coef)\n",
    "df_coef = df_coef[df_coef['Coefficients'] > 0]\n",
    "print('Features with non-zero coefficients are : \\n\\n' ,df_coef)\n",
    "\n",
    "#print('\\n\\nModel Coefficients :\\n', pd.Series(model_range.coef_,index=all_features))"
   ]
  },
  {
   "cell_type": "markdown",
   "metadata": {},
   "source": [
    "<font color = 'steelblue'><b> Quiz 1:  What value of `l1_penalty` in our narrow range has the lowest RSS on the VALIDATION set and has sparsity *equal* to `max_nonzeros`?\n",
    "\n",
    "<font color = 'mediumvioletred'><b> Answer 1 : The value for `l1_penalty` in range with sparsity equal to `max_zeros` is 42.81332398719393 </b></font>\n",
    "\n",
    "<br/>\n",
    "\n",
    "<font color = 'steelblue'><b> Quiz 2:  What features in this model have non-zero coefficients?\n",
    "\n",
    "<font color = 'mediumvioletred'><b> Answer 2 : `sqft_living`, `waterfront`, `view` and `grade` are features with non-zero coefficients </b></font>"
   ]
  }
 ],
 "metadata": {
  "kernelspec": {
   "display_name": "Python 3",
   "language": "python",
   "name": "python3"
  },
  "language_info": {
   "codemirror_mode": {
    "name": "ipython",
    "version": 3
   },
   "file_extension": ".py",
   "mimetype": "text/x-python",
   "name": "python",
   "nbconvert_exporter": "python",
   "pygments_lexer": "ipython3",
   "version": "3.6.5"
  }
 },
 "nbformat": 4,
 "nbformat_minor": 4
}
