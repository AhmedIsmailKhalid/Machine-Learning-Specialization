{
 "cells": [
  {
   "cell_type": "markdown",
   "metadata": {
    "hideCode": true,
    "hidePrompt": true
   },
   "source": [
    "# Regression Week 1: Simple Linear Regression"
   ]
  },
  {
   "cell_type": "markdown",
   "metadata": {
    "hideCode": true,
    "hidePrompt": true
   },
   "source": [
    "In this notebook we will use data on house sales in King County to predict house prices using simple (one input) linear regression. You will:\n",
    "* Write a function to compute the Simple Linear Regression weights using the closed form solution\n",
    "* Write a function to make predictions of the output given the input feature\n",
    "* Turn the regression around to predict the input given the output\n",
    "* Compare two different models for predicting house prices\n",
    "\n",
    "In this notebook you will be provided with some already complete code as well as some code that you should complete yourself in order to answer quiz questions. The code we provide to complte is optional and is there to assist you with solving the problems but feel free to ignore the helper code and write your own."
   ]
  },
  {
   "cell_type": "code",
   "execution_count": 1,
   "metadata": {},
   "outputs": [],
   "source": [
    "import pandas as pd\n",
    "import numpy as np\n",
    "from sklearn.model_selection import train_test_split"
   ]
  },
  {
   "cell_type": "markdown",
   "metadata": {
    "hideCode": true,
    "hidePrompt": true
   },
   "source": [
    "# Load house sales data\n",
    "\n",
    "Dataset is from house sales in King County, the region where the city of Seattle, WA is located."
   ]
  },
  {
   "cell_type": "code",
   "execution_count": 2,
   "metadata": {},
   "outputs": [],
   "source": [
    "df = pd.read_csv('kc_house_data.csv')"
   ]
  },
  {
   "cell_type": "markdown",
   "metadata": {
    "hideCode": true,
    "hidePrompt": true
   },
   "source": [
    "# Split data into training and testing"
   ]
  },
  {
   "cell_type": "markdown",
   "metadata": {},
   "source": [
    "There are multiple ways to split the data into training and testing sets\n",
    "* The train and test sets are already available as 2 separate csv files : <b><i>kc_house_train_data</i></b> and <b><i>kc_house_test_data</i></b> \n",
    "* Using <b><i>sklearn</i></b> to split the data into train and test sets\n",
    "* Manually splitting the data into train and test sets using pandas built-in <b><i>sample</i></b> method\n",
    "\n",
    "For this notebook, I will use already available csv files for train and test sets. The codes for manually splitting data using sklearn as well as manual splitting are also included in comments for reference purposes. A random state is used to ensure that the data is split in the same manner every time for purposes of reproducing the results"
   ]
  },
  {
   "cell_type": "code",
   "execution_count": 3,
   "metadata": {},
   "outputs": [],
   "source": [
    "# Loading the train and test datasets using the csv files\n",
    "train_data = pd.read_csv('kc_house_train_data.csv')\n",
    "test_data = pd.read_csv('kc_house_test_data.csv')\n",
    "\n",
    "\n",
    "# Code for splitting data manually\n",
    "# train_data = df.sample(frac = 0.8, random_state = 0)\n",
    "# test_data = df.drop(train.index)\n",
    " \n",
    "# Code for splitting data into train and test sets using sklearn\n",
    "# train_data, test_data = train_test_split(df, test_size=0.2, random_state = 0)"
   ]
  },
  {
   "cell_type": "markdown",
   "metadata": {},
   "source": [
    "# Extracting the Input Features and the Output Variable"
   ]
  },
  {
   "cell_type": "markdown",
   "metadata": {},
   "source": [
    "Machine Learning algorithms require set of input features <b><i>X</i></b> and output feature <b><i>Y</i></b>. The pandas <b><i>iloc</i></b> method is used for indexing to get the required columns. Both <b><i>X</i></b> and <b><i>Y</i></b> are also dataframes. For this notebook, Simple Linear Regression or Single Variable Linear Regression is used, hence only one input feature is used. The input feature is <b><i>‘sqft_living’</i></b> and the output feature is <b><i>‘price’</i></b>"
   ]
  },
  {
   "cell_type": "code",
   "execution_count": 4,
   "metadata": {},
   "outputs": [],
   "source": [
    "X = np.array(train_data['sqft_living'])\n",
    "Y = np.array(train_data['price'])"
   ]
  },
  {
   "cell_type": "markdown",
   "metadata": {},
   "source": [
    "# Build a generic simple linear regression function "
   ]
  },
  {
   "cell_type": "markdown",
   "metadata": {},
   "source": [
    "The following function computes the simple linear regression slope and intercept. The equations used for the simple linear regression model are as below :\n",
    "\n",
    "\\begin{equation}\n",
    "Y = a + bX\n",
    "\\end{equation}\n",
    "\n",
    "\\begin{equation}\n",
    "slope (b) = \\frac{\\sum (X - \\bar X) (Y - \\bar Y)}{\\sum (X - \\bar X)^2}\n",
    "\\end{equation}\n",
    "\n",
    "\\begin{equation}\n",
    "intercept (a) = Y - bX \n",
    "\\end{equation}\n",
    "\n",
    "<b> Note : </b> For intercept, use either the mean values of X and Y or take one particular value corresponding to the same index for both X and Y"
   ]
  },
  {
   "cell_type": "code",
   "execution_count": 5,
   "metadata": {},
   "outputs": [],
   "source": [
    "def simple_linear_regression (X, Y) :\n",
    "    \n",
    "    '''\n",
    "    Arguments :\n",
    "    X -- a numpy array containing the values from train dataset for the variable 'sqft_living'\n",
    "    Y -- a numpy array containing the values from train dataset for the variable 'price'\n",
    "    \n",
    "    Returns :\n",
    "    slope -- the slope for the simple linear regression model\n",
    "    intercept -- the intercept for the simple linear regression model\n",
    "    \n",
    "    '''\n",
    "    \n",
    "    # Compute the mean of the X and Y\n",
    "    mean_X = np.mean(X)\n",
    "    mean_Y = np.mean(Y)\n",
    "    \n",
    "    # Compute X - mean_X, Y - mean_Y and square(X - mean)\n",
    "    diff_X = X - mean_X\n",
    "    diff_Y = Y - mean_Y\n",
    "    diff_X_squared = np.square(diff_X)\n",
    "    \n",
    "    \n",
    "    # Compute the summation of (diff_X * diff_Y) and the summation of diff_X_squared\n",
    "    prod_diffX_diffY = np.dot(diff_X, diff_Y)\n",
    "    summation_diff_X_Y = np.sum(prod_diffX_diffY)\n",
    "    summation_diff_X_mean = np.sum(diff_X_squared)\n",
    "    \n",
    "    # Compute the slope\n",
    "    slope = summation_diff_X_Y / summation_diff_X_mean\n",
    "    \n",
    "    # Compute product of N and summation(X squared)\n",
    "    N = len(X)\n",
    "    X_squared = np.square(X)\n",
    "    N_sum_X_squared = N * np.sum(X_squared)\n",
    "    square_sum_X = np.square(np.sum(X))\n",
    "    \n",
    "    # Compute the intercept\n",
    "    intercept = mean_Y - (slope * mean_X)\n",
    "    \n",
    "    return intercept, slope"
   ]
  },
  {
   "cell_type": "markdown",
   "metadata": {},
   "source": [
    "An implementation of the simple linear regression is found as below which uses the equations used for the simple linear regression model as used in the course. The equations are as below :\n",
    "\n",
    "\n",
    "\n",
    "\\begin{equation}\n",
    "Y = a + bX\n",
    "\\end{equation}\n",
    "\n",
    "\\begin{equation}\n",
    "slope (b) = \\frac{\\sum XY - \\frac{1}{N} (\\sum X \\sum Y)}{\\sum X^2 - \\frac{1}{N} (\\sum X)^2)}\n",
    "\\end{equation}\n",
    "\n",
    "\\begin{equation}\n",
    "intercept (a) = Y - bX \n",
    "\\end{equation}\n",
    "\n",
    "<b> Note : </b> For intercept, use either the mean values of X and Y or take one particular value corresponding to the same index for both X and Y\n",
    "\n",
    "    def simple_linear_regression (X, Y) :\n",
    "    \n",
    "    Arguments :\n",
    "    X -- a numpy array containing the values from train dataset for the variable 'sqft_living'\n",
    "    Y -- a numpy array containing the values from train dataset for the variable 'price'\n",
    "    \n",
    "    Returns :\n",
    "    slope -- the slope for the simple linear regression model\n",
    "    intercept -- the intercept for the simple linear regression model\n",
    "        \n",
    "    N = len(X)\n",
    "    \n",
    "    sum_XY = np.dot(X,Y)\n",
    "    prod_sumX_sum_Y = np.sum(X) * np.sum(Y)\n",
    "    \n",
    "    sum_X_square = np.sum(np.square(X))\n",
    "    square_sum_X = np.square(np.sum(X))\n",
    "    \n",
    "    slope = (sum_XY - ((prod_sumX_sum_Y) / N)) / (sum_X_square - ((square_sum_X / N)))\n",
    "    \n",
    "    # Compute the intercept\n",
    "    intercept = np.mean(Y) - (slope * np.mean(X))\n",
    "    \n",
    "    return intercept, slope\n",
    "    \n",
    "    \n",
    "\n"
   ]
  },
  {
   "cell_type": "markdown",
   "metadata": {},
   "source": [
    "We can test that our function works by passing it something where we know the answer. In particular we can generate a feature and then put the output exactly on a line: output = 1 + 1\\*input_feature then we know both our slope and intercept should be 1"
   ]
  },
  {
   "cell_type": "code",
   "execution_count": 6,
   "metadata": {},
   "outputs": [
    {
     "name": "stdout",
     "output_type": "stream",
     "text": [
      "Slope :  1.0\n",
      "Intercept :  1.0\n"
     ]
    }
   ],
   "source": [
    "test_feature = np.array(range(5))\n",
    "test_output = np.array(1 + 1*test_feature)\n",
    "test_intercept, test_slope  =  simple_linear_regression(test_feature, test_output)\n",
    "print('Slope : ' , test_slope)\n",
    "print('Intercept : ' , test_intercept)"
   ]
  },
  {
   "cell_type": "markdown",
   "metadata": {},
   "source": [
    "Now that we know it works let's build a regression model for predicting price based on sqft_living. Rembember that we train on train_data!"
   ]
  },
  {
   "cell_type": "code",
   "execution_count": 7,
   "metadata": {},
   "outputs": [
    {
     "name": "stdout",
     "output_type": "stream",
     "text": [
      "Intercept :  -47116.07907289383\n",
      "Slope :  281.9588396303424\n"
     ]
    }
   ],
   "source": [
    "sqft_intercept, sqft_slope = simple_linear_regression(train_data['sqft_living'], train_data['price'])\n",
    "\n",
    "print('Intercept : ' , sqft_intercept)\n",
    "print('Slope : ' , sqft_slope)"
   ]
  },
  {
   "cell_type": "markdown",
   "metadata": {},
   "source": [
    "# Predicting Values"
   ]
  },
  {
   "cell_type": "markdown",
   "metadata": {},
   "source": [
    "Now that we have the model parameters: intercept & slope we can make predictions. Using numpy arrays it's easy to multiply an numpy array by a constant and add a constant value. Complete the following function to return the predicted output given the input_feature, slope and intercept:"
   ]
  },
  {
   "cell_type": "code",
   "execution_count": 8,
   "metadata": {},
   "outputs": [],
   "source": [
    "def get_regression_predictions(X, intercept, slope):\n",
    "    \n",
    "    '''\n",
    "    Arguments :\n",
    "    X -- a numpy array containing the values from train dataset for the variable 'sqft_living'\n",
    "    Y -- a numpy array containing the values from train dataset for the variable 'price'\n",
    "    intercept -- intercept value learned from train data by the simple linear regression model\n",
    "    slope -- slope value learned from the train data by the simple linear regression model\n",
    "    \n",
    "    Returns :\n",
    "    predicted_values -- predicted value of the using X, intercept and slope\n",
    "    \n",
    "    '''\n",
    "    \n",
    "    # Compute the predicted values\n",
    "    predicted_values = intercept + (slope * X)\n",
    "    \n",
    "    return predicted_values"
   ]
  },
  {
   "cell_type": "markdown",
   "metadata": {},
   "source": [
    "Now that we can calculate a prediction given the slope and intercept let's make a prediction. Use (or alter) the following to find out the estimated price for a house with 2650 squarefeet according to the squarefeet model we estiamted above."
   ]
  },
  {
   "cell_type": "markdown",
   "metadata": {},
   "source": [
    "<font color = 'steelblue'><b> Quiz : Using your Slope and Intercept from (4), What is the predicted price for a house with 2650 sqft? </b></font>"
   ]
  },
  {
   "cell_type": "code",
   "execution_count": 9,
   "metadata": {},
   "outputs": [
    {
     "name": "stdout",
     "output_type": "stream",
     "text": [
      "The estimated price for a house with 2650 squarefeet is $700074.85\n"
     ]
    }
   ],
   "source": [
    "my_house_sqft = 2650\n",
    "estimated_price = get_regression_predictions(my_house_sqft, sqft_intercept, sqft_slope)\n",
    "print('The estimated price for a house with %d squarefeet is $%.2f' % (my_house_sqft, estimated_price))"
   ]
  },
  {
   "cell_type": "markdown",
   "metadata": {},
   "source": [
    "# Residual Sum of Squares"
   ]
  },
  {
   "cell_type": "markdown",
   "metadata": {},
   "source": [
    "Now that we have a model and can make predictions let's evaluate our model using Residual Sum of Squares (RSS). Recall that RSS is the sum of the squares of the residuals and the residuals is just a fancy word for the difference between the predicted output and the true output. \n",
    "\n",
    "Complete the following (or write your own) function to compute the RSS of a simple linear regression model given the input_feature, output, intercept and slope:"
   ]
  },
  {
   "cell_type": "code",
   "execution_count": 10,
   "metadata": {},
   "outputs": [],
   "source": [
    "def get_residual_sum_of_squares(X, Y, intercept, slope) :\n",
    "    \n",
    "    '''\n",
    "    Arguments :\n",
    "    X -- a numpy array containing the values from train dataset for the variable 'sqft_living'\n",
    "    intercept -- intercept value learned from train data by the simple linear regression model\n",
    "    slope -- slope value learned from the train data by the simple linear regression model\n",
    "    \n",
    "    Returns :\n",
    "    RSS -- the residual sum of squares, i.e. the error or loss in the predicted value and the original value\n",
    "    \n",
    "    '''\n",
    "    \n",
    "    # First get the predictions. We convert the predictions to numpy array as Y is also a numpy array\n",
    "    predictions = np.array(get_regression_predictions(X, intercept, slope))\n",
    "\n",
    "    # then compute the residuals (since we are squaring it doesn't matter which order you subtract)\n",
    "    residuals = predictions - Y\n",
    "\n",
    "    # square the residuals and add them up\n",
    "    RSS = np.sum(np.square(residuals))\n",
    "\n",
    "    return(RSS)"
   ]
  },
  {
   "cell_type": "markdown",
   "metadata": {},
   "source": [
    "Let's test our get_residual_sum_of_squares function by applying it to the test model where the data lie exactly on a line. Since they lie exactly on a line the residual sum of squares should be zero!"
   ]
  },
  {
   "cell_type": "code",
   "execution_count": 11,
   "metadata": {},
   "outputs": [
    {
     "name": "stdout",
     "output_type": "stream",
     "text": [
      "0.0\n"
     ]
    }
   ],
   "source": [
    "print(get_residual_sum_of_squares(test_feature, test_output, test_intercept, test_slope)) # should be 0.0"
   ]
  },
  {
   "cell_type": "markdown",
   "metadata": {},
   "source": [
    "Now use your function to calculate the RSS on training data from the squarefeet model calculated above."
   ]
  },
  {
   "cell_type": "markdown",
   "metadata": {},
   "source": [
    "<font color = 'steelblue'><b> Quiz Question: According to this function and the slope and intercept from the squarefeet model What is the RSS for the simple linear regression using squarefeet to predict prices on TRAINING data? </b></font>"
   ]
  },
  {
   "cell_type": "code",
   "execution_count": 12,
   "metadata": {},
   "outputs": [
    {
     "name": "stdout",
     "output_type": "stream",
     "text": [
      "The RSS of predicting Prices based on Square Feet is :  1201918354177283.0\n"
     ]
    }
   ],
   "source": [
    "rss_prices_on_sqft = get_residual_sum_of_squares(train_data['sqft_living'], train_data['price'], sqft_intercept, sqft_slope)\n",
    "\n",
    "print('The RSS of predicting Prices based on Square Feet is : ' , rss_prices_on_sqft)"
   ]
  },
  {
   "cell_type": "markdown",
   "metadata": {},
   "source": [
    "# Predict the squarefeet given price"
   ]
  },
  {
   "cell_type": "markdown",
   "metadata": {},
   "source": [
    "What if we want to predict the squarefoot given the price? Since we have an equation y = a + b\\*x we can solve the function for x. So that if we have the intercept (a) and the slope (b) and the price (y) we can solve for the estimated squarefeet (x).\n",
    "\n",
    "Complete the following function to compute the inverse regression estimate, i.e. predict the input_feature given the output."
   ]
  },
  {
   "cell_type": "code",
   "execution_count": 13,
   "metadata": {},
   "outputs": [],
   "source": [
    "def inverse_regression_predictions(Y, intercept, slope):\n",
    "    \n",
    "    '''\n",
    "    Arguments :\n",
    "    Y -- a numpy array containing the values from train dataset for the variable 'prices'\n",
    "    intercept -- intercept value learned from train data by the simple linear regression model\n",
    "    slope -- slope value learned from the train data by the simple linear regression model\n",
    "    \n",
    "    Returns :\n",
    "    estimated_feature -- estimated value of the the feature 'sqft_living' from the train data\n",
    "    \n",
    "    '''\n",
    "    \n",
    "    # solve output = intercept + slope*input_feature for input_feature. Use this equation to compute the inverse predictions:\n",
    "    estimated_feature = (Y - intercept) / slope\n",
    "\n",
    "    return estimated_feature"
   ]
  },
  {
   "cell_type": "markdown",
   "metadata": {},
   "source": [
    "Now that we have a function to compute the squarefeet given the price from our simple regression model let's see how big we might expect a house that costs $800,000 to be."
   ]
  },
  {
   "cell_type": "markdown",
   "metadata": {},
   "source": [
    "<font color = 'steelblue'><b> Quiz Question: According to this function and the regression slope and intercept from (3) what is the estimated square-feet for a house costing $800,000? </b></font>"
   ]
  },
  {
   "cell_type": "code",
   "execution_count": 14,
   "metadata": {},
   "outputs": [
    {
     "name": "stdout",
     "output_type": "stream",
     "text": [
      "The estimated squarefeet for a house worth $800000.00 is 3004\n"
     ]
    }
   ],
   "source": [
    "my_house_price = 800000\n",
    "estimated_squarefeet = inverse_regression_predictions(my_house_price, sqft_intercept, sqft_slope)\n",
    "\n",
    "print('The estimated squarefeet for a house worth $%.2f is %d' % (my_house_price, estimated_squarefeet))"
   ]
  },
  {
   "cell_type": "markdown",
   "metadata": {},
   "source": [
    "# New Model: estimate prices from bedrooms"
   ]
  },
  {
   "cell_type": "markdown",
   "metadata": {},
   "source": [
    "We have made one model for predicting house prices using squarefeet, but there are many other features in the sales SFrame. \n",
    "Use your simple linear regression function to estimate the regression parameters from predicting Prices based on number of bedrooms. Use the training data!"
   ]
  },
  {
   "cell_type": "code",
   "execution_count": 15,
   "metadata": {},
   "outputs": [
    {
     "name": "stdout",
     "output_type": "stream",
     "text": [
      "Intercept for bedroom :  109473.17762295937\n",
      "Slope for bedroom :  127588.9529339879\n"
     ]
    }
   ],
   "source": [
    "bedrooms_intercept, bedrooms_slope = simple_linear_regression(train_data['bedrooms'], train_data['price'])\n",
    "print('Intercept for bedroom : ', bedrooms_intercept)\n",
    "print('Slope for bedroom : ', bedrooms_slope)"
   ]
  },
  {
   "cell_type": "markdown",
   "metadata": {},
   "source": [
    "# Test your Linear Regression Algorithm"
   ]
  },
  {
   "cell_type": "markdown",
   "metadata": {},
   "source": [
    "Now we have two models for predicting the price of a house. How do we know which one is better? Calculate the RSS on the TEST data (remember this data wasn't involved in learning the model). Compute the RSS from predicting prices using bedrooms and from predicting prices using squarefeet.\n",
    "\n",
    "<font color = 'steelblue'><b> Quiz : Which model (square feet or bedrooms) has lowest RSS on TEST data? Think about why this might be the case. </b></font>"
   ]
  },
  {
   "cell_type": "code",
   "execution_count": 16,
   "metadata": {},
   "outputs": [
    {
     "name": "stdout",
     "output_type": "stream",
     "text": [
      "RSS for bedroom on test data :  493364585960300.94\n"
     ]
    }
   ],
   "source": [
    "# Compute RSS when using bedrooms on TEST data:\n",
    "RSS_Bedroom_Test = get_residual_sum_of_squares(test_data['bedrooms'], test_data['price'], bedrooms_intercept, bedrooms_slope)\n",
    "print('RSS for bedroom on test data : ', RSS_Bedroom_Test)"
   ]
  },
  {
   "cell_type": "code",
   "execution_count": 17,
   "metadata": {},
   "outputs": [
    {
     "name": "stdout",
     "output_type": "stream",
     "text": [
      "RSS for bedroom on test data :  275402933617812.12\n"
     ]
    }
   ],
   "source": [
    "# Compute RSS when using squarefeet on TEST data:\n",
    "RSS_Squarefeet_Test = get_residual_sum_of_squares(test_data['sqft_living'], test_data['price'], sqft_intercept, sqft_slope)\n",
    "print('RSS for bedroom on test data : ', RSS_Squarefeet_Test)"
   ]
  },
  {
   "cell_type": "markdown",
   "metadata": {},
   "source": [
    "The Model with the squarefeet as the input feature has the <b>lower RSS</b> on the <b>TEST DATA</b>"
   ]
  }
 ],
 "metadata": {
  "hide_code_all_hidden": true,
  "kernelspec": {
   "display_name": "Python 3",
   "language": "python",
   "name": "python3"
  },
  "language_info": {
   "codemirror_mode": {
    "name": "ipython",
    "version": 3
   },
   "file_extension": ".py",
   "mimetype": "text/x-python",
   "name": "python",
   "nbconvert_exporter": "python",
   "pygments_lexer": "ipython3",
   "version": "3.6.5"
  }
 },
 "nbformat": 4,
 "nbformat_minor": 2
}
