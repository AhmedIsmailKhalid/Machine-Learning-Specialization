{
 "cells": [
  {
   "cell_type": "markdown",
   "metadata": {},
   "source": [
    "# Overfitting demo\n",
    "\n",
    "## Create a dataset based on a true sinusoidal relationship\n",
    "Let's look at a synthetic dataset consisting of 30 points drawn from the sinusoid $y = \\sin(4x)$:"
   ]
  },
  {
   "cell_type": "code",
   "execution_count": 178,
   "metadata": {},
   "outputs": [],
   "source": [
    "import pandas as pd\n",
    "import numpy as np\n",
    "import math\n",
    "import random\n",
    "from sklearn.linear_model import LinearRegression, Ridge\n",
    "from sklearn.model_selection import cross_validate, LeaveOneOut,KFold\n",
    "from matplotlib import pyplot as plt\n",
    "%matplotlib inline"
   ]
  },
  {
   "cell_type": "markdown",
   "metadata": {},
   "source": [
    "Create random values for x in interval [0,1)"
   ]
  },
  {
   "cell_type": "code",
   "execution_count": 73,
   "metadata": {},
   "outputs": [
    {
     "data": {
      "text/plain": [
       "array([0.0073059 , 0.03165873, 0.03615861, 0.05288634, 0.14032841,\n",
       "       0.1573887 , 0.17621031, 0.20183757, 0.20269467, 0.21213737,\n",
       "       0.23544946, 0.24724594, 0.24896166, 0.27321206, 0.29880092,\n",
       "       0.30912123, 0.32317014, 0.32923008, 0.40556542, 0.45795042,\n",
       "       0.53990863, 0.57339288, 0.61513365, 0.64093985, 0.71469397,\n",
       "       0.75757022, 0.80787621, 0.8166122 , 0.83743096, 0.88815518])"
      ]
     },
     "execution_count": 73,
     "metadata": {},
     "output_type": "execute_result"
    }
   ],
   "source": [
    "'''random.seed(98103)\n",
    "n = 30\n",
    "x = turicreate.SArray([random.random() for i in range(n)]).sort()'''\n",
    "\n",
    "np.random.seed(98103)\n",
    "n = 30\n",
    "\n",
    "# The random.unifrom generates random float numbers in [0,1) range\n",
    "x = np.random.uniform(0,1, size=n)\n",
    "\n",
    "# Sort the array\n",
    "x = np.sort(x)\n",
    "x"
   ]
  },
  {
   "cell_type": "markdown",
   "metadata": {},
   "source": [
    "Compute y"
   ]
  },
  {
   "cell_type": "code",
   "execution_count": 74,
   "metadata": {},
   "outputs": [
    {
     "data": {
      "text/plain": [
       "array([ 0.02921945,  0.12629674,  0.14413068,  0.20997106,  0.53229873,\n",
       "        0.58878497,  0.6479129 ,  0.72245765,  0.72482386,  0.75032229,\n",
       "        0.80861713,  0.83546796,  0.83921965,  0.88794058,  0.93029039,\n",
       "        0.94463647,  0.96157445,  0.96794621,  0.99867595,  0.96613103,\n",
       "        0.83158651,  0.74997291,  0.6296154 ,  0.54621027,  0.27906161,\n",
       "        0.11108206, -0.0897911 , -0.124532  , -0.2066318 , -0.39955199])"
      ]
     },
     "execution_count": 74,
     "metadata": {},
     "output_type": "execute_result"
    }
   ],
   "source": [
    "'''y = x.apply(lambda x: math.sin(4*x))'''\n",
    "\n",
    "y = np.sin(4*x)\n",
    "y"
   ]
  },
  {
   "cell_type": "markdown",
   "metadata": {},
   "source": [
    "Add random Gaussian noise to y"
   ]
  },
  {
   "cell_type": "code",
   "execution_count": 75,
   "metadata": {},
   "outputs": [],
   "source": [
    "'''random.seed(1)\n",
    "e = turicreate.SArrae([random.gauss(0,1.0/3.0) for i in range(n)])\n",
    "y = y + e'''\n",
    "\n",
    "'''map_func = lambda y: np.random.gauss(0,1.0/3.0)\n",
    "e_vectorize = np.vectorize(map_func)\n",
    "e = tmp_vectorize(y)\n",
    "y = y + e\n",
    "y'''\n",
    "\n",
    "random.seed(1)\n",
    "\n",
    "e = np.array([random.gauss(0,1/3.0) for i in range(n)])\n",
    "\n",
    "# For some reason y = y + e was giving different results each time instead of giving the same results. Hence the sum\n",
    "# y + e is stored in a variable Y thus ensuring the same resutls are produced as desired originally using random.seed(1)\n",
    "Y = y + e"
   ]
  },
  {
   "cell_type": "markdown",
   "metadata": {},
   "source": [
    "### Put data into an SFrame to manipulate later"
   ]
  },
  {
   "cell_type": "code",
   "execution_count": 76,
   "metadata": {},
   "outputs": [
    {
     "data": {
      "text/html": [
       "<div>\n",
       "<style scoped>\n",
       "    .dataframe tbody tr th:only-of-type {\n",
       "        vertical-align: middle;\n",
       "    }\n",
       "\n",
       "    .dataframe tbody tr th {\n",
       "        vertical-align: top;\n",
       "    }\n",
       "\n",
       "    .dataframe thead th {\n",
       "        text-align: right;\n",
       "    }\n",
       "</style>\n",
       "<table border=\"1\" class=\"dataframe\">\n",
       "  <thead>\n",
       "    <tr style=\"text-align: right;\">\n",
       "      <th></th>\n",
       "      <th>X1</th>\n",
       "      <th>Y</th>\n",
       "    </tr>\n",
       "  </thead>\n",
       "  <tbody>\n",
       "    <tr>\n",
       "      <th>0</th>\n",
       "      <td>0.007306</td>\n",
       "      <td>0.029219</td>\n",
       "    </tr>\n",
       "    <tr>\n",
       "      <th>1</th>\n",
       "      <td>0.031659</td>\n",
       "      <td>0.126297</td>\n",
       "    </tr>\n",
       "    <tr>\n",
       "      <th>2</th>\n",
       "      <td>0.036159</td>\n",
       "      <td>0.144131</td>\n",
       "    </tr>\n",
       "    <tr>\n",
       "      <th>3</th>\n",
       "      <td>0.052886</td>\n",
       "      <td>0.209971</td>\n",
       "    </tr>\n",
       "    <tr>\n",
       "      <th>4</th>\n",
       "      <td>0.140328</td>\n",
       "      <td>0.532299</td>\n",
       "    </tr>\n",
       "    <tr>\n",
       "      <th>5</th>\n",
       "      <td>0.157389</td>\n",
       "      <td>0.588785</td>\n",
       "    </tr>\n",
       "    <tr>\n",
       "      <th>6</th>\n",
       "      <td>0.176210</td>\n",
       "      <td>0.647913</td>\n",
       "    </tr>\n",
       "    <tr>\n",
       "      <th>7</th>\n",
       "      <td>0.201838</td>\n",
       "      <td>0.722458</td>\n",
       "    </tr>\n",
       "    <tr>\n",
       "      <th>8</th>\n",
       "      <td>0.202695</td>\n",
       "      <td>0.724824</td>\n",
       "    </tr>\n",
       "    <tr>\n",
       "      <th>9</th>\n",
       "      <td>0.212137</td>\n",
       "      <td>0.750322</td>\n",
       "    </tr>\n",
       "    <tr>\n",
       "      <th>10</th>\n",
       "      <td>0.235449</td>\n",
       "      <td>0.808617</td>\n",
       "    </tr>\n",
       "    <tr>\n",
       "      <th>11</th>\n",
       "      <td>0.247246</td>\n",
       "      <td>0.835468</td>\n",
       "    </tr>\n",
       "    <tr>\n",
       "      <th>12</th>\n",
       "      <td>0.248962</td>\n",
       "      <td>0.839220</td>\n",
       "    </tr>\n",
       "    <tr>\n",
       "      <th>13</th>\n",
       "      <td>0.273212</td>\n",
       "      <td>0.887941</td>\n",
       "    </tr>\n",
       "    <tr>\n",
       "      <th>14</th>\n",
       "      <td>0.298801</td>\n",
       "      <td>0.930290</td>\n",
       "    </tr>\n",
       "    <tr>\n",
       "      <th>15</th>\n",
       "      <td>0.309121</td>\n",
       "      <td>0.944636</td>\n",
       "    </tr>\n",
       "    <tr>\n",
       "      <th>16</th>\n",
       "      <td>0.323170</td>\n",
       "      <td>0.961574</td>\n",
       "    </tr>\n",
       "    <tr>\n",
       "      <th>17</th>\n",
       "      <td>0.329230</td>\n",
       "      <td>0.967946</td>\n",
       "    </tr>\n",
       "    <tr>\n",
       "      <th>18</th>\n",
       "      <td>0.405565</td>\n",
       "      <td>0.998676</td>\n",
       "    </tr>\n",
       "    <tr>\n",
       "      <th>19</th>\n",
       "      <td>0.457950</td>\n",
       "      <td>0.966131</td>\n",
       "    </tr>\n",
       "    <tr>\n",
       "      <th>20</th>\n",
       "      <td>0.539909</td>\n",
       "      <td>0.831587</td>\n",
       "    </tr>\n",
       "    <tr>\n",
       "      <th>21</th>\n",
       "      <td>0.573393</td>\n",
       "      <td>0.749973</td>\n",
       "    </tr>\n",
       "    <tr>\n",
       "      <th>22</th>\n",
       "      <td>0.615134</td>\n",
       "      <td>0.629615</td>\n",
       "    </tr>\n",
       "    <tr>\n",
       "      <th>23</th>\n",
       "      <td>0.640940</td>\n",
       "      <td>0.546210</td>\n",
       "    </tr>\n",
       "    <tr>\n",
       "      <th>24</th>\n",
       "      <td>0.714694</td>\n",
       "      <td>0.279062</td>\n",
       "    </tr>\n",
       "    <tr>\n",
       "      <th>25</th>\n",
       "      <td>0.757570</td>\n",
       "      <td>0.111082</td>\n",
       "    </tr>\n",
       "    <tr>\n",
       "      <th>26</th>\n",
       "      <td>0.807876</td>\n",
       "      <td>-0.089791</td>\n",
       "    </tr>\n",
       "    <tr>\n",
       "      <th>27</th>\n",
       "      <td>0.816612</td>\n",
       "      <td>-0.124532</td>\n",
       "    </tr>\n",
       "    <tr>\n",
       "      <th>28</th>\n",
       "      <td>0.837431</td>\n",
       "      <td>-0.206632</td>\n",
       "    </tr>\n",
       "    <tr>\n",
       "      <th>29</th>\n",
       "      <td>0.888155</td>\n",
       "      <td>-0.399552</td>\n",
       "    </tr>\n",
       "  </tbody>\n",
       "</table>\n",
       "</div>"
      ],
      "text/plain": [
       "          X1         Y\n",
       "0   0.007306  0.029219\n",
       "1   0.031659  0.126297\n",
       "2   0.036159  0.144131\n",
       "3   0.052886  0.209971\n",
       "4   0.140328  0.532299\n",
       "5   0.157389  0.588785\n",
       "6   0.176210  0.647913\n",
       "7   0.201838  0.722458\n",
       "8   0.202695  0.724824\n",
       "9   0.212137  0.750322\n",
       "10  0.235449  0.808617\n",
       "11  0.247246  0.835468\n",
       "12  0.248962  0.839220\n",
       "13  0.273212  0.887941\n",
       "14  0.298801  0.930290\n",
       "15  0.309121  0.944636\n",
       "16  0.323170  0.961574\n",
       "17  0.329230  0.967946\n",
       "18  0.405565  0.998676\n",
       "19  0.457950  0.966131\n",
       "20  0.539909  0.831587\n",
       "21  0.573393  0.749973\n",
       "22  0.615134  0.629615\n",
       "23  0.640940  0.546210\n",
       "24  0.714694  0.279062\n",
       "25  0.757570  0.111082\n",
       "26  0.807876 -0.089791\n",
       "27  0.816612 -0.124532\n",
       "28  0.837431 -0.206632\n",
       "29  0.888155 -0.399552"
      ]
     },
     "execution_count": 76,
     "metadata": {},
     "output_type": "execute_result"
    }
   ],
   "source": [
    "'''data = turicreate.SFrame({'X1':x,'Y':y})\n",
    "data'''\n",
    "\n",
    "# Create a list containing data for DataFrame\n",
    "data = data = {'X1':x, 'Y':y} \n",
    "\n",
    "# Create an pandas DataFrame using above data list\n",
    "df = pd.DataFrame(data)\n",
    "df"
   ]
  },
  {
   "cell_type": "markdown",
   "metadata": {},
   "source": [
    "### Create a function to plot the data, since we'll do it many times"
   ]
  },
  {
   "cell_type": "code",
   "execution_count": 77,
   "metadata": {},
   "outputs": [
    {
     "data": {
      "image/png": "[encoded data removed]",
      "text/plain": [
       "<Figure size 432x288 with 1 Axes>"
      ]
     },
     "metadata": {
      "needs_background": "light"
     },
     "output_type": "display_data"
    }
   ],
   "source": [
    "def plot_data(df):    \n",
    "    plt.plot(df['X1'],df['Y'],'k.')\n",
    "    plt.xlabel('x')\n",
    "    plt.ylabel('y')\n",
    "\n",
    "plot_data(df)"
   ]
  },
  {
   "cell_type": "markdown",
   "metadata": {},
   "source": [
    "## Define some useful polynomial regression functions"
   ]
  },
  {
   "cell_type": "markdown",
   "metadata": {},
   "source": [
    "Define a function to create our features for a polynomial regression model of any degree:"
   ]
  },
  {
   "cell_type": "code",
   "execution_count": 78,
   "metadata": {},
   "outputs": [
    {
     "data": {
      "text/html": [
       "<div>\n",
       "<style scoped>\n",
       "    .dataframe tbody tr th:only-of-type {\n",
       "        vertical-align: middle;\n",
       "    }\n",
       "\n",
       "    .dataframe tbody tr th {\n",
       "        vertical-align: top;\n",
       "    }\n",
       "\n",
       "    .dataframe thead th {\n",
       "        text-align: right;\n",
       "    }\n",
       "</style>\n",
       "<table border=\"1\" class=\"dataframe\">\n",
       "  <thead>\n",
       "    <tr style=\"text-align: right;\">\n",
       "      <th></th>\n",
       "      <th>X1</th>\n",
       "      <th>Y</th>\n",
       "      <th>X2</th>\n",
       "      <th>X3</th>\n",
       "      <th>X4</th>\n",
       "    </tr>\n",
       "  </thead>\n",
       "  <tbody>\n",
       "    <tr>\n",
       "      <th>0</th>\n",
       "      <td>0.007306</td>\n",
       "      <td>0.029219</td>\n",
       "      <td>0.000053</td>\n",
       "      <td>3.899613e-07</td>\n",
       "      <td>2.849019e-09</td>\n",
       "    </tr>\n",
       "    <tr>\n",
       "      <th>1</th>\n",
       "      <td>0.031659</td>\n",
       "      <td>0.126297</td>\n",
       "      <td>0.001002</td>\n",
       "      <td>3.173077e-05</td>\n",
       "      <td>1.004556e-06</td>\n",
       "    </tr>\n",
       "    <tr>\n",
       "      <th>2</th>\n",
       "      <td>0.036159</td>\n",
       "      <td>0.144131</td>\n",
       "      <td>0.001307</td>\n",
       "      <td>4.727538e-05</td>\n",
       "      <td>1.709412e-06</td>\n",
       "    </tr>\n",
       "    <tr>\n",
       "      <th>3</th>\n",
       "      <td>0.052886</td>\n",
       "      <td>0.209971</td>\n",
       "      <td>0.002797</td>\n",
       "      <td>1.479212e-04</td>\n",
       "      <td>7.823013e-06</td>\n",
       "    </tr>\n",
       "    <tr>\n",
       "      <th>4</th>\n",
       "      <td>0.140328</td>\n",
       "      <td>0.532299</td>\n",
       "      <td>0.019692</td>\n",
       "      <td>2.763356e-03</td>\n",
       "      <td>3.877773e-04</td>\n",
       "    </tr>\n",
       "    <tr>\n",
       "      <th>5</th>\n",
       "      <td>0.157389</td>\n",
       "      <td>0.588785</td>\n",
       "      <td>0.024771</td>\n",
       "      <td>3.898708e-03</td>\n",
       "      <td>6.136125e-04</td>\n",
       "    </tr>\n",
       "    <tr>\n",
       "      <th>6</th>\n",
       "      <td>0.176210</td>\n",
       "      <td>0.647913</td>\n",
       "      <td>0.031050</td>\n",
       "      <td>5.471343e-03</td>\n",
       "      <td>9.641070e-04</td>\n",
       "    </tr>\n",
       "    <tr>\n",
       "      <th>7</th>\n",
       "      <td>0.201838</td>\n",
       "      <td>0.722458</td>\n",
       "      <td>0.040738</td>\n",
       "      <td>8.222540e-03</td>\n",
       "      <td>1.659618e-03</td>\n",
       "    </tr>\n",
       "    <tr>\n",
       "      <th>8</th>\n",
       "      <td>0.202695</td>\n",
       "      <td>0.724824</td>\n",
       "      <td>0.041085</td>\n",
       "      <td>8.327737e-03</td>\n",
       "      <td>1.687988e-03</td>\n",
       "    </tr>\n",
       "    <tr>\n",
       "      <th>9</th>\n",
       "      <td>0.212137</td>\n",
       "      <td>0.750322</td>\n",
       "      <td>0.045002</td>\n",
       "      <td>9.546662e-03</td>\n",
       "      <td>2.025204e-03</td>\n",
       "    </tr>\n",
       "    <tr>\n",
       "      <th>10</th>\n",
       "      <td>0.235449</td>\n",
       "      <td>0.808617</td>\n",
       "      <td>0.055436</td>\n",
       "      <td>1.305248e-02</td>\n",
       "      <td>3.073200e-03</td>\n",
       "    </tr>\n",
       "    <tr>\n",
       "      <th>11</th>\n",
       "      <td>0.247246</td>\n",
       "      <td>0.835468</td>\n",
       "      <td>0.061131</td>\n",
       "      <td>1.511428e-02</td>\n",
       "      <td>3.736945e-03</td>\n",
       "    </tr>\n",
       "    <tr>\n",
       "      <th>12</th>\n",
       "      <td>0.248962</td>\n",
       "      <td>0.839220</td>\n",
       "      <td>0.061982</td>\n",
       "      <td>1.543112e-02</td>\n",
       "      <td>3.841757e-03</td>\n",
       "    </tr>\n",
       "    <tr>\n",
       "      <th>13</th>\n",
       "      <td>0.273212</td>\n",
       "      <td>0.887941</td>\n",
       "      <td>0.074645</td>\n",
       "      <td>2.039387e-02</td>\n",
       "      <td>5.571850e-03</td>\n",
       "    </tr>\n",
       "    <tr>\n",
       "      <th>14</th>\n",
       "      <td>0.298801</td>\n",
       "      <td>0.930290</td>\n",
       "      <td>0.089282</td>\n",
       "      <td>2.667754e-02</td>\n",
       "      <td>7.971273e-03</td>\n",
       "    </tr>\n",
       "    <tr>\n",
       "      <th>15</th>\n",
       "      <td>0.309121</td>\n",
       "      <td>0.944636</td>\n",
       "      <td>0.095556</td>\n",
       "      <td>2.953837e-02</td>\n",
       "      <td>9.130936e-03</td>\n",
       "    </tr>\n",
       "    <tr>\n",
       "      <th>16</th>\n",
       "      <td>0.323170</td>\n",
       "      <td>0.961574</td>\n",
       "      <td>0.104439</td>\n",
       "      <td>3.375155e-02</td>\n",
       "      <td>1.090749e-02</td>\n",
       "    </tr>\n",
       "    <tr>\n",
       "      <th>17</th>\n",
       "      <td>0.329230</td>\n",
       "      <td>0.967946</td>\n",
       "      <td>0.108392</td>\n",
       "      <td>3.568605e-02</td>\n",
       "      <td>1.174892e-02</td>\n",
       "    </tr>\n",
       "    <tr>\n",
       "      <th>18</th>\n",
       "      <td>0.405565</td>\n",
       "      <td>0.998676</td>\n",
       "      <td>0.164483</td>\n",
       "      <td>6.670874e-02</td>\n",
       "      <td>2.705476e-02</td>\n",
       "    </tr>\n",
       "    <tr>\n",
       "      <th>19</th>\n",
       "      <td>0.457950</td>\n",
       "      <td>0.966131</td>\n",
       "      <td>0.209719</td>\n",
       "      <td>9.604071e-02</td>\n",
       "      <td>4.398189e-02</td>\n",
       "    </tr>\n",
       "    <tr>\n",
       "      <th>20</th>\n",
       "      <td>0.539909</td>\n",
       "      <td>0.831587</td>\n",
       "      <td>0.291501</td>\n",
       "      <td>1.573841e-01</td>\n",
       "      <td>8.497302e-02</td>\n",
       "    </tr>\n",
       "    <tr>\n",
       "      <th>21</th>\n",
       "      <td>0.573393</td>\n",
       "      <td>0.749973</td>\n",
       "      <td>0.328779</td>\n",
       "      <td>1.885198e-01</td>\n",
       "      <td>1.080959e-01</td>\n",
       "    </tr>\n",
       "    <tr>\n",
       "      <th>22</th>\n",
       "      <td>0.615134</td>\n",
       "      <td>0.629615</td>\n",
       "      <td>0.378389</td>\n",
       "      <td>2.327601e-01</td>\n",
       "      <td>1.431785e-01</td>\n",
       "    </tr>\n",
       "    <tr>\n",
       "      <th>23</th>\n",
       "      <td>0.640940</td>\n",
       "      <td>0.546210</td>\n",
       "      <td>0.410804</td>\n",
       "      <td>2.633006e-01</td>\n",
       "      <td>1.687598e-01</td>\n",
       "    </tr>\n",
       "    <tr>\n",
       "      <th>24</th>\n",
       "      <td>0.714694</td>\n",
       "      <td>0.279062</td>\n",
       "      <td>0.510787</td>\n",
       "      <td>3.650567e-01</td>\n",
       "      <td>2.609038e-01</td>\n",
       "    </tr>\n",
       "    <tr>\n",
       "      <th>25</th>\n",
       "      <td>0.757570</td>\n",
       "      <td>0.111082</td>\n",
       "      <td>0.573913</td>\n",
       "      <td>4.347791e-01</td>\n",
       "      <td>3.293757e-01</td>\n",
       "    </tr>\n",
       "    <tr>\n",
       "      <th>26</th>\n",
       "      <td>0.807876</td>\n",
       "      <td>-0.089791</td>\n",
       "      <td>0.652664</td>\n",
       "      <td>5.272717e-01</td>\n",
       "      <td>4.259703e-01</td>\n",
       "    </tr>\n",
       "    <tr>\n",
       "      <th>27</th>\n",
       "      <td>0.816612</td>\n",
       "      <td>-0.124532</td>\n",
       "      <td>0.666855</td>\n",
       "      <td>5.445623e-01</td>\n",
       "      <td>4.446962e-01</td>\n",
       "    </tr>\n",
       "    <tr>\n",
       "      <th>28</th>\n",
       "      <td>0.837431</td>\n",
       "      <td>-0.206632</td>\n",
       "      <td>0.701291</td>\n",
       "      <td>5.872825e-01</td>\n",
       "      <td>4.918085e-01</td>\n",
       "    </tr>\n",
       "    <tr>\n",
       "      <th>29</th>\n",
       "      <td>0.888155</td>\n",
       "      <td>-0.399552</td>\n",
       "      <td>0.788820</td>\n",
       "      <td>7.005942e-01</td>\n",
       "      <td>6.222364e-01</td>\n",
       "    </tr>\n",
       "  </tbody>\n",
       "</table>\n",
       "</div>"
      ],
      "text/plain": [
       "          X1         Y        X2            X3            X4\n",
       "0   0.007306  0.029219  0.000053  3.899613e-07  2.849019e-09\n",
       "1   0.031659  0.126297  0.001002  3.173077e-05  1.004556e-06\n",
       "2   0.036159  0.144131  0.001307  4.727538e-05  1.709412e-06\n",
       "3   0.052886  0.209971  0.002797  1.479212e-04  7.823013e-06\n",
       "4   0.140328  0.532299  0.019692  2.763356e-03  3.877773e-04\n",
       "5   0.157389  0.588785  0.024771  3.898708e-03  6.136125e-04\n",
       "6   0.176210  0.647913  0.031050  5.471343e-03  9.641070e-04\n",
       "7   0.201838  0.722458  0.040738  8.222540e-03  1.659618e-03\n",
       "8   0.202695  0.724824  0.041085  8.327737e-03  1.687988e-03\n",
       "9   0.212137  0.750322  0.045002  9.546662e-03  2.025204e-03\n",
       "10  0.235449  0.808617  0.055436  1.305248e-02  3.073200e-03\n",
       "11  0.247246  0.835468  0.061131  1.511428e-02  3.736945e-03\n",
       "12  0.248962  0.839220  0.061982  1.543112e-02  3.841757e-03\n",
       "13  0.273212  0.887941  0.074645  2.039387e-02  5.571850e-03\n",
       "14  0.298801  0.930290  0.089282  2.667754e-02  7.971273e-03\n",
       "15  0.309121  0.944636  0.095556  2.953837e-02  9.130936e-03\n",
       "16  0.323170  0.961574  0.104439  3.375155e-02  1.090749e-02\n",
       "17  0.329230  0.967946  0.108392  3.568605e-02  1.174892e-02\n",
       "18  0.405565  0.998676  0.164483  6.670874e-02  2.705476e-02\n",
       "19  0.457950  0.966131  0.209719  9.604071e-02  4.398189e-02\n",
       "20  0.539909  0.831587  0.291501  1.573841e-01  8.497302e-02\n",
       "21  0.573393  0.749973  0.328779  1.885198e-01  1.080959e-01\n",
       "22  0.615134  0.629615  0.378389  2.327601e-01  1.431785e-01\n",
       "23  0.640940  0.546210  0.410804  2.633006e-01  1.687598e-01\n",
       "24  0.714694  0.279062  0.510787  3.650567e-01  2.609038e-01\n",
       "25  0.757570  0.111082  0.573913  4.347791e-01  3.293757e-01\n",
       "26  0.807876 -0.089791  0.652664  5.272717e-01  4.259703e-01\n",
       "27  0.816612 -0.124532  0.666855  5.445623e-01  4.446962e-01\n",
       "28  0.837431 -0.206632  0.701291  5.872825e-01  4.918085e-01\n",
       "29  0.888155 -0.399552  0.788820  7.005942e-01  6.222364e-01"
      ]
     },
     "execution_count": 78,
     "metadata": {},
     "output_type": "execute_result"
    }
   ],
   "source": [
    "def polynomial_features(df, deg):\n",
    "    df_copy=df.copy()\n",
    "    for i in range(1,deg):\n",
    "        df_copy['X'+str(i+1)]=df_copy['X'+str(i)]*df_copy['X1']\n",
    "    return df_copy\n",
    "\n",
    "# Example: Adding columns for x^2 and x^3\n",
    "polynomial_features(df, 4)"
   ]
  },
  {
   "cell_type": "code",
   "execution_count": 79,
   "metadata": {},
   "outputs": [
    {
     "data": {
      "text/html": [
       "<div>\n",
       "<style scoped>\n",
       "    .dataframe tbody tr th:only-of-type {\n",
       "        vertical-align: middle;\n",
       "    }\n",
       "\n",
       "    .dataframe tbody tr th {\n",
       "        vertical-align: top;\n",
       "    }\n",
       "\n",
       "    .dataframe thead th {\n",
       "        text-align: right;\n",
       "    }\n",
       "</style>\n",
       "<table border=\"1\" class=\"dataframe\">\n",
       "  <thead>\n",
       "    <tr style=\"text-align: right;\">\n",
       "      <th></th>\n",
       "      <th>X1</th>\n",
       "      <th>X2</th>\n",
       "      <th>X3</th>\n",
       "      <th>X4</th>\n",
       "    </tr>\n",
       "  </thead>\n",
       "  <tbody>\n",
       "    <tr>\n",
       "      <th>0</th>\n",
       "      <td>0.000</td>\n",
       "      <td>0.000000</td>\n",
       "      <td>0.000000e+00</td>\n",
       "      <td>0.000000e+00</td>\n",
       "    </tr>\n",
       "    <tr>\n",
       "      <th>1</th>\n",
       "      <td>0.005</td>\n",
       "      <td>0.000025</td>\n",
       "      <td>1.250000e-07</td>\n",
       "      <td>6.250000e-10</td>\n",
       "    </tr>\n",
       "    <tr>\n",
       "      <th>2</th>\n",
       "      <td>0.010</td>\n",
       "      <td>0.000100</td>\n",
       "      <td>1.000000e-06</td>\n",
       "      <td>1.000000e-08</td>\n",
       "    </tr>\n",
       "    <tr>\n",
       "      <th>3</th>\n",
       "      <td>0.015</td>\n",
       "      <td>0.000225</td>\n",
       "      <td>3.375000e-06</td>\n",
       "      <td>5.062500e-08</td>\n",
       "    </tr>\n",
       "    <tr>\n",
       "      <th>4</th>\n",
       "      <td>0.020</td>\n",
       "      <td>0.000400</td>\n",
       "      <td>8.000000e-06</td>\n",
       "      <td>1.600000e-07</td>\n",
       "    </tr>\n",
       "    <tr>\n",
       "      <th>...</th>\n",
       "      <td>...</td>\n",
       "      <td>...</td>\n",
       "      <td>...</td>\n",
       "      <td>...</td>\n",
       "    </tr>\n",
       "    <tr>\n",
       "      <th>195</th>\n",
       "      <td>0.975</td>\n",
       "      <td>0.950625</td>\n",
       "      <td>9.268594e-01</td>\n",
       "      <td>9.036879e-01</td>\n",
       "    </tr>\n",
       "    <tr>\n",
       "      <th>196</th>\n",
       "      <td>0.980</td>\n",
       "      <td>0.960400</td>\n",
       "      <td>9.411920e-01</td>\n",
       "      <td>9.223682e-01</td>\n",
       "    </tr>\n",
       "    <tr>\n",
       "      <th>197</th>\n",
       "      <td>0.985</td>\n",
       "      <td>0.970225</td>\n",
       "      <td>9.556716e-01</td>\n",
       "      <td>9.413366e-01</td>\n",
       "    </tr>\n",
       "    <tr>\n",
       "      <th>198</th>\n",
       "      <td>0.990</td>\n",
       "      <td>0.980100</td>\n",
       "      <td>9.702990e-01</td>\n",
       "      <td>9.605960e-01</td>\n",
       "    </tr>\n",
       "    <tr>\n",
       "      <th>199</th>\n",
       "      <td>0.995</td>\n",
       "      <td>0.990025</td>\n",
       "      <td>9.850749e-01</td>\n",
       "      <td>9.801495e-01</td>\n",
       "    </tr>\n",
       "  </tbody>\n",
       "</table>\n",
       "<p>200 rows × 4 columns</p>\n",
       "</div>"
      ],
      "text/plain": [
       "        X1        X2            X3            X4\n",
       "0    0.000  0.000000  0.000000e+00  0.000000e+00\n",
       "1    0.005  0.000025  1.250000e-07  6.250000e-10\n",
       "2    0.010  0.000100  1.000000e-06  1.000000e-08\n",
       "3    0.015  0.000225  3.375000e-06  5.062500e-08\n",
       "4    0.020  0.000400  8.000000e-06  1.600000e-07\n",
       "..     ...       ...           ...           ...\n",
       "195  0.975  0.950625  9.268594e-01  9.036879e-01\n",
       "196  0.980  0.960400  9.411920e-01  9.223682e-01\n",
       "197  0.985  0.970225  9.556716e-01  9.413366e-01\n",
       "198  0.990  0.980100  9.702990e-01  9.605960e-01\n",
       "199  0.995  0.990025  9.850749e-01  9.801495e-01\n",
       "\n",
       "[200 rows x 4 columns]"
      ]
     },
     "execution_count": 79,
     "metadata": {},
     "output_type": "execute_result"
    }
   ],
   "source": [
    "tst = pd.DataFrame({'X1':[i/200.0 for i in range(200)]})\n",
    "polynomial_features(tst, 4)"
   ]
  },
  {
   "cell_type": "markdown",
   "metadata": {},
   "source": [
    "Define a function to fit a polynomial linear regression model of degree \"deg\" to the data in \"data\":"
   ]
  },
  {
   "cell_type": "code",
   "execution_count": 181,
   "metadata": {},
   "outputs": [],
   "source": [
    "'''def polynomial_regression(data, deg):\n",
    "    model = turicreate.linear_regression.create(\n",
    "        polynomial_features(data,deg), \n",
    "        target='Y',\n",
    "        l2_penalty=0.,\n",
    "        l1_penalty=0.,\n",
    "        validation_set=None,\n",
    "        verbose=False)\n",
    "    return model'''\n",
    "\n",
    "def polynomial_regression(df, deg):\n",
    "    reg = LinearRegression()\n",
    "    #features = polynomial_features(df.drop('Y', axis=1), deg)\n",
    "    features = polynomial_features(df, deg)\n",
    "    target = np.array(df['Y']).reshape(-1,1)\n",
    "    model = reg.fit(features, target)\n",
    "    return model"
   ]
  },
  {
   "cell_type": "markdown",
   "metadata": {},
   "source": [
    "Define function to plot data and predictions made, since we are going to use it many times."
   ]
  },
  {
   "cell_type": "code",
   "execution_count": 125,
   "metadata": {},
   "outputs": [],
   "source": [
    "'''def plot_poly_predictions(data, model):\n",
    "    plot_data(data)\n",
    "\n",
    "    # Get the degree of the polynomial\n",
    "    deg = len(model.coefficients['value'])-1\n",
    "    \n",
    "    # Create 200 points in the x axis and compute the predicted value for each point\n",
    "    x_pred = turicreate.SFrame({'X1':[i/200.0 for i in range(200)]})\n",
    "    y_pred = model.predict(polynomial_features(x_pred,deg))\n",
    "    \n",
    "    # plot predictions\n",
    "    plt.plot(x_pred['X1'], y_pred, 'g-', label='degree ' + str(deg) + ' fit')\n",
    "    plt.legend(loc='upper left')\n",
    "    plt.axis([0,1,-1.5,2])'''\n",
    "\n",
    "def plot_poly_predictions(df, model):\n",
    "    plot_data(df)\n",
    "\n",
    "    # Get the degree of the polynomial\n",
    "    deg = np.size(model.coef_)\n",
    "    \n",
    "    # Create 200 points in the x axis and compute the predicted value for each point\n",
    "    x_pred = pd.DataFrame({'X1':[i/200.0 for i in range(200)]})\n",
    "    poly_features = polynomial_features(x_pred,deg)\n",
    "    y_pred = model.predict(poly_features)\n",
    "    \n",
    "    # plot predictions\n",
    "    plt.plot(x_pred['X1'], y_pred, 'g-', label='degree ' + str(deg) + ' fit')\n",
    "    plt.legend(loc='upper left')\n",
    "    plt.axis([0,1,-1.5,2])"
   ]
  },
  {
   "cell_type": "markdown",
   "metadata": {},
   "source": [
    "Create a function that prints the polynomial coefficients in a pretty way :)"
   ]
  },
  {
   "cell_type": "code",
   "execution_count": 201,
   "metadata": {},
   "outputs": [],
   "source": [
    "'''def print_coefficients(model):    \n",
    "    # Get the degree of the polynomial\n",
    "    deg = len(model.coefficients['value'])-1\n",
    "\n",
    "    # Get learned parameters as a list\n",
    "    w = list(model.coefficients['value'])\n",
    "\n",
    "    # Numpy has a nifty function to print out polynomials in a pretty way\n",
    "    # (We'll use it, but it needs the parameters in the reverse order)\n",
    "    print 'Learned polynomial for degree ' + str(deg) + ':'\n",
    "    w.reverse()\n",
    "    print numpy.poly1d(w)'''\n",
    "\n",
    "\n",
    "def print_coefficients(model):    \n",
    "    # Get the degree of the polynomial\n",
    "    deg = np.size(model.coef_)\n",
    "    print('Degree :', deg-1)\n",
    "\n",
    "    # Get learned parameters as a list\n",
    "    w = model.coef_\n",
    "\n",
    "    # Numpy has a nifty function to print out polynomials in a pretty way\n",
    "    # (We'll use it, but it needs the parameters in the reverse order)\n",
    "    print('\\nLearned polynomial for degree ' + str(deg-1) + ':\\n')\n",
    "    w = w.flatten()\n",
    "    w = sorted(w,reverse=True)\n",
    "    print(np.poly1d(w))"
   ]
  },
  {
   "cell_type": "markdown",
   "metadata": {},
   "source": [
    "## Fit a degree-2 polynomial"
   ]
  },
  {
   "cell_type": "markdown",
   "metadata": {},
   "source": [
    "Fit our degree-2 polynomial to the data generated above:"
   ]
  },
  {
   "cell_type": "code",
   "execution_count": 202,
   "metadata": {},
   "outputs": [],
   "source": [
    "model = polynomial_regression(df, deg=2)"
   ]
  },
  {
   "cell_type": "markdown",
   "metadata": {},
   "source": [
    "Inspect learned parameters"
   ]
  },
  {
   "cell_type": "code",
   "execution_count": 203,
   "metadata": {},
   "outputs": [
    {
     "name": "stdout",
     "output_type": "stream",
     "text": [
      "Degree : 2\n",
      "\n",
      "Learned polynomial for degree 2:\n",
      "\n",
      "   2\n",
      "1 x + 2.331e-15 x - 1.462e-15\n"
     ]
    }
   ],
   "source": [
    "print_coefficients(model)"
   ]
  },
  {
   "cell_type": "markdown",
   "metadata": {},
   "source": [
    "Form and plot our predictions along a grid of x values:"
   ]
  },
  {
   "cell_type": "code",
   "execution_count": 204,
   "metadata": {},
   "outputs": [
    {
     "data": {
      "image/png": "[encoded data removed]",
      "text/plain": [
       "<Figure size 432x288 with 1 Axes>"
      ]
     },
     "metadata": {
      "needs_background": "light"
     },
     "output_type": "display_data"
    }
   ],
   "source": [
    "plot_poly_predictions(df,model)"
   ]
  },
  {
   "cell_type": "markdown",
   "metadata": {
    "collapsed": true
   },
   "source": [
    "## Fit a degree-4 polynomial"
   ]
  },
  {
   "cell_type": "code",
   "execution_count": 205,
   "metadata": {},
   "outputs": [
    {
     "name": "stdout",
     "output_type": "stream",
     "text": [
      "Degree : 4\n",
      "\n",
      "Learned polynomial for degree 4:\n",
      "\n",
      "   4             3             2\n",
      "1 x + 3.236e-14 x + 1.291e-14 x + 3.109e-15 x - 4.996e-14\n"
     ]
    },
    {
     "data": {
      "image/png": "[encoded data removed]",
      "text/plain": [
       "<Figure size 432x288 with 1 Axes>"
      ]
     },
     "metadata": {
      "needs_background": "light"
     },
     "output_type": "display_data"
    }
   ],
   "source": [
    "model = polynomial_regression(df, deg=4)\n",
    "print_coefficients(model)\n",
    "plot_poly_predictions(df,model)"
   ]
  },
  {
   "cell_type": "markdown",
   "metadata": {},
   "source": [
    "## Fit a degree-16 polynomial"
   ]
  },
  {
   "cell_type": "code",
   "execution_count": 206,
   "metadata": {},
   "outputs": [
    {
     "name": "stdout",
     "output_type": "stream",
     "text": [
      "Degree : 16\n",
      "\n",
      "Learned polynomial for degree 16:\n",
      "\n",
      "        16           15           14            13             12\n",
      "0.9953 x  + 0.03975 x  + 0.01863 x  + 0.003327 x  + 0.0001198 x \n",
      "              11             10             9             8\n",
      " + 7.514e-05 x  + 4.861e-05 x  + 1.416e-05 x + 2.899e-06 x\n",
      "              7             6             5             4            3\n",
      " + 7.948e-07 x + 1.128e-08 x + 2.618e-11 x - 1.992e-05 x - 4.22e-05 x\n",
      "              2\n",
      " - 0.0006002 x - 0.01515 x - 0.04968\n"
     ]
    }
   ],
   "source": [
    "model = polynomial_regression(df, deg=16)\n",
    "print_coefficients(model)"
   ]
  },
  {
   "cell_type": "markdown",
   "metadata": {},
   "source": [
    "### Woah!!!!  Those coefficients are *crazy*!  On the order of 10^6."
   ]
  },
  {
   "cell_type": "code",
   "execution_count": 207,
   "metadata": {},
   "outputs": [
    {
     "data": {
      "image/png": "[encoded data removed]",
      "text/plain": [
       "<Figure size 432x288 with 1 Axes>"
      ]
     },
     "metadata": {
      "needs_background": "light"
     },
     "output_type": "display_data"
    }
   ],
   "source": [
    "plot_poly_predictions(data,model)"
   ]
  },
  {
   "cell_type": "markdown",
   "metadata": {},
   "source": [
    "### Above: Fit looks pretty wild, too.  Here's a clear example of how overfitting is associated with very large magnitude estimated coefficients."
   ]
  },
  {
   "cell_type": "markdown",
   "metadata": {
    "collapsed": true
   },
   "source": [
    "# Ridge Regression"
   ]
  },
  {
   "cell_type": "markdown",
   "metadata": {},
   "source": [
    "Ridge regression aims to avoid overfitting by adding a cost to the RSS term of standard least squares that depends on the 2-norm of the coefficients $\\|w\\|$.  The result is penalizing fits with large coefficients.  The strength of this penalty, and thus the fit vs. model complexity balance, is controled by a parameter lambda (here called \"L2_penalty\")."
   ]
  },
  {
   "cell_type": "markdown",
   "metadata": {},
   "source": [
    "Define our function to solve the ridge objective for a polynomial regression model of any degree:"
   ]
  },
  {
   "cell_type": "code",
   "execution_count": 208,
   "metadata": {},
   "outputs": [],
   "source": [
    "'''def polynomial_ridge_regression(data, deg, l2_penalty):\n",
    "    model = turicreate.linear_regression.create(polynomial_features(df,deg), \n",
    "                                                target='Y',\n",
    "                                                l2_penalty=l2_penalty,\n",
    "                                                validation_set=None,verbose=False)\n",
    "    return model'''\n",
    "\n",
    "def polynomial_ridge_regression(df, deg, l2_penalty):\n",
    "    reg = Ridge(alpha=l2_penalty)\n",
    "    #features = polynomial_features(df.drop('Y', axis=1), deg)\n",
    "    features = polynomial_features(df, deg)\n",
    "    target = np.array(df['Y']).reshape(-1,1)\n",
    "    model = reg.fit(features, target)\n",
    "    return model"
   ]
  },
  {
   "cell_type": "markdown",
   "metadata": {},
   "source": [
    "## Perform a ridge fit of a degree-16 polynomial using a *very* small penalty strength"
   ]
  },
  {
   "cell_type": "code",
   "execution_count": 209,
   "metadata": {},
   "outputs": [
    {
     "name": "stdout",
     "output_type": "stream",
     "text": [
      "Degree : 16\n",
      "\n",
      "Learned polynomial for degree 16:\n",
      "\n",
      "        16           15           14            13             12\n",
      "0.9953 x  + 0.03975 x  + 0.01863 x  + 0.003366 x  + 4.643e-05 x \n",
      "              11             10             9             8\n",
      " + 3.961e-06 x  + 1.624e-06 x  + 1.029e-06 x + 5.692e-13 x\n",
      "              7             6           5             4             3\n",
      " - 4.457e-10 x - 4.733e-08 x - 7.2e-07 x - 1.886e-06 x - 6.371e-06 x\n",
      "              2\n",
      " - 0.0004886 x - 0.01514 x - 0.04968\n"
     ]
    }
   ],
   "source": [
    "model = polynomial_ridge_regression(df, deg=16, l2_penalty=1e-25)\n",
    "print_coefficients(model)"
   ]
  },
  {
   "cell_type": "code",
   "execution_count": 210,
   "metadata": {},
   "outputs": [
    {
     "data": {
      "image/png": "[encoded data removed]",
      "text/plain": [
       "<Figure size 432x288 with 1 Axes>"
      ]
     },
     "metadata": {
      "needs_background": "light"
     },
     "output_type": "display_data"
    }
   ],
   "source": [
    "plot_poly_predictions(data,model)"
   ]
  },
  {
   "cell_type": "markdown",
   "metadata": {},
   "source": [
    "## Perform a ridge fit of a degree-16 polynomial using a very large penalty strength"
   ]
  },
  {
   "cell_type": "code",
   "execution_count": 211,
   "metadata": {},
   "outputs": [
    {
     "name": "stdout",
     "output_type": "stream",
     "text": [
      "Degree : 16\n",
      "\n",
      "Learned polynomial for degree 16:\n",
      "\n",
      "         16           15            14            13            12\n",
      "0.04551 x  - 0.00211 x  - 0.002457 x  - 0.002866 x  - 0.003349 x \n",
      "             11            10            9            8            7\n",
      " - 0.003922 x  - 0.004601 x  - 0.005408 x - 0.006367 x - 0.007506 x\n",
      "             6           5           4           3           2\n",
      " - 0.008851 x - 0.01043 x - 0.01092 x - 0.01222 x - 0.01415 x - 0.01583 x - 0.01604\n"
     ]
    }
   ],
   "source": [
    "model = polynomial_ridge_regression(df, deg=16, l2_penalty=100)\n",
    "print_coefficients(model)"
   ]
  },
  {
   "cell_type": "code",
   "execution_count": 212,
   "metadata": {},
   "outputs": [
    {
     "data": {
      "image/png": "[encoded data removed]",
      "text/plain": [
       "<Figure size 432x288 with 1 Axes>"
      ]
     },
     "metadata": {
      "needs_background": "light"
     },
     "output_type": "display_data"
    }
   ],
   "source": [
    "plot_poly_predictions(df,model)"
   ]
  },
  {
   "cell_type": "markdown",
   "metadata": {},
   "source": [
    "## Let's look at fits for a sequence of increasing lambda values"
   ]
  },
  {
   "cell_type": "code",
   "execution_count": 213,
   "metadata": {
    "scrolled": false
   },
   "outputs": [
    {
     "name": "stdout",
     "output_type": "stream",
     "text": [
      "lambda = 1.00e-25\n",
      "Degree : 16\n",
      "\n",
      "Learned polynomial for degree 16:\n",
      "\n",
      "        16           15           14            13             12\n",
      "0.9953 x  + 0.03975 x  + 0.01863 x  + 0.003366 x  + 4.643e-05 x \n",
      "              11             10             9             8\n",
      " + 3.961e-06 x  + 1.624e-06 x  + 1.029e-06 x + 5.692e-13 x\n",
      "              7             6           5             4             3\n",
      " - 4.457e-10 x - 4.733e-08 x - 7.2e-07 x - 1.886e-06 x - 6.371e-06 x\n",
      "              2\n",
      " - 0.0004886 x - 0.01514 x - 0.04968\n",
      "\n",
      "\n",
      "lambda = 1.00e-10\n",
      "Degree : 16\n",
      "\n",
      "Learned polynomial for degree 16:\n",
      "\n",
      "        16           15          14            13            12\n",
      "0.9948 x  + 0.03197 x  + 0.0209 x  + 0.008808 x  + 0.006116 x \n",
      "             11            10            9            8             7\n",
      " + 0.004787 x  + 0.003859 x  + 0.003007 x + 0.001992 x + 0.0001558 x\n",
      "             6            5            4            3            2\n",
      " - 0.001627 x - 0.002077 x - 0.002086 x - 0.003491 x - 0.009368 x - 0.009717 x - 0.05718\n",
      "\n",
      "\n",
      "lambda = 1.00e-06\n",
      "Degree : 16\n",
      "\n",
      "Learned polynomial for degree 16:\n",
      "\n",
      "        16           15           14           13           12\n",
      "0.9917 x  + 0.03438 x  + 0.02424 x  + 0.02329 x  + 0.01078 x \n",
      "             11            10            9             8            7\n",
      " + 0.006545 x  + 0.004677 x  + 0.002082 x - 0.0007679 x - 0.001128 x\n",
      "             6            5            4            3            2\n",
      " - 0.004602 x - 0.006685 x - 0.007302 x - 0.007635 x - 0.009064 x - 0.009198 x - 0.06439\n",
      "\n",
      "\n",
      "lambda = 1.00e-03\n",
      "Degree : 16\n",
      "\n",
      "Learned polynomial for degree 16:\n",
      "\n",
      "        16           15           14           13           12\n",
      "0.9789 x  + 0.09133 x  + 0.01718 x  + 0.01585 x  + 0.01355 x \n",
      "            11            10            9             8             7\n",
      " + 0.01225 x  + 0.007961 x  + 0.003815 x + 0.0009479 x + 0.0001985 x\n",
      "             6           5          4            3           2\n",
      " - 0.002751 x - 0.00503 x - 0.0067 x - 0.007847 x - 0.02484 x - 0.06121 x - 0.07079\n",
      "\n",
      "\n",
      "lambda = 1.00e+02\n",
      "Degree : 16\n",
      "\n",
      "Learned polynomial for degree 16:\n",
      "\n",
      "         16           15            14            13            12\n",
      "0.04551 x  - 0.00211 x  - 0.002457 x  - 0.002866 x  - 0.003349 x \n",
      "             11            10            9            8            7\n",
      " - 0.003922 x  - 0.004601 x  - 0.005408 x - 0.006367 x - 0.007506 x\n",
      "             6           5           4           3           2\n",
      " - 0.008851 x - 0.01043 x - 0.01092 x - 0.01222 x - 0.01415 x - 0.01583 x - 0.01604\n",
      "\n",
      "\n"
     ]
    },
    {
     "data": {
      "image/png": "[encoded data removed]",
      "text/plain": [
       "<Figure size 432x288 with 1 Axes>"
      ]
     },
     "metadata": {
      "needs_background": "light"
     },
     "output_type": "display_data"
    },
    {
     "data": {
      "image/png": "[encoded data removed]",
      "text/plain": [
       "<Figure size 432x288 with 1 Axes>"
      ]
     },
     "metadata": {
      "needs_background": "light"
     },
     "output_type": "display_data"
    },
    {
     "data": {
      "image/png": "[encoded data removed]",
      "text/plain": [
       "<Figure size 432x288 with 1 Axes>"
      ]
     },
     "metadata": {
      "needs_background": "light"
     },
     "output_type": "display_data"
    },
    {
     "data": {
      "image/png": "[encoded data removed]",
      "text/plain": [
       "<Figure size 432x288 with 1 Axes>"
      ]
     },
     "metadata": {
      "needs_background": "light"
     },
     "output_type": "display_data"
    },
    {
     "data": {
      "image/png": "[encoded data removed]",
      "text/plain": [
       "<Figure size 432x288 with 1 Axes>"
      ]
     },
     "metadata": {
      "needs_background": "light"
     },
     "output_type": "display_data"
    }
   ],
   "source": [
    "for l2_penalty in [1e-25, 1e-10, 1e-6, 1e-3, 1e2]:\n",
    "    model = polynomial_ridge_regression(df, deg=16, l2_penalty=l2_penalty)\n",
    "    print('lambda = %.2e' % l2_penalty)\n",
    "    print_coefficients(model)\n",
    "    print('\\n')\n",
    "    plt.figure()\n",
    "    plot_poly_predictions(df,model)\n",
    "    plt.title('Ridge, lambda = %.2e' % l2_penalty)"
   ]
  },
  {
   "cell_type": "markdown",
   "metadata": {},
   "source": [
    "## Perform a ridge fit of a degree-16 polynomial using a \"good\" penalty strength"
   ]
  },
  {
   "cell_type": "markdown",
   "metadata": {},
   "source": [
    "We will learn about cross validation later in this course as a way to select a good value of the tuning parameter (penalty strength) lambda.  Here, we consider \"leave one out\" (LOO) cross validation, which one can show approximates average mean square error (MSE).  As a result, choosing lambda to minimize the LOO error is equivalent to choosing lambda to minimize an approximation to average MSE.\n",
    "\n",
    "_Note:_ For applying cross-validation, we will import a package called `turicreate_cross_validation`."
   ]
  },
  {
   "cell_type": "code",
   "execution_count": 264,
   "metadata": {},
   "outputs": [],
   "source": [
    "'''import turicreate_cross_validation.cross_validation as tcv\n",
    "\n",
    "# LOO cross validation -- return the average MSE\n",
    "def loo(data, deg, l2_penalty_values):\n",
    "    # Create polynomial features\n",
    "    data = polynomial_features(data, deg)\n",
    "    \n",
    "    # Create as many folds for cross validatation as number of data points\n",
    "    num_folds = len(data)\n",
    "    shuffled_data = tcv.shuffle_sframe(data, 98103)\n",
    "    folds_iterator = tcv.KFold(shuffled_data, num_folds)\n",
    "    folds = [f for f in folds_iterator]\n",
    "    \n",
    "    # for each value of l2_penalty, fit a model for each fold and compute average MSE\n",
    "    l2_penalty_mse = []\n",
    "    min_mse = None\n",
    "    best_l2_penalty = None\n",
    "    for l2_penalty in l2_penalty_values:\n",
    "        next_mse = 0.0\n",
    "        for train_set, x_test in folds:\n",
    "            # train model\n",
    "            model = turicreate.linear_regression.create(train_set,target='Y', \n",
    "                                                        l2_penalty=l2_penalty,\n",
    "                                                        x_test=None,verbose=False)\n",
    "            \n",
    "            # predict on validation set \n",
    "            y_predicted = model.predict(x_test)\n",
    "            # compute squared error\n",
    "            next_mse += ((y_predicted-x_test['Y'])**2).sum()\n",
    "            #print \"   Error so far:\", next_mse\n",
    "        # save squared error in list of MSE for each l2_penalty\n",
    "        next_mse = next_mse/num_folds\n",
    "        l2_penalty_mse.append(next_mse)\n",
    "        if min_mse is None or next_mse < min_mse:\n",
    "            min_mse = next_mse\n",
    "            best_l2_penalty = l2_penalty\n",
    "            \n",
    "    return l2_penalty_mse,best_l2_penalty'''\n",
    "\n",
    "\n",
    "# LOO cross validation -- return the average MSE\n",
    "def loo(df, deg, l2_penalty_values):\n",
    "    # Create polynomial features\n",
    "    poly_features = polynomial_features(df, deg)\n",
    "    \n",
    "    # Create as many folds for cross validation as number of poly_features points\n",
    "    num_folds = len(poly_features)\n",
    "    \n",
    "    target = np.array(df['Y']).reshape(-1,1)\n",
    "    \n",
    "    kf = KFold(n_splits=num_folds, random_state=98103, shuffle=True)\n",
    "    kf.get_n_splits(poly_features)\n",
    "    print('\\n\\n',kf)\n",
    "    print('\\n\\n')\n",
    "\n",
    "    for train_index, test_index in kf.split(poly_features):\n",
    "        print('\\n')\n",
    "        print('TRAIN:', train_index, 'TEST:', test_index)\n",
    "        x_train, x_test = poly_features.iloc[train_index], poly_features.iloc[test_index]\n",
    "        y_train, y_test = poly_features.iloc[train_index], poly_features.iloc[test_index]\n",
    "    \n",
    "    \n",
    "    \n",
    "        # for each value of l2_penalty, fit a model for each fold and compute average MSE\n",
    "        l2_penalty_mse = []\n",
    "        min_mse = None\n",
    "        best_l2_penalty = None\n",
    "        for l2_penalty in l2_penalty_values:\n",
    "            next_mse = 0.0\n",
    "            reg = Ridge(alpha=l2_penalty)\n",
    "            model = reg.fit(poly_features, target)\n",
    "\n",
    "            # predict on validation set \n",
    "            y_predicted = reg.predict(x_test)\n",
    "            y_predicted = y_predicted.flatten()\n",
    "            \n",
    "            # compute squared error\n",
    "            next_mse += ((y_predicted-x_test['Y'])**2).sum()\n",
    "            \n",
    "            #print \"   Error so far:\", next_mse\n",
    "            # save squared error in list of MSE for each l2_penalty\n",
    "            next_mse = next_mse/num_folds\n",
    "            l2_penalty_mse.append(next_mse)\n",
    "            if min_mse is None or next_mse < min_mse:\n",
    "                min_mse = next_mse\n",
    "                best_l2_penalty = l2_penalty\n",
    "            \n",
    "    return l2_penalty_mse,best_l2_penalty"
   ]
  },
  {
   "cell_type": "markdown",
   "metadata": {},
   "source": [
    "Run LOO cross validation for \"num\" values of lambda, on a log scale"
   ]
  },
  {
   "cell_type": "code",
   "execution_count": 265,
   "metadata": {},
   "outputs": [
    {
     "name": "stdout",
     "output_type": "stream",
     "text": [
      "\n",
      "\n",
      " KFold(n_splits=30, random_state=98103, shuffle=True)\n",
      "\n",
      "\n",
      "\n",
      "\n",
      "\n",
      "TRAIN: [ 0  1  2  3  4  5  6  7  8  9 10 11 12 14 15 16 17 18 19 20 21 22 23 24\n",
      " 25 26 27 28 29] TEST: [13]\n",
      "\n",
      "\n",
      "TRAIN: [ 0  1  2  3  4  5  6  7  8  9 10 11 12 13 14 16 17 18 19 20 21 22 23 24\n",
      " 25 26 27 28 29] TEST: [15]\n",
      "\n",
      "\n",
      "TRAIN: [ 0  1  2  3  4  5  6  7  8  9 10 11 12 13 14 15 16 17 19 20 21 22 23 24\n",
      " 25 26 27 28 29] TEST: [18]\n",
      "\n",
      "\n",
      "TRAIN: [ 0  1  2  3  4  5  7  8  9 10 11 12 13 14 15 16 17 18 19 20 21 22 23 24\n",
      " 25 26 27 28 29] TEST: [6]\n",
      "\n",
      "\n",
      "TRAIN: [ 0  1  2  3  4  6  7  8  9 10 11 12 13 14 15 16 17 18 19 20 21 22 23 24\n",
      " 25 26 27 28 29] TEST: [5]\n",
      "\n",
      "\n",
      "TRAIN: [ 0  1  2  3  4  5  6  7  8  9 10 11 12 13 14 15 16 17 18 19 21 22 23 24\n",
      " 25 26 27 28 29] TEST: [20]\n",
      "\n",
      "\n",
      "TRAIN: [ 0  1  2  3  4  5  6  7  8  9 10 11 12 13 14 15 16 17 18 19 20 21 23 24\n",
      " 25 26 27 28 29] TEST: [22]\n",
      "\n",
      "\n",
      "TRAIN: [ 0  1  2  3  4  5  6  7  8  9 10 11 12 13 14 15 16 17 18 19 20 21 22 23\n",
      " 25 26 27 28 29] TEST: [24]\n",
      "\n",
      "\n",
      "TRAIN: [ 0  1  2  3  4  5  6  7  8  9 10 11 12 13 14 15 16 17 18 19 20 21 22 23\n",
      " 24 25 26 27 28] TEST: [29]\n",
      "\n",
      "\n",
      "TRAIN: [ 0  2  3  4  5  6  7  8  9 10 11 12 13 14 15 16 17 18 19 20 21 22 23 24\n",
      " 25 26 27 28 29] TEST: [1]\n",
      "\n",
      "\n",
      "TRAIN: [ 0  1  2  3  4  5  6  8  9 10 11 12 13 14 15 16 17 18 19 20 21 22 23 24\n",
      " 25 26 27 28 29] TEST: [7]\n",
      "\n",
      "\n",
      "TRAIN: [ 0  1  2  3  4  5  6  7  8  9 10 11 12 13 14 15 16 17 18 20 21 22 23 24\n",
      " 25 26 27 28 29] TEST: [19]\n",
      "\n",
      "\n",
      "TRAIN: [ 0  1  2  3  4  5  6  7  8  9 10 11 12 13 14 15 16 17 18 19 20 21 22 23\n",
      " 24 26 27 28 29] TEST: [25]\n",
      "\n",
      "\n",
      "TRAIN: [ 0  1  2  3  4  5  6  7  8  9 10 11 12 13 14 15 16 17 18 19 20 21 22 24\n",
      " 25 26 27 28 29] TEST: [23]\n",
      "\n",
      "\n",
      "TRAIN: [ 0  1  2  4  5  6  7  8  9 10 11 12 13 14 15 16 17 18 19 20 21 22 23 24\n",
      " 25 26 27 28 29] TEST: [3]\n",
      "\n",
      "\n",
      "TRAIN: [ 0  1  2  3  5  6  7  8  9 10 11 12 13 14 15 16 17 18 19 20 21 22 23 24\n",
      " 25 26 27 28 29] TEST: [4]\n",
      "\n",
      "\n",
      "TRAIN: [ 0  1  2  3  4  5  6  7  8  9 10 11 12 13 14 15 16 17 18 19 20 21 22 23\n",
      " 24 25 27 28 29] TEST: [26]\n",
      "\n",
      "\n",
      "TRAIN: [ 0  1  2  3  4  5  6  7  8  9 10 11 12 13 14 15 16 17 18 19 20 22 23 24\n",
      " 25 26 27 28 29] TEST: [21]\n",
      "\n",
      "\n",
      "TRAIN: [ 0  1  2  3  4  5  6  7  8 10 11 12 13 14 15 16 17 18 19 20 21 22 23 24\n",
      " 25 26 27 28 29] TEST: [9]\n",
      "\n",
      "\n",
      "TRAIN: [ 0  1  2  3  4  5  6  7  8  9 10 12 13 14 15 16 17 18 19 20 21 22 23 24\n",
      " 25 26 27 28 29] TEST: [11]\n",
      "\n",
      "\n",
      "TRAIN: [ 0  1  3  4  5  6  7  8  9 10 11 12 13 14 15 16 17 18 19 20 21 22 23 24\n",
      " 25 26 27 28 29] TEST: [2]\n",
      "\n",
      "\n",
      "TRAIN: [ 0  1  2  3  4  5  6  7  8  9 10 11 12 13 14 15 17 18 19 20 21 22 23 24\n",
      " 25 26 27 28 29] TEST: [16]\n",
      "\n",
      "\n",
      "TRAIN: [ 0  1  2  3  4  5  6  7  8  9 10 11 12 13 14 15 16 18 19 20 21 22 23 24\n",
      " 25 26 27 28 29] TEST: [17]\n",
      "\n",
      "\n",
      "TRAIN: [ 0  1  2  3  4  5  6  7  8  9 10 11 13 14 15 16 17 18 19 20 21 22 23 24\n",
      " 25 26 27 28 29] TEST: [12]\n",
      "\n",
      "\n",
      "TRAIN: [ 0  1  2  3  4  5  6  7  8  9 11 12 13 14 15 16 17 18 19 20 21 22 23 24\n",
      " 25 26 27 28 29] TEST: [10]\n",
      "\n",
      "\n",
      "TRAIN: [ 0  1  2  3  4  5  6  7  8  9 10 11 12 13 15 16 17 18 19 20 21 22 23 24\n",
      " 25 26 27 28 29] TEST: [14]\n",
      "\n",
      "\n",
      "TRAIN: [ 0  1  2  3  4  5  6  7  8  9 10 11 12 13 14 15 16 17 18 19 20 21 22 23\n",
      " 24 25 26 28 29] TEST: [27]\n",
      "\n",
      "\n",
      "TRAIN: [ 0  1  2  3  4  5  6  7  9 10 11 12 13 14 15 16 17 18 19 20 21 22 23 24\n",
      " 25 26 27 28 29] TEST: [8]\n",
      "\n",
      "\n",
      "TRAIN: [ 0  1  2  3  4  5  6  7  8  9 10 11 12 13 14 15 16 17 18 19 20 21 22 23\n",
      " 24 25 26 27 29] TEST: [28]\n",
      "\n",
      "\n",
      "TRAIN: [ 1  2  3  4  5  6  7  8  9 10 11 12 13 14 15 16 17 18 19 20 21 22 23 24\n",
      " 25 26 27 28 29] TEST: [0]\n"
     ]
    }
   ],
   "source": [
    "l2_penalty_values = np.logspace(-4, 10, num=10)\n",
    "l2_penalty_mse,best_l2_penalty = loo(df, 16, l2_penalty_values)"
   ]
  },
  {
   "cell_type": "markdown",
   "metadata": {},
   "source": [
    "Plot results of estimating LOO for each value of lambda"
   ]
  },
  {
   "cell_type": "code",
   "execution_count": 266,
   "metadata": {},
   "outputs": [
    {
     "data": {
      "image/png": "[encoded data removed]",
      "text/plain": [
       "<Figure size 432x288 with 1 Axes>"
      ]
     },
     "metadata": {
      "needs_background": "light"
     },
     "output_type": "display_data"
    }
   ],
   "source": [
    "plt.plot(l2_penalty_values,l2_penalty_mse,'k-')\n",
    "plt.xlabel('$\\ell_2$ penalty')\n",
    "plt.ylabel('LOO cross validation error')\n",
    "plt.xscale('log')\n",
    "plt.yscale('log')"
   ]
  },
  {
   "cell_type": "markdown",
   "metadata": {},
   "source": [
    "Find the value of lambda, $\\lambda_{\\mathrm{CV}}$, that minimizes the LOO cross validation error, and plot resulting fit"
   ]
  },
  {
   "cell_type": "code",
   "execution_count": 267,
   "metadata": {},
   "outputs": [
    {
     "data": {
      "text/plain": [
       "0.0001"
      ]
     },
     "execution_count": 267,
     "metadata": {},
     "output_type": "execute_result"
    }
   ],
   "source": [
    "best_l2_penalty"
   ]
  },
  {
   "cell_type": "code",
   "execution_count": 269,
   "metadata": {},
   "outputs": [
    {
     "name": "stdout",
     "output_type": "stream",
     "text": [
      "Degree : 16\n",
      "\n",
      "Learned polynomial for degree 16:\n",
      "\n",
      "        16           15           14           13           12\n",
      "0.9823 x  + 0.07902 x  + 0.02054 x  + 0.01945 x  + 0.01613 x \n",
      "            11            10            9             8            7\n",
      " + 0.01005 x  + 0.006909 x  + 0.004266 x - 0.0004223 x - 0.003825 x\n",
      "             6            5            4            3           2\n",
      " - 0.006049 x - 0.007312 x - 0.007845 x - 0.007861 x - 0.02273 x - 0.05862 x - 0.06251\n"
     ]
    }
   ],
   "source": [
    "model = polynomial_ridge_regression(df, deg=16, l2_penalty=best_l2_penalty)\n",
    "print_coefficients(model)"
   ]
  },
  {
   "cell_type": "code",
   "execution_count": 271,
   "metadata": {},
   "outputs": [
    {
     "data": {
      "image/png": "[encoded data removed]",
      "text/plain": [
       "<Figure size 432x288 with 1 Axes>"
      ]
     },
     "metadata": {
      "needs_background": "light"
     },
     "output_type": "display_data"
    }
   ],
   "source": [
    "plot_poly_predictions(df,model)"
   ]
  },
  {
   "cell_type": "markdown",
   "metadata": {
    "collapsed": true
   },
   "source": [
    "# Lasso Regression"
   ]
  },
  {
   "cell_type": "markdown",
   "metadata": {},
   "source": [
    "Lasso regression jointly shrinks coefficients to avoid overfitting, and implicitly performs feature selection by setting some coefficients exactly to 0 for sufficiently large penalty strength lambda (here called \"L1_penalty\").  In particular, lasso takes the RSS term of standard least squares and adds a 1-norm cost of the coefficients $\\|w\\|$."
   ]
  },
  {
   "cell_type": "markdown",
   "metadata": {},
   "source": [
    "Define our function to solve the lasso objective for a polynomial regression model of any degree:"
   ]
  },
  {
   "cell_type": "code",
   "execution_count": 272,
   "metadata": {},
   "outputs": [],
   "source": [
    "'''def polynomial_lasso_regression(df, deg, l1_penalty):   \n",
    "    model = turicreate.linear_regression.create(polynomial_features(data,deg), \n",
    "                                                target='Y', l2_penalty=0.,\n",
    "                                                l1_penalty=l1_penalty,\n",
    "                                                validation_set=None, \n",
    "                                                solver='fista', verbose=False,\n",
    "                                                max_iterations=3000, convergence_threshold=1e-10)\n",
    "    return model'''\n",
    "\n",
    "def polynomial_lasso_regression(df, deg, l1_penalty):\n",
    "    \n",
    "    reg = Ridge(alpha=l1_penalty)\n",
    "    #features = polynomial_features(df.drop('Y', axis=1), deg)\n",
    "    features = polynomial_features(df, deg)\n",
    "    target = np.array(df['Y']).reshape(-1,1)\n",
    "    model = reg.fit(features, target)\n",
    "    \n",
    "    return model"
   ]
  },
  {
   "cell_type": "markdown",
   "metadata": {},
   "source": [
    "## Explore the lasso solution as a function of a few different penalty strengths"
   ]
  },
  {
   "cell_type": "markdown",
   "metadata": {},
   "source": [
    "We refer to lambda in the lasso case below as \"l1_penalty\""
   ]
  },
  {
   "cell_type": "code",
   "execution_count": 277,
   "metadata": {
    "scrolled": false
   },
   "outputs": [
    {
     "name": "stdout",
     "output_type": "stream",
     "text": [
      "l1_penalty = 1.000000e-04\n",
      "number of nonzeros = 17\n",
      "Degree : 16\n",
      "\n",
      "Learned polynomial for degree 16:\n",
      "\n",
      "        16           15           14           13           12\n",
      "0.9823 x  + 0.07902 x  + 0.02054 x  + 0.01945 x  + 0.01613 x \n",
      "            11            10            9             8            7\n",
      " + 0.01005 x  + 0.006909 x  + 0.004266 x - 0.0004223 x - 0.003825 x\n",
      "             6            5            4            3           2\n",
      " - 0.006049 x - 0.007312 x - 0.007845 x - 0.007861 x - 0.02273 x - 0.05862 x - 0.06251\n",
      "\n",
      "\n",
      "l1_penalty = 1.000000e-02\n",
      "number of nonzeros = 17\n",
      "Degree : 16\n",
      "\n",
      "Learned polynomial for degree 16:\n",
      "\n",
      "       16          15           14         13           12           11\n",
      "0.969 x  + 0.1037 x  + 0.01202 x  + 0.012 x  + 0.01122 x  + 0.01042 x \n",
      "            10            9            8          7            6\n",
      " + 0.01002 x  + 0.008704 x + 0.007405 x + 0.0062 x + 0.006131 x\n",
      "             5            4           3          2\n",
      " + 0.005126 x - 0.002594 x - 0.01793 x - 0.0413 x - 0.06185 x - 0.06747\n",
      "\n",
      "\n",
      "l1_penalty = 1.000000e-01\n",
      "number of nonzeros = 17\n",
      "Degree : 16\n",
      "\n",
      "Learned polynomial for degree 16:\n",
      "\n",
      "        16          15            14            13            12\n",
      "0.9247 x  + 0.1192 x  + 0.007623 x  + 0.007613 x  + 0.007363 x \n",
      "             11            10            9             8           7\n",
      " + 0.006715 x  + 0.005517 x  + 0.003553 x + 0.0005274 x - 0.00395 x\n",
      "            6           5           4           3           2\n",
      " - 0.01038 x - 0.01939 x - 0.03158 x - 0.04416 x - 0.04714 x - 0.06426 x - 0.07408\n",
      "\n",
      "\n",
      "l1_penalty = 1.000000e+01\n",
      "number of nonzeros = 17\n",
      "Degree : 16\n",
      "\n",
      "Learned polynomial for degree 16:\n",
      "\n",
      "        16           15           14           13          12\n",
      "0.2823 x  - 0.01075 x  - 0.01252 x  - 0.01462 x  - 0.0171 x \n",
      "            11           10           9           8           7\n",
      " - 0.02004 x  - 0.02352 x  - 0.02765 x - 0.03194 x - 0.03254 x\n",
      "           6           5           4           3           2\n",
      " - 0.0383 x - 0.04505 x - 0.05281 x - 0.06139 x - 0.06995 x - 0.07074 x - 0.07581\n",
      "\n",
      "\n"
     ]
    },
    {
     "data": {
      "image/png": "[encoded data removed]",
      "text/plain": [
       "<Figure size 432x288 with 1 Axes>"
      ]
     },
     "metadata": {
      "needs_background": "light"
     },
     "output_type": "display_data"
    },
    {
     "data": {
      "image/png": "[encoded data removed]",
      "text/plain": [
       "<Figure size 432x288 with 1 Axes>"
      ]
     },
     "metadata": {
      "needs_background": "light"
     },
     "output_type": "display_data"
    },
    {
     "data": {
      "image/png": "[encoded data removed]",
      "text/plain": [
       "<Figure size 432x288 with 1 Axes>"
      ]
     },
     "metadata": {
      "needs_background": "light"
     },
     "output_type": "display_data"
    },
    {
     "data": {
      "image/png": "[encoded data removed]",
      "text/plain": [
       "<Figure size 432x288 with 1 Axes>"
      ]
     },
     "metadata": {
      "needs_background": "light"
     },
     "output_type": "display_data"
    }
   ],
   "source": [
    "for l1_penalty in [0.0001, 0.01, 0.1, 10]:\n",
    "    model = polynomial_lasso_regression(df, deg=16, l1_penalty=l1_penalty)\n",
    "    print('l1_penalty = %e' % l1_penalty)\n",
    "    print('number of nonzeros = %d' % np.count_nonzero(model.coef_))\n",
    "    print_coefficients(model)\n",
    "    print('\\n')\n",
    "    plt.figure()\n",
    "    plot_poly_predictions(data,model)\n",
    "    plt.title('LASSO, lambda = %.2e, # nonzeros = %d' % (l1_penalty, np.count_nonzero(model.coef_)))"
   ]
  },
  {
   "cell_type": "markdown",
   "metadata": {
    "collapsed": true
   },
   "source": [
    "Above: We see that as lambda increases, we get sparser and sparser solutions.  However, even for our non-sparse case for lambda=0.0001, the fit of our high-order polynomial is not too wild.  This is because, like in ridge, coefficients included in the lasso solution are shrunk relative to those of the least squares (unregularized) solution.  This leads to better behavior even without sparsity.  Of course, as lambda goes to 0, the amount of this shrinkage decreases and the lasso solution approaches the (wild) least squares solution."
   ]
  }
 ],
 "metadata": {
  "kernelspec": {
   "display_name": "Python 3",
   "language": "python",
   "name": "python3"
  },
  "language_info": {
   "codemirror_mode": {
    "name": "ipython",
    "version": 3
   },
   "file_extension": ".py",
   "mimetype": "text/x-python",
   "name": "python",
   "nbconvert_exporter": "python",
   "pygments_lexer": "ipython3",
   "version": "3.6.5"
  }
 },
 "nbformat": 4,
 "nbformat_minor": 1
}
