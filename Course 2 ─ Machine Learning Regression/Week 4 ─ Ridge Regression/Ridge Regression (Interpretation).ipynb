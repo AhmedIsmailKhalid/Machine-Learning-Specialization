{
 "cells": [
  {
   "cell_type": "markdown",
   "metadata": {
    "hideCode": false,
    "hidePrompt": false
   },
   "source": [
    "# Regression Week 4: Ridge Regression (Interpretation)"
   ]
  },
  {
   "cell_type": "markdown",
   "metadata": {
    "hideCode": false,
    "hidePrompt": false
   },
   "source": [
    "In this notebook, we will run ridge regression multiple times with different L2 penalties to see which one produces the best fit. We will revisit the example of polynomial regression as a means to see the effect of L2 regularization. In particular, we will:\n",
    "* Use a pre-built implementation of regression (Turi Create) to run polynomial regression\n",
    "* Use matplotlib to visualize polynomial regressions\n",
    "* Use a pre-built implementation of regression (Turi Create) to run polynomial regression, this time with L2 penalty\n",
    "* Use matplotlib to visualize polynomial regressions under L2 regularization\n",
    "* Choose best L2 penalty using cross-validation.\n",
    "* Assess the final fit using test data.\n",
    "\n",
    "We will continue to use the House data from previous notebooks.  (In the next programming assignment for this module, you will implement your own ridge regression learning algorithm using gradient descent.)"
   ]
  },
  {
   "cell_type": "markdown",
   "metadata": {
    "hideCode": false,
    "hidePrompt": false
   },
   "source": [
    "# Import Neccessary Libraries"
   ]
  },
  {
   "cell_type": "code",
   "execution_count": 1,
   "metadata": {
    "hideCode": false,
    "hidePrompt": false
   },
   "outputs": [],
   "source": [
    "import pandas as pd\n",
    "import numpy as np\n",
    "import matplotlib.pyplot as plt\n",
    "import math\n",
    "from sklearn.linear_model import LinearRegression, Ridge, Lasso\n",
    "%matplotlib inline"
   ]
  },
  {
   "cell_type": "markdown",
   "metadata": {
    "hideCode": false,
    "hidePrompt": false
   },
   "source": [
    "# Polynomial regression, revisited"
   ]
  },
  {
   "cell_type": "markdown",
   "metadata": {
    "hideCode": false,
    "hidePrompt": false
   },
   "source": [
    "We build on the material from Week 3, where we wrote the function to produce an **Pandas DataFrame** with columns containing the powers of a given input. Copy and paste the function `polynomial_dataframe` from Week 3:"
   ]
  },
  {
   "cell_type": "code",
   "execution_count": 2,
   "metadata": {
    "hideCode": false,
    "hidePrompt": false
   },
   "outputs": [],
   "source": [
    "def polynomial_dataframe(feature, degree): # feature is pandas.Series type\n",
    "    # assume that degree >= 1\n",
    "    # initialize the dataframe:\n",
    "    poly_dataframe = pd.DataFrame()\n",
    "    # and set poly_dataframe['power_1'] equal to the passed feature\n",
    "    poly_dataframe['power_1'] = feature\n",
    "    \n",
    "    # first check if degree > 1\n",
    "    if degree > 1:\n",
    "        # then loop over the remaining degrees:\n",
    "        for power in range(2, degree+1):\n",
    "            # first we'll give the column a name:\n",
    "            name = 'power_' + str(power)\n",
    "            # assign poly_dataframe[name] to be feature^power; use apply(*)\n",
    "            poly_dataframe[name] = feature ** power # used feature**power as 'numpy.ndarray' object has no attribute 'apply'\n",
    "            \n",
    "    return poly_dataframe"
   ]
  },
  {
   "cell_type": "markdown",
   "metadata": {
    "hideCode": false,
    "hidePrompt": false
   },
   "source": [
    "Let's use matplotlib to visualize what a polynomial regression looks like on the house data."
   ]
  },
  {
   "cell_type": "code",
   "execution_count": 3,
   "metadata": {
    "hideCode": false,
    "hidePrompt": false
   },
   "outputs": [],
   "source": [
    "dtype_dict = {'bathrooms':float, 'waterfront':int, 'sqft_above':int, 'sqft_living15':float, 'grade':int, 'yr_renovated':int, 'price':float, 'bedrooms':float, 'zipcode':str, 'long':float, 'sqft_lot15':float, 'sqft_living':float, 'floors':float, 'condition':int, 'lat':float, 'date':str, 'sqft_basement':int, 'yr_built':int, 'id':str, 'sqft_lot':int, 'view':int}\n",
    "\n",
    "sales = pd.read_csv('kc_house_data.csv', dtype=dtype_dict)\n",
    "sales = sales.sort_values(['sqft_living','price'])"
   ]
  },
  {
   "cell_type": "markdown",
   "metadata": {
    "hideCode": false,
    "hidePrompt": false
   },
   "source": [
    "Let us revisit the 15th-order polynomial model using the 'sqft_living' input. Generate polynomial features up to degree 15 using `polynomial_dataframe()` and fit a model with these features. When fitting the model, use an L2 penalty of `1e-5`:"
   ]
  },
  {
   "cell_type": "code",
   "execution_count": 4,
   "metadata": {
    "hideCode": false,
    "hidePrompt": false
   },
   "outputs": [],
   "source": [
    "l2_small_penalty = 1e-5"
   ]
  },
  {
   "cell_type": "markdown",
   "metadata": {
    "hideCode": false,
    "hidePrompt": false
   },
   "source": [
    "Note: When we have so many features and so few data points, the solution can become highly numerically unstable, which can sometimes lead to strange unpredictable results.  Thus, rather than using no regularization, we will introduce a tiny amount of regularization (`l2_penalty=1e-5`) to make the solution numerically stable.  (In lecture, we discussed the fact that regularization can also help with numerical stability, and here we are seeing a practical example.)\n",
    "\n",
    "With the L2 penalty specified above, fit the model and print out the learned weights.\n",
    "\n",
    "Hint: make sure to add 'price' column to the new SFrame before calling `turicreate.linear_regression.create()`. Also, make sure Turi Create doesn't create its own validation set by using the option `validation_set=None` in this call."
   ]
  },
  {
   "cell_type": "code",
   "execution_count": 5,
   "metadata": {
    "hideCode": false,
    "hidePrompt": false
   },
   "outputs": [
    {
     "name": "stdout",
     "output_type": "stream",
     "text": [
      "Intercept :  194587.10584422923 \n",
      "Coefficient :  [ 1.74425503e+02 -7.83644074e-02  3.73280427e-05 -2.85554311e-09\n",
      " -2.37487557e-13  9.70529709e-18  1.77791834e-21  9.76993158e-26\n",
      "  7.78897288e-31 -3.83833667e-34 -4.52940095e-38 -3.16694117e-42\n",
      " -1.24102475e-46  4.53456467e-51  1.63425896e-54]\n"
     ]
    }
   ],
   "source": [
    "poly15_data = polynomial_dataframe(sales['sqft_living'], 15)\n",
    "reg = Ridge(alpha=l2_small_penalty, normalize=True)\n",
    "model = reg.fit(poly15_data, sales['price'])\n",
    "print('Intercept : ', model.intercept_, '\\nCoefficient : ', model.coef_)"
   ]
  },
  {
   "cell_type": "markdown",
   "metadata": {
    "hideCode": false,
    "hidePrompt": false,
    "variables": {
     "model.coef_[0]": "174.42550286879072"
    }
   },
   "source": [
    "<font color = 'steelblue'><b> Quiz : What's the learned value for the coefficient of feature `power_1`?\n",
    "\n",
    "<font color = 'mediumvioletred'><b> Answer : The learned value for coefficient of feature `power_1` is {{model.coef_[0]}} </b></font>"
   ]
  },
  {
   "cell_type": "markdown",
   "metadata": {
    "hideCode": false,
    "hidePrompt": false
   },
   "source": [
    "# Observe overfitting"
   ]
  },
  {
   "cell_type": "markdown",
   "metadata": {
    "hideCode": false,
    "hidePrompt": false
   },
   "source": [
    "Recall from Week 3 that the polynomial fit of degree 15 changed wildly whenever the data changed. In particular, when we split the sales data into four subsets and fit the model of degree 15, the result came out to be very different for each subset. The model had a *high variance*. We will see in a moment that ridge regression reduces such variance. But first, we must reproduce the experiment we did in Week 3."
   ]
  },
  {
   "cell_type": "markdown",
   "metadata": {
    "hideCode": false,
    "hidePrompt": false
   },
   "source": [
    "First, split the data into split the sales data into four subsets of roughly equal size and call them `set_1`, `set_2`, `set_3`, and `set_4`. Use `.random_split` function and make sure you set `seed=0`. Since this notebook uses pandas, hence the sets are loaded using provided csv files"
   ]
  },
  {
   "cell_type": "code",
   "execution_count": 6,
   "metadata": {
    "hideCode": false,
    "hidePrompt": false
   },
   "outputs": [],
   "source": [
    "set_1 = pd.read_csv('wk3_kc_data/wk3_kc_house_set_1_data.csv', dtype=dtype_dict)\n",
    "set_2 = pd.read_csv('wk3_kc_data/wk3_kc_house_set_2_data.csv', dtype=dtype_dict)\n",
    "set_3 = pd.read_csv('wk3_kc_data/wk3_kc_house_set_3_data.csv', dtype=dtype_dict)\n",
    "set_4 = pd.read_csv('wk3_kc_data/wk3_kc_house_set_4_data.csv', dtype=dtype_dict)"
   ]
  },
  {
   "cell_type": "markdown",
   "metadata": {
    "hideCode": false,
    "hidePrompt": false
   },
   "source": [
    "Next, fit a 15th degree polynomial on `set_1`, `set_2`, `set_3`, and `set_4`, using 'sqft_living' to predict prices. Print the weights and make a plot of the resulting model.\n",
    "\n",
    "Hint: When calling `Rdige()`, use the same L2 penalty as before (i.e. `l2_small_penalty`) and `normalize=True`."
   ]
  },
  {
   "cell_type": "code",
   "execution_count": 7,
   "metadata": {
    "hideCode": false,
    "hidePrompt": false
   },
   "outputs": [
    {
     "name": "stdout",
     "output_type": "stream",
     "text": [
      "Model 1 (set_1) \n",
      " Intercept :  280915.3555895431 \n",
      " Coefficients :  [ 1.35106541e+00  3.19234209e-02  1.07086408e-05 -1.28970532e-09\n",
      " -4.47155463e-14  3.81041561e-18  4.24248437e-22  1.96017005e-26\n",
      "  1.49048033e-31 -6.13503240e-35 -6.82840136e-39 -4.67709046e-43\n",
      " -2.10184245e-47 -8.89317653e-53  1.16502522e-55]\n",
      "\n",
      "\n",
      "Model 2 (set_2) \n",
      " Intercept :  102941.94020198239 \n",
      " Coefficients :  [ 3.06811912e+02 -1.10337028e-01  2.08490549e-05  2.98669658e-09\n",
      " -2.42811465e-13 -6.07977350e-17 -3.77268792e-21  1.49040029e-25\n",
      "  5.57116802e-29  6.43705333e-33  4.25867543e-37  4.82318982e-42\n",
      " -3.03837397e-45 -4.57634951e-49 -2.76992773e-53]\n",
      "\n",
      "\n",
      "Model 3 (set_3) \n",
      " Intercept :  155484.98302938417 \n",
      " Coefficients :  [ 2.24270165e+02 -8.50705146e-02  2.91660261e-05 -3.27706590e-10\n",
      " -3.22003146e-13 -1.37028904e-17  1.45817007e-21  2.51499734e-25\n",
      "  1.67296460e-29 -2.47341744e-35 -1.50354594e-37 -2.08735577e-41\n",
      " -1.52339140e-45  1.36773290e-50  2.67018164e-53]\n",
      "\n",
      "\n",
      "Model 4 (set_4) \n",
      " Intercept :  196865.47360691446 \n",
      " Coefficients :  [ 8.30810284e+01  5.56939394e-02 -1.93608587e-05  1.40446165e-09\n",
      "  8.52611518e-13  4.41194605e-17 -1.31610651e-20 -2.97809167e-24\n",
      " -2.78774859e-28  1.30358938e-33  5.15958611e-36  9.97302820e-40\n",
      "  1.04676847e-43  6.91302395e-49 -2.73272564e-51]\n",
      "\n",
      "\n",
      "\n",
      "\n",
      "Smallest coefficient for feature power_1 :  1.3510654138486393\n",
      "Largest coefficient for feature power_1 :  306.81191153455165\n"
     ]
    }
   ],
   "source": [
    "'''Estimating 15th degree polynomial on the set_1'''\n",
    "\n",
    "set_1_data = polynomial_dataframe(set_1['sqft_living'], 15)\n",
    "set_1_data['price'] = set_1['price'] # add price to the data since it's the target\n",
    "set_1_features = set_1_data.iloc[:,:-1]# get the values of the features\n",
    "\n",
    "# Create Linear Regression Model.\n",
    "reg1 = Ridge(alpha=l2_small_penalty, normalize=True)\n",
    "\n",
    "# Fit the Model to the set_1 data\n",
    "model_set_1 = reg1.fit(set_1_features,set_1_data['price'])\n",
    "\n",
    "print('Model 1 (set_1) \\n Intercept : ', model_set_1.intercept_, '\\n Coefficients : ', model_set_1.coef_)\n",
    "\n",
    "\n",
    "\n",
    "'''Estimating 15th degree polynomial on the set_2'''\n",
    "\n",
    "set_2_data = polynomial_dataframe(set_2['sqft_living'], 15)\n",
    "set_2_data['price'] = set_2['price'] # add price to the data since it's the target\n",
    "set_2_features = set_2_data.iloc[:,:-1] # get the values of the features\n",
    "\n",
    "# Create Linear Regression Model.\n",
    "reg2 = Ridge(alpha=l2_small_penalty, normalize=True)\n",
    "\n",
    "# Fit the Model to the set_2 data\n",
    "model_set_2 = reg2.fit(set_2_features,set_2_data['price'])\n",
    "\n",
    "print('\\n\\nModel 2 (set_2) \\n Intercept : ', model_set_2.intercept_, '\\n Coefficients : ', model_set_2.coef_)\n",
    "\n",
    "\n",
    "\n",
    "'''Estimating 15th degree polynomial on the set_3'''\n",
    "\n",
    "set_3_data = polynomial_dataframe(set_3['sqft_living'], 15)\n",
    "set_3_data['price'] = set_3['price'] # add price to the data since it's the target\n",
    "set_3_features = set_3_data.iloc[:,:-1] # get the values of the features\n",
    "\n",
    "# Create Linear Regression Model.\n",
    "reg3 = Ridge(alpha=l2_small_penalty, normalize=True)\n",
    "\n",
    "# Fit the Model to the set_3 data\n",
    "model_set_3 = reg3.fit(set_3_features,set_3_data['price'])\n",
    "\n",
    "print('\\n\\nModel 3 (set_3) \\n Intercept : ', model_set_3.intercept_, '\\n Coefficients : ', model_set_3.coef_)\n",
    "\n",
    "\n",
    "\n",
    "'''Estimating 15th degree polynomial on the set_4'''\n",
    "\n",
    "set_4_data = polynomial_dataframe(set_4['sqft_living'], 15)\n",
    "set_4_data['price'] = set_4['price'] # add price to the data since it's the target\n",
    "set_4_features = set_4_data.iloc[:,:-1] # get the values of the features\n",
    "\n",
    "# Create Linear Regression Model.\n",
    "reg4 = Ridge(alpha=l2_small_penalty, normalize=True)\n",
    "\n",
    "# Fit the Model to the set_4 data\n",
    "model_set_4 = reg4.fit(set_4_features,set_4_data['price'])\n",
    "\n",
    "print('\\n\\nModel 4 (set_4) \\n Intercept : ', model_set_4.intercept_, '\\n Coefficients : ', model_set_4.coef_)\n",
    "\n",
    "\n",
    "# To answer the quiz question, the following code is used\n",
    "'''Create an list containing the all the coeffiecients of power_1'''\n",
    "coefs_power_1 = [model_set_1.coef_[0], model_set_2.coef_[0], model_set_3.coef_[0], model_set_4.coef_[0]]\n",
    "\n",
    "#Find the smallest and the largest values\n",
    "smallest_coef_power_1 = min(coefs_power_1)\n",
    "largest_coef_power_1 = max(coefs_power_1)\n",
    "print('\\n\\n\\n\\nSmallest coefficient for feature power_1 : ', smallest_coef_power_1)\n",
    "print('Largest coefficient for feature power_1 : ', largest_coef_power_1)\n"
   ]
  },
  {
   "cell_type": "code",
   "execution_count": 8,
   "metadata": {
    "hideCode": false,
    "hideOutput": true,
    "hidePrompt": false
   },
   "outputs": [
    {
     "data": {
      "image/png": "[encoded data removed]",
      "text/plain": [
       "<Figure size 432x288 with 1 Axes>"
      ]
     },
     "metadata": {
      "needs_background": "light"
     },
     "output_type": "display_data"
    },
    {
     "data": {
      "image/png": "[encoded data removed]",
      "text/plain": [
       "<Figure size 432x288 with 1 Axes>"
      ]
     },
     "metadata": {
      "needs_background": "light"
     },
     "output_type": "display_data"
    },
    {
     "data": {
      "image/png": "[encoded data removed]",
      "text/plain": [
       "<Figure size 432x288 with 1 Axes>"
      ]
     },
     "metadata": {
      "needs_background": "light"
     },
     "output_type": "display_data"
    },
    {
     "data": {
      "image/png": "[encoded data removed]",
      "text/plain": [
       "<Figure size 432x288 with 1 Axes>"
      ]
     },
     "metadata": {
      "needs_background": "light"
     },
     "output_type": "display_data"
    }
   ],
   "source": [
    "# Plotting the results for set_1 data\n",
    "plt.plot(set_1_data['power_15'],set_1_data['price'],'.',\n",
    "        set_1_data['power_15'], reg1.predict(set_1_features),'-')\n",
    "plt.title('Results for 15th degree polynomial for set_1 data')\n",
    "plt.show()\n",
    "\n",
    "# Plotting the results for set_2 data\n",
    "plt.plot(set_2_data['power_15'],set_2_data['price'],'.',\n",
    "        set_2_data['power_15'], reg2.predict(set_2_features),'-')\n",
    "plt.title('Results for 15th degree polynomial for set_2 data')\n",
    "plt.show()\n",
    "\n",
    "# Plotting the results for set_3 data\n",
    "plt.plot(set_3_data['power_15'],set_3_data['price'],'.',\n",
    "        set_3_data['power_15'], reg3.predict(set_3_features),'-')\n",
    "plt.title('Results for 15th degree polynomial for set_3 data')\n",
    "plt.show()\n",
    "\n",
    "# Plotting the results for set_4 data\n",
    "plt.plot(set_4_data['power_15'],set_4_data['price'],'.',\n",
    "        set_4_data['power_15'], reg4.predict(set_4_features),'-')\n",
    "plt.title('Results for 15th degree polynomial for set_4 data')\n",
    "plt.show()"
   ]
  },
  {
   "cell_type": "markdown",
   "metadata": {
    "hideCode": false,
    "hidePrompt": false
   },
   "source": [
    "These curves should vary a lot less, now that you applied a high degree of regularization."
   ]
  },
  {
   "cell_type": "markdown",
   "metadata": {
    "hideCode": false,
    "hidePrompt": false,
    "variables": {
     "largest_coef_power_1": "306.81191153455165",
     "smallest_coef_power_1": "1.3510654138486393"
    }
   },
   "source": [
    "<font color = 'steelblue'><b> Quiz : For the models learned with the high level of regularization in each of these training sets, what are the smallest and largest values you learned for the coefficient of feature `power_1`? </b></font>\n",
    "\n",
    "<font color = 'mediumvioletred'><b> Answer : Samllest coefficient of feature `power_1` is {{smallest_coef_power_1}} and Largest coefficient of feature `power_1` is {{largest_coef_power_1}}. </b></font>"
   ]
  },
  {
   "cell_type": "markdown",
   "metadata": {
    "hideCode": false,
    "hidePrompt": false
   },
   "source": [
    "# Selecting an L2 penalty via cross-validation"
   ]
  },
  {
   "cell_type": "markdown",
   "metadata": {
    "hideCode": false,
    "hidePrompt": false
   },
   "source": [
    "Just like the polynomial degree, the L2 penalty is a \"magic\" parameter we need to select. We could use the validation set approach as we did in the last module, but that approach has a major disadvantage: it leaves fewer observations available for training. **Cross-validation** seeks to overcome this issue by using all of the training set in a smart way.\n",
    "\n",
    "We will implement a kind of cross-validation called **k-fold cross-validation**. The method gets its name because it involves dividing the training set into k segments of roughtly equal size. Similar to the validation set method, we measure the validation error with one of the segments designated as the validation set. The major difference is that we repeat the process k times as follows:\n",
    "\n",
    "Set aside segment 0 as the validation set, and fit a model on rest of data, and evalutate it on this validation set<br>\n",
    "Set aside segment 1 as the validation set, and fit a model on rest of data, and evalutate it on this validation set<br>\n",
    "...<br>\n",
    "Set aside segment k-1 as the validation set, and fit a model on rest of data, and evalutate it on this validation set\n",
    "\n",
    "After this process, we compute the average of the k validation errors, and use it as an estimate of the generalization error. Notice that  all observations are used for both training and validation, as we iterate over segments of data. \n",
    "\n",
    "To estimate the generalization error well, it is crucial to shuffle the training data before dividing them into segments. Make sure to use `seed=1` to get consistent answer.\n",
    "\n",
    "  \n",
    "**Note :** Sklearn is used to implement K-Fold Cross Validation and is the same as used in the `Overfitting Demo Ridge Lasso.ipynb` notebook"
   ]
  },
  {
   "cell_type": "markdown",
   "metadata": {
    "hideCode": false,
    "hidePrompt": false
   },
   "source": [
    "To estimate the generalization error well, it is crucial to shuffle the training data before dividing them into segments. We reserve 10% of the data as the test set and randomly shuffle the remainder. Le'ts call the shuffled data 'train_valid_shuffled'.\n",
    "\n",
    "For the purpose of this assignment, let us download the csv file containing pre-shuffled rows of training and validation sets combined:"
   ]
  },
  {
   "cell_type": "code",
   "execution_count": 9,
   "metadata": {
    "hideCode": false,
    "hidePrompt": false
   },
   "outputs": [],
   "source": [
    "train_valid_shuffled = pd.read_csv('wk3_kc_data/wk3_kc_house_train_valid_shuffled.csv', dtype=dtype_dict)\n",
    "test = pd.read_csv('wk3_kc_data/wk3_kc_house_test_data.csv', dtype=dtype_dict)"
   ]
  },
  {
   "cell_type": "markdown",
   "metadata": {
    "hideCode": false,
    "hidePrompt": false
   },
   "source": [
    "Divide the combined training and validation set into equal segments. Each segment should receive n/k elements, where n is the number of observations in the training set and k is the number of segments. Since the segment 0 starts at index 0 and contains n/k elements, it ends at index (n/k)-1. The segment 1 starts where the segment 0 left off, at index (n/k). With n/k elements, the segment 1 ends at index (n*2/k)-1. Continuing in this fashion, we deduce that the segment i starts at index (n*i/k) and ends at (n*(i+1)/k)-1.\n",
    "\n",
    "With this pattern in mind, we write a short loop that prints the starting and ending indices of each segment, just to make sure you are getting the splits right."
   ]
  },
  {
   "cell_type": "code",
   "execution_count": 10,
   "metadata": {
    "hideCode": false,
    "hidePrompt": false
   },
   "outputs": [
    {
     "name": "stdout",
     "output_type": "stream",
     "text": [
      "1 (1939, 3878)\n",
      "2 (3879, 5818)\n",
      "3 (5818, 7757)\n",
      "4 (7758, 9697)\n",
      "5 (9698, 11637)\n",
      "6 (11637, 13576)\n",
      "7 (13577, 15516)\n",
      "8 (15516, 17455)\n",
      "9 (17456, 19395)\n"
     ]
    }
   ],
   "source": [
    "n = len(train_valid_shuffled)\n",
    "k = 10 # 10-fold cross-validation\n",
    "\n",
    "'''for i in xrange(k) :\n",
    "    \n",
    "    # Since the start and end are indices used to split train_valid_shuffled, they cannot be float numbers and hence are\n",
    "    # rounded down using math.floor.\n",
    "    \n",
    "    start = math.floor((n*i)/k)\n",
    "    end =  round(n*(i+1)/k-1)-1\n",
    "    \n",
    "    print(i, (start, end), '\\t', (end-start))'''\n",
    "\n",
    "for i in range(1, k):\n",
    "    start = math.floor((n*i)/k)\n",
    "    end = round((n*(i+1))/k-1)    \n",
    "    print(i, (start, end))"
   ]
  },
  {
   "cell_type": "markdown",
   "metadata": {
    "hideCode": false,
    "hidePrompt": false
   },
   "source": [
    "Let us familiarize ourselves with array slicing with SFrame. To extract a continuous slice from an SFrame, use colon in square brackets. For instance, the following cell extracts rows 0 to 9 of `train_valid_shuffled`. Notice that the first index (0) is included in the slice but the last index (10) is omitted."
   ]
  },
  {
   "cell_type": "code",
   "execution_count": 11,
   "metadata": {
    "hideCode": false,
    "hidePrompt": false
   },
   "outputs": [
    {
     "data": {
      "text/html": [
       "<div>\n",
       "<style scoped>\n",
       "    .dataframe tbody tr th:only-of-type {\n",
       "        vertical-align: middle;\n",
       "    }\n",
       "\n",
       "    .dataframe tbody tr th {\n",
       "        vertical-align: top;\n",
       "    }\n",
       "\n",
       "    .dataframe thead th {\n",
       "        text-align: right;\n",
       "    }\n",
       "</style>\n",
       "<table border=\"1\" class=\"dataframe\">\n",
       "  <thead>\n",
       "    <tr style=\"text-align: right;\">\n",
       "      <th></th>\n",
       "      <th>id</th>\n",
       "      <th>date</th>\n",
       "      <th>price</th>\n",
       "      <th>bedrooms</th>\n",
       "      <th>bathrooms</th>\n",
       "      <th>sqft_living</th>\n",
       "      <th>sqft_lot</th>\n",
       "      <th>floors</th>\n",
       "      <th>waterfront</th>\n",
       "      <th>view</th>\n",
       "      <th>...</th>\n",
       "      <th>grade</th>\n",
       "      <th>sqft_above</th>\n",
       "      <th>sqft_basement</th>\n",
       "      <th>yr_built</th>\n",
       "      <th>yr_renovated</th>\n",
       "      <th>zipcode</th>\n",
       "      <th>lat</th>\n",
       "      <th>long</th>\n",
       "      <th>sqft_living15</th>\n",
       "      <th>sqft_lot15</th>\n",
       "    </tr>\n",
       "  </thead>\n",
       "  <tbody>\n",
       "    <tr>\n",
       "      <th>0</th>\n",
       "      <td>2780400035</td>\n",
       "      <td>20140505T000000</td>\n",
       "      <td>665000.0</td>\n",
       "      <td>4.0</td>\n",
       "      <td>2.50</td>\n",
       "      <td>2800.0</td>\n",
       "      <td>5900</td>\n",
       "      <td>1.0</td>\n",
       "      <td>0</td>\n",
       "      <td>0</td>\n",
       "      <td>...</td>\n",
       "      <td>8</td>\n",
       "      <td>1660</td>\n",
       "      <td>1140</td>\n",
       "      <td>1963</td>\n",
       "      <td>0</td>\n",
       "      <td>98115</td>\n",
       "      <td>47.6809</td>\n",
       "      <td>-122.286</td>\n",
       "      <td>2580.0</td>\n",
       "      <td>5900.0</td>\n",
       "    </tr>\n",
       "    <tr>\n",
       "      <th>1</th>\n",
       "      <td>1703050500</td>\n",
       "      <td>20150321T000000</td>\n",
       "      <td>645000.0</td>\n",
       "      <td>3.0</td>\n",
       "      <td>2.50</td>\n",
       "      <td>2490.0</td>\n",
       "      <td>5978</td>\n",
       "      <td>2.0</td>\n",
       "      <td>0</td>\n",
       "      <td>0</td>\n",
       "      <td>...</td>\n",
       "      <td>9</td>\n",
       "      <td>2490</td>\n",
       "      <td>0</td>\n",
       "      <td>2003</td>\n",
       "      <td>0</td>\n",
       "      <td>98074</td>\n",
       "      <td>47.6298</td>\n",
       "      <td>-122.022</td>\n",
       "      <td>2710.0</td>\n",
       "      <td>6629.0</td>\n",
       "    </tr>\n",
       "    <tr>\n",
       "      <th>2</th>\n",
       "      <td>5700002325</td>\n",
       "      <td>20140605T000000</td>\n",
       "      <td>640000.0</td>\n",
       "      <td>3.0</td>\n",
       "      <td>1.75</td>\n",
       "      <td>2340.0</td>\n",
       "      <td>4206</td>\n",
       "      <td>1.0</td>\n",
       "      <td>0</td>\n",
       "      <td>0</td>\n",
       "      <td>...</td>\n",
       "      <td>7</td>\n",
       "      <td>1170</td>\n",
       "      <td>1170</td>\n",
       "      <td>1917</td>\n",
       "      <td>0</td>\n",
       "      <td>98144</td>\n",
       "      <td>47.5759</td>\n",
       "      <td>-122.288</td>\n",
       "      <td>1360.0</td>\n",
       "      <td>4725.0</td>\n",
       "    </tr>\n",
       "    <tr>\n",
       "      <th>3</th>\n",
       "      <td>0475000510</td>\n",
       "      <td>20141118T000000</td>\n",
       "      <td>594000.0</td>\n",
       "      <td>3.0</td>\n",
       "      <td>1.00</td>\n",
       "      <td>1320.0</td>\n",
       "      <td>5000</td>\n",
       "      <td>1.0</td>\n",
       "      <td>0</td>\n",
       "      <td>0</td>\n",
       "      <td>...</td>\n",
       "      <td>7</td>\n",
       "      <td>1090</td>\n",
       "      <td>230</td>\n",
       "      <td>1920</td>\n",
       "      <td>0</td>\n",
       "      <td>98107</td>\n",
       "      <td>47.6674</td>\n",
       "      <td>-122.365</td>\n",
       "      <td>1700.0</td>\n",
       "      <td>5000.0</td>\n",
       "    </tr>\n",
       "    <tr>\n",
       "      <th>4</th>\n",
       "      <td>0844001052</td>\n",
       "      <td>20150128T000000</td>\n",
       "      <td>365000.0</td>\n",
       "      <td>4.0</td>\n",
       "      <td>2.50</td>\n",
       "      <td>1904.0</td>\n",
       "      <td>8200</td>\n",
       "      <td>2.0</td>\n",
       "      <td>0</td>\n",
       "      <td>0</td>\n",
       "      <td>...</td>\n",
       "      <td>7</td>\n",
       "      <td>1904</td>\n",
       "      <td>0</td>\n",
       "      <td>1999</td>\n",
       "      <td>0</td>\n",
       "      <td>98010</td>\n",
       "      <td>47.3107</td>\n",
       "      <td>-122.001</td>\n",
       "      <td>1560.0</td>\n",
       "      <td>12426.0</td>\n",
       "    </tr>\n",
       "    <tr>\n",
       "      <th>5</th>\n",
       "      <td>2781280290</td>\n",
       "      <td>20150427T000000</td>\n",
       "      <td>305000.0</td>\n",
       "      <td>3.0</td>\n",
       "      <td>2.50</td>\n",
       "      <td>1610.0</td>\n",
       "      <td>3516</td>\n",
       "      <td>2.0</td>\n",
       "      <td>0</td>\n",
       "      <td>0</td>\n",
       "      <td>...</td>\n",
       "      <td>8</td>\n",
       "      <td>1610</td>\n",
       "      <td>0</td>\n",
       "      <td>2006</td>\n",
       "      <td>0</td>\n",
       "      <td>98055</td>\n",
       "      <td>47.4491</td>\n",
       "      <td>-122.188</td>\n",
       "      <td>1610.0</td>\n",
       "      <td>3056.0</td>\n",
       "    </tr>\n",
       "    <tr>\n",
       "      <th>6</th>\n",
       "      <td>2214800630</td>\n",
       "      <td>20141105T000000</td>\n",
       "      <td>239950.0</td>\n",
       "      <td>3.0</td>\n",
       "      <td>2.25</td>\n",
       "      <td>1560.0</td>\n",
       "      <td>8280</td>\n",
       "      <td>2.0</td>\n",
       "      <td>0</td>\n",
       "      <td>0</td>\n",
       "      <td>...</td>\n",
       "      <td>7</td>\n",
       "      <td>1560</td>\n",
       "      <td>0</td>\n",
       "      <td>1979</td>\n",
       "      <td>0</td>\n",
       "      <td>98001</td>\n",
       "      <td>47.3393</td>\n",
       "      <td>-122.259</td>\n",
       "      <td>1920.0</td>\n",
       "      <td>8120.0</td>\n",
       "    </tr>\n",
       "    <tr>\n",
       "      <th>7</th>\n",
       "      <td>2114700540</td>\n",
       "      <td>20141021T000000</td>\n",
       "      <td>366000.0</td>\n",
       "      <td>3.0</td>\n",
       "      <td>2.50</td>\n",
       "      <td>1320.0</td>\n",
       "      <td>4320</td>\n",
       "      <td>1.0</td>\n",
       "      <td>0</td>\n",
       "      <td>0</td>\n",
       "      <td>...</td>\n",
       "      <td>6</td>\n",
       "      <td>660</td>\n",
       "      <td>660</td>\n",
       "      <td>1918</td>\n",
       "      <td>0</td>\n",
       "      <td>98106</td>\n",
       "      <td>47.5327</td>\n",
       "      <td>-122.347</td>\n",
       "      <td>1190.0</td>\n",
       "      <td>4200.0</td>\n",
       "    </tr>\n",
       "    <tr>\n",
       "      <th>8</th>\n",
       "      <td>2596400050</td>\n",
       "      <td>20140730T000000</td>\n",
       "      <td>375000.0</td>\n",
       "      <td>3.0</td>\n",
       "      <td>1.00</td>\n",
       "      <td>1960.0</td>\n",
       "      <td>7955</td>\n",
       "      <td>1.0</td>\n",
       "      <td>0</td>\n",
       "      <td>0</td>\n",
       "      <td>...</td>\n",
       "      <td>7</td>\n",
       "      <td>1260</td>\n",
       "      <td>700</td>\n",
       "      <td>1963</td>\n",
       "      <td>0</td>\n",
       "      <td>98177</td>\n",
       "      <td>47.7641</td>\n",
       "      <td>-122.364</td>\n",
       "      <td>1850.0</td>\n",
       "      <td>8219.0</td>\n",
       "    </tr>\n",
       "    <tr>\n",
       "      <th>9</th>\n",
       "      <td>4140900050</td>\n",
       "      <td>20150126T000000</td>\n",
       "      <td>440000.0</td>\n",
       "      <td>4.0</td>\n",
       "      <td>1.75</td>\n",
       "      <td>2180.0</td>\n",
       "      <td>10200</td>\n",
       "      <td>1.0</td>\n",
       "      <td>0</td>\n",
       "      <td>2</td>\n",
       "      <td>...</td>\n",
       "      <td>8</td>\n",
       "      <td>2000</td>\n",
       "      <td>180</td>\n",
       "      <td>1966</td>\n",
       "      <td>0</td>\n",
       "      <td>98028</td>\n",
       "      <td>47.7638</td>\n",
       "      <td>-122.270</td>\n",
       "      <td>2590.0</td>\n",
       "      <td>10445.0</td>\n",
       "    </tr>\n",
       "  </tbody>\n",
       "</table>\n",
       "<p>10 rows × 21 columns</p>\n",
       "</div>"
      ],
      "text/plain": [
       "           id             date     price  bedrooms  bathrooms  sqft_living  \\\n",
       "0  2780400035  20140505T000000  665000.0       4.0       2.50       2800.0   \n",
       "1  1703050500  20150321T000000  645000.0       3.0       2.50       2490.0   \n",
       "2  5700002325  20140605T000000  640000.0       3.0       1.75       2340.0   \n",
       "3  0475000510  20141118T000000  594000.0       3.0       1.00       1320.0   \n",
       "4  0844001052  20150128T000000  365000.0       4.0       2.50       1904.0   \n",
       "5  2781280290  20150427T000000  305000.0       3.0       2.50       1610.0   \n",
       "6  2214800630  20141105T000000  239950.0       3.0       2.25       1560.0   \n",
       "7  2114700540  20141021T000000  366000.0       3.0       2.50       1320.0   \n",
       "8  2596400050  20140730T000000  375000.0       3.0       1.00       1960.0   \n",
       "9  4140900050  20150126T000000  440000.0       4.0       1.75       2180.0   \n",
       "\n",
       "   sqft_lot  floors  waterfront  view  ...  grade  sqft_above  sqft_basement  \\\n",
       "0      5900     1.0           0     0  ...      8        1660           1140   \n",
       "1      5978     2.0           0     0  ...      9        2490              0   \n",
       "2      4206     1.0           0     0  ...      7        1170           1170   \n",
       "3      5000     1.0           0     0  ...      7        1090            230   \n",
       "4      8200     2.0           0     0  ...      7        1904              0   \n",
       "5      3516     2.0           0     0  ...      8        1610              0   \n",
       "6      8280     2.0           0     0  ...      7        1560              0   \n",
       "7      4320     1.0           0     0  ...      6         660            660   \n",
       "8      7955     1.0           0     0  ...      7        1260            700   \n",
       "9     10200     1.0           0     2  ...      8        2000            180   \n",
       "\n",
       "   yr_built  yr_renovated  zipcode      lat     long  sqft_living15  \\\n",
       "0      1963             0    98115  47.6809 -122.286         2580.0   \n",
       "1      2003             0    98074  47.6298 -122.022         2710.0   \n",
       "2      1917             0    98144  47.5759 -122.288         1360.0   \n",
       "3      1920             0    98107  47.6674 -122.365         1700.0   \n",
       "4      1999             0    98010  47.3107 -122.001         1560.0   \n",
       "5      2006             0    98055  47.4491 -122.188         1610.0   \n",
       "6      1979             0    98001  47.3393 -122.259         1920.0   \n",
       "7      1918             0    98106  47.5327 -122.347         1190.0   \n",
       "8      1963             0    98177  47.7641 -122.364         1850.0   \n",
       "9      1966             0    98028  47.7638 -122.270         2590.0   \n",
       "\n",
       "   sqft_lot15  \n",
       "0      5900.0  \n",
       "1      6629.0  \n",
       "2      4725.0  \n",
       "3      5000.0  \n",
       "4     12426.0  \n",
       "5      3056.0  \n",
       "6      8120.0  \n",
       "7      4200.0  \n",
       "8      8219.0  \n",
       "9     10445.0  \n",
       "\n",
       "[10 rows x 21 columns]"
      ]
     },
     "execution_count": 11,
     "metadata": {},
     "output_type": "execute_result"
    }
   ],
   "source": [
    "train_valid_shuffled[0:10] # rows 0 to 9"
   ]
  },
  {
   "cell_type": "markdown",
   "metadata": {
    "hideCode": false,
    "hidePrompt": false
   },
   "source": [
    "Now let us extract individual segments with array slicing. Consider the scenario where we group the houses in the `train_valid_shuffled` dataframe into k=10 segments of roughly equal size, with starting and ending indices computed as above.\n",
    "Extract the fourth segment (segment 3) and assign it to a variable called `validation4`."
   ]
  },
  {
   "cell_type": "code",
   "execution_count": 12,
   "metadata": {
    "hideCode": false,
    "hidePrompt": false
   },
   "outputs": [],
   "source": [
    "# The 4th segment starting and ending indices and be found from the output of the loop above\n",
    "validation4 = train_valid_shuffled[5818:7758] #rows 0 to 9"
   ]
  },
  {
   "cell_type": "markdown",
   "metadata": {
    "hideCode": false,
    "hidePrompt": false
   },
   "source": [
    "To verify that we have the right elements extracted, run the following cell, which computes the average price of the fourth segment. When rounded to nearest whole number, the average should be $536,234."
   ]
  },
  {
   "cell_type": "code",
   "execution_count": 13,
   "metadata": {
    "hideCode": false,
    "hidePrompt": false
   },
   "outputs": [
    {
     "name": "stdout",
     "output_type": "stream",
     "text": [
      "536234\n"
     ]
    }
   ],
   "source": [
    "print(int(round(validation4['price'].mean(), 0)))"
   ]
  },
  {
   "cell_type": "markdown",
   "metadata": {
    "hideCode": false,
    "hidePrompt": false
   },
   "source": [
    "After designating one of the k segments as the validation set, we train a model using the rest of the data. To choose the remainder, we slice (0:start) and (end+1:n) of the data and paste them together. SFrame has `append()` method that pastes together two disjoint sets of rows originating from a common dataset. For instance, the following cell pastes together the first and last two rows of the `train_valid_shuffled` dataframe."
   ]
  },
  {
   "cell_type": "code",
   "execution_count": 14,
   "metadata": {
    "hideCode": false,
    "hidePrompt": false
   },
   "outputs": [
    {
     "name": "stdout",
     "output_type": "stream",
     "text": [
      "               id             date      price  bedrooms  bathrooms  \\\n",
      "0      2780400035  20140505T000000   665000.0       4.0       2.50   \n",
      "1      1703050500  20150321T000000   645000.0       3.0       2.50   \n",
      "19394  4139480190  20140916T000000  1153000.0       3.0       3.25   \n",
      "19395  7237300290  20150326T000000   338000.0       5.0       2.50   \n",
      "\n",
      "       sqft_living  sqft_lot  floors  waterfront  view  ...  grade  \\\n",
      "0           2800.0      5900     1.0           0     0  ...      8   \n",
      "1           2490.0      5978     2.0           0     0  ...      9   \n",
      "19394       3780.0     10623     1.0           0     1  ...     11   \n",
      "19395       2400.0      4496     2.0           0     0  ...      7   \n",
      "\n",
      "       sqft_above  sqft_basement  yr_built  yr_renovated  zipcode      lat  \\\n",
      "0            1660           1140      1963             0    98115  47.6809   \n",
      "1            2490              0      2003             0    98074  47.6298   \n",
      "19394        2650           1130      1999             0    98006  47.5506   \n",
      "19395        2400              0      2004             0    98042  47.3692   \n",
      "\n",
      "          long  sqft_living15  sqft_lot15  \n",
      "0     -122.286         2580.0      5900.0  \n",
      "1     -122.022         2710.0      6629.0  \n",
      "19394 -122.101         3850.0     11170.0  \n",
      "19395 -122.126         1880.0      4319.0  \n",
      "\n",
      "[4 rows x 21 columns]\n"
     ]
    }
   ],
   "source": [
    "n = len(train_valid_shuffled)\n",
    "first_two = train_valid_shuffled[0:2]\n",
    "last_two = train_valid_shuffled[n-2:n]\n",
    "print(first_two.append(last_two))"
   ]
  },
  {
   "cell_type": "markdown",
   "metadata": {
    "hideCode": false,
    "hidePrompt": false
   },
   "source": [
    "Extract the remainder of the data after *excluding* fourth segment (segment 3) and assign the subset to `train4`."
   ]
  },
  {
   "cell_type": "code",
   "execution_count": 15,
   "metadata": {
    "hideCode": false,
    "hidePrompt": false
   },
   "outputs": [
    {
     "data": {
      "text/html": [
       "<div>\n",
       "<style scoped>\n",
       "    .dataframe tbody tr th:only-of-type {\n",
       "        vertical-align: middle;\n",
       "    }\n",
       "\n",
       "    .dataframe tbody tr th {\n",
       "        vertical-align: top;\n",
       "    }\n",
       "\n",
       "    .dataframe thead th {\n",
       "        text-align: right;\n",
       "    }\n",
       "</style>\n",
       "<table border=\"1\" class=\"dataframe\">\n",
       "  <thead>\n",
       "    <tr style=\"text-align: right;\">\n",
       "      <th></th>\n",
       "      <th>id</th>\n",
       "      <th>date</th>\n",
       "      <th>price</th>\n",
       "      <th>bedrooms</th>\n",
       "      <th>bathrooms</th>\n",
       "      <th>sqft_living</th>\n",
       "      <th>sqft_lot</th>\n",
       "      <th>floors</th>\n",
       "      <th>waterfront</th>\n",
       "      <th>view</th>\n",
       "      <th>...</th>\n",
       "      <th>grade</th>\n",
       "      <th>sqft_above</th>\n",
       "      <th>sqft_basement</th>\n",
       "      <th>yr_built</th>\n",
       "      <th>yr_renovated</th>\n",
       "      <th>zipcode</th>\n",
       "      <th>lat</th>\n",
       "      <th>long</th>\n",
       "      <th>sqft_living15</th>\n",
       "      <th>sqft_lot15</th>\n",
       "    </tr>\n",
       "  </thead>\n",
       "  <tbody>\n",
       "    <tr>\n",
       "      <th>0</th>\n",
       "      <td>2780400035</td>\n",
       "      <td>20140505T000000</td>\n",
       "      <td>665000.0</td>\n",
       "      <td>4.0</td>\n",
       "      <td>2.50</td>\n",
       "      <td>2800.0</td>\n",
       "      <td>5900</td>\n",
       "      <td>1.0</td>\n",
       "      <td>0</td>\n",
       "      <td>0</td>\n",
       "      <td>...</td>\n",
       "      <td>8</td>\n",
       "      <td>1660</td>\n",
       "      <td>1140</td>\n",
       "      <td>1963</td>\n",
       "      <td>0</td>\n",
       "      <td>98115</td>\n",
       "      <td>47.6809</td>\n",
       "      <td>-122.286</td>\n",
       "      <td>2580.0</td>\n",
       "      <td>5900.0</td>\n",
       "    </tr>\n",
       "    <tr>\n",
       "      <th>1</th>\n",
       "      <td>1703050500</td>\n",
       "      <td>20150321T000000</td>\n",
       "      <td>645000.0</td>\n",
       "      <td>3.0</td>\n",
       "      <td>2.50</td>\n",
       "      <td>2490.0</td>\n",
       "      <td>5978</td>\n",
       "      <td>2.0</td>\n",
       "      <td>0</td>\n",
       "      <td>0</td>\n",
       "      <td>...</td>\n",
       "      <td>9</td>\n",
       "      <td>2490</td>\n",
       "      <td>0</td>\n",
       "      <td>2003</td>\n",
       "      <td>0</td>\n",
       "      <td>98074</td>\n",
       "      <td>47.6298</td>\n",
       "      <td>-122.022</td>\n",
       "      <td>2710.0</td>\n",
       "      <td>6629.0</td>\n",
       "    </tr>\n",
       "    <tr>\n",
       "      <th>2</th>\n",
       "      <td>5700002325</td>\n",
       "      <td>20140605T000000</td>\n",
       "      <td>640000.0</td>\n",
       "      <td>3.0</td>\n",
       "      <td>1.75</td>\n",
       "      <td>2340.0</td>\n",
       "      <td>4206</td>\n",
       "      <td>1.0</td>\n",
       "      <td>0</td>\n",
       "      <td>0</td>\n",
       "      <td>...</td>\n",
       "      <td>7</td>\n",
       "      <td>1170</td>\n",
       "      <td>1170</td>\n",
       "      <td>1917</td>\n",
       "      <td>0</td>\n",
       "      <td>98144</td>\n",
       "      <td>47.5759</td>\n",
       "      <td>-122.288</td>\n",
       "      <td>1360.0</td>\n",
       "      <td>4725.0</td>\n",
       "    </tr>\n",
       "    <tr>\n",
       "      <th>3</th>\n",
       "      <td>0475000510</td>\n",
       "      <td>20141118T000000</td>\n",
       "      <td>594000.0</td>\n",
       "      <td>3.0</td>\n",
       "      <td>1.00</td>\n",
       "      <td>1320.0</td>\n",
       "      <td>5000</td>\n",
       "      <td>1.0</td>\n",
       "      <td>0</td>\n",
       "      <td>0</td>\n",
       "      <td>...</td>\n",
       "      <td>7</td>\n",
       "      <td>1090</td>\n",
       "      <td>230</td>\n",
       "      <td>1920</td>\n",
       "      <td>0</td>\n",
       "      <td>98107</td>\n",
       "      <td>47.6674</td>\n",
       "      <td>-122.365</td>\n",
       "      <td>1700.0</td>\n",
       "      <td>5000.0</td>\n",
       "    </tr>\n",
       "    <tr>\n",
       "      <th>4</th>\n",
       "      <td>0844001052</td>\n",
       "      <td>20150128T000000</td>\n",
       "      <td>365000.0</td>\n",
       "      <td>4.0</td>\n",
       "      <td>2.50</td>\n",
       "      <td>1904.0</td>\n",
       "      <td>8200</td>\n",
       "      <td>2.0</td>\n",
       "      <td>0</td>\n",
       "      <td>0</td>\n",
       "      <td>...</td>\n",
       "      <td>7</td>\n",
       "      <td>1904</td>\n",
       "      <td>0</td>\n",
       "      <td>1999</td>\n",
       "      <td>0</td>\n",
       "      <td>98010</td>\n",
       "      <td>47.3107</td>\n",
       "      <td>-122.001</td>\n",
       "      <td>1560.0</td>\n",
       "      <td>12426.0</td>\n",
       "    </tr>\n",
       "    <tr>\n",
       "      <th>...</th>\n",
       "      <td>...</td>\n",
       "      <td>...</td>\n",
       "      <td>...</td>\n",
       "      <td>...</td>\n",
       "      <td>...</td>\n",
       "      <td>...</td>\n",
       "      <td>...</td>\n",
       "      <td>...</td>\n",
       "      <td>...</td>\n",
       "      <td>...</td>\n",
       "      <td>...</td>\n",
       "      <td>...</td>\n",
       "      <td>...</td>\n",
       "      <td>...</td>\n",
       "      <td>...</td>\n",
       "      <td>...</td>\n",
       "      <td>...</td>\n",
       "      <td>...</td>\n",
       "      <td>...</td>\n",
       "      <td>...</td>\n",
       "      <td>...</td>\n",
       "    </tr>\n",
       "    <tr>\n",
       "      <th>19391</th>\n",
       "      <td>2473450870</td>\n",
       "      <td>20141006T000000</td>\n",
       "      <td>325000.0</td>\n",
       "      <td>3.0</td>\n",
       "      <td>2.25</td>\n",
       "      <td>2480.0</td>\n",
       "      <td>8755</td>\n",
       "      <td>2.0</td>\n",
       "      <td>0</td>\n",
       "      <td>0</td>\n",
       "      <td>...</td>\n",
       "      <td>8</td>\n",
       "      <td>2480</td>\n",
       "      <td>0</td>\n",
       "      <td>1979</td>\n",
       "      <td>0</td>\n",
       "      <td>98058</td>\n",
       "      <td>47.4543</td>\n",
       "      <td>-122.125</td>\n",
       "      <td>2280.0</td>\n",
       "      <td>9940.0</td>\n",
       "    </tr>\n",
       "    <tr>\n",
       "      <th>19392</th>\n",
       "      <td>9328500630</td>\n",
       "      <td>20150302T000000</td>\n",
       "      <td>545000.0</td>\n",
       "      <td>3.0</td>\n",
       "      <td>2.25</td>\n",
       "      <td>1670.0</td>\n",
       "      <td>6240</td>\n",
       "      <td>1.0</td>\n",
       "      <td>0</td>\n",
       "      <td>0</td>\n",
       "      <td>...</td>\n",
       "      <td>8</td>\n",
       "      <td>1240</td>\n",
       "      <td>430</td>\n",
       "      <td>1974</td>\n",
       "      <td>0</td>\n",
       "      <td>98008</td>\n",
       "      <td>47.6413</td>\n",
       "      <td>-122.113</td>\n",
       "      <td>1910.0</td>\n",
       "      <td>7000.0</td>\n",
       "    </tr>\n",
       "    <tr>\n",
       "      <th>19393</th>\n",
       "      <td>5631500254</td>\n",
       "      <td>20141007T000000</td>\n",
       "      <td>519900.0</td>\n",
       "      <td>4.0</td>\n",
       "      <td>2.50</td>\n",
       "      <td>2403.0</td>\n",
       "      <td>6172</td>\n",
       "      <td>2.0</td>\n",
       "      <td>0</td>\n",
       "      <td>0</td>\n",
       "      <td>...</td>\n",
       "      <td>9</td>\n",
       "      <td>2403</td>\n",
       "      <td>0</td>\n",
       "      <td>1999</td>\n",
       "      <td>0</td>\n",
       "      <td>98028</td>\n",
       "      <td>47.7361</td>\n",
       "      <td>-122.234</td>\n",
       "      <td>2380.0</td>\n",
       "      <td>6075.0</td>\n",
       "    </tr>\n",
       "    <tr>\n",
       "      <th>19394</th>\n",
       "      <td>4139480190</td>\n",
       "      <td>20140916T000000</td>\n",
       "      <td>1153000.0</td>\n",
       "      <td>3.0</td>\n",
       "      <td>3.25</td>\n",
       "      <td>3780.0</td>\n",
       "      <td>10623</td>\n",
       "      <td>1.0</td>\n",
       "      <td>0</td>\n",
       "      <td>1</td>\n",
       "      <td>...</td>\n",
       "      <td>11</td>\n",
       "      <td>2650</td>\n",
       "      <td>1130</td>\n",
       "      <td>1999</td>\n",
       "      <td>0</td>\n",
       "      <td>98006</td>\n",
       "      <td>47.5506</td>\n",
       "      <td>-122.101</td>\n",
       "      <td>3850.0</td>\n",
       "      <td>11170.0</td>\n",
       "    </tr>\n",
       "    <tr>\n",
       "      <th>19395</th>\n",
       "      <td>7237300290</td>\n",
       "      <td>20150326T000000</td>\n",
       "      <td>338000.0</td>\n",
       "      <td>5.0</td>\n",
       "      <td>2.50</td>\n",
       "      <td>2400.0</td>\n",
       "      <td>4496</td>\n",
       "      <td>2.0</td>\n",
       "      <td>0</td>\n",
       "      <td>0</td>\n",
       "      <td>...</td>\n",
       "      <td>7</td>\n",
       "      <td>2400</td>\n",
       "      <td>0</td>\n",
       "      <td>2004</td>\n",
       "      <td>0</td>\n",
       "      <td>98042</td>\n",
       "      <td>47.3692</td>\n",
       "      <td>-122.126</td>\n",
       "      <td>1880.0</td>\n",
       "      <td>4319.0</td>\n",
       "    </tr>\n",
       "  </tbody>\n",
       "</table>\n",
       "<p>17456 rows × 21 columns</p>\n",
       "</div>"
      ],
      "text/plain": [
       "               id             date      price  bedrooms  bathrooms  \\\n",
       "0      2780400035  20140505T000000   665000.0       4.0       2.50   \n",
       "1      1703050500  20150321T000000   645000.0       3.0       2.50   \n",
       "2      5700002325  20140605T000000   640000.0       3.0       1.75   \n",
       "3      0475000510  20141118T000000   594000.0       3.0       1.00   \n",
       "4      0844001052  20150128T000000   365000.0       4.0       2.50   \n",
       "...           ...              ...        ...       ...        ...   \n",
       "19391  2473450870  20141006T000000   325000.0       3.0       2.25   \n",
       "19392  9328500630  20150302T000000   545000.0       3.0       2.25   \n",
       "19393  5631500254  20141007T000000   519900.0       4.0       2.50   \n",
       "19394  4139480190  20140916T000000  1153000.0       3.0       3.25   \n",
       "19395  7237300290  20150326T000000   338000.0       5.0       2.50   \n",
       "\n",
       "       sqft_living  sqft_lot  floors  waterfront  view  ...  grade  \\\n",
       "0           2800.0      5900     1.0           0     0  ...      8   \n",
       "1           2490.0      5978     2.0           0     0  ...      9   \n",
       "2           2340.0      4206     1.0           0     0  ...      7   \n",
       "3           1320.0      5000     1.0           0     0  ...      7   \n",
       "4           1904.0      8200     2.0           0     0  ...      7   \n",
       "...            ...       ...     ...         ...   ...  ...    ...   \n",
       "19391       2480.0      8755     2.0           0     0  ...      8   \n",
       "19392       1670.0      6240     1.0           0     0  ...      8   \n",
       "19393       2403.0      6172     2.0           0     0  ...      9   \n",
       "19394       3780.0     10623     1.0           0     1  ...     11   \n",
       "19395       2400.0      4496     2.0           0     0  ...      7   \n",
       "\n",
       "       sqft_above  sqft_basement  yr_built  yr_renovated  zipcode      lat  \\\n",
       "0            1660           1140      1963             0    98115  47.6809   \n",
       "1            2490              0      2003             0    98074  47.6298   \n",
       "2            1170           1170      1917             0    98144  47.5759   \n",
       "3            1090            230      1920             0    98107  47.6674   \n",
       "4            1904              0      1999             0    98010  47.3107   \n",
       "...           ...            ...       ...           ...      ...      ...   \n",
       "19391        2480              0      1979             0    98058  47.4543   \n",
       "19392        1240            430      1974             0    98008  47.6413   \n",
       "19393        2403              0      1999             0    98028  47.7361   \n",
       "19394        2650           1130      1999             0    98006  47.5506   \n",
       "19395        2400              0      2004             0    98042  47.3692   \n",
       "\n",
       "          long  sqft_living15  sqft_lot15  \n",
       "0     -122.286         2580.0      5900.0  \n",
       "1     -122.022         2710.0      6629.0  \n",
       "2     -122.288         1360.0      4725.0  \n",
       "3     -122.365         1700.0      5000.0  \n",
       "4     -122.001         1560.0     12426.0  \n",
       "...        ...            ...         ...  \n",
       "19391 -122.125         2280.0      9940.0  \n",
       "19392 -122.113         1910.0      7000.0  \n",
       "19393 -122.234         2380.0      6075.0  \n",
       "19394 -122.101         3850.0     11170.0  \n",
       "19395 -122.126         1880.0      4319.0  \n",
       "\n",
       "[17456 rows x 21 columns]"
      ]
     },
     "execution_count": 15,
     "metadata": {},
     "output_type": "execute_result"
    }
   ],
   "source": [
    "train4=train_valid_shuffled[0:5818].append(train_valid_shuffled[7758:19396])\n",
    "train4"
   ]
  },
  {
   "cell_type": "markdown",
   "metadata": {
    "hideCode": false,
    "hidePrompt": false
   },
   "source": [
    "To verify that we have the right elements extracted, run the following cell, which computes the average price of the data with fourth segment excluded. When rounded to nearest whole number, the average should be $539,450."
   ]
  },
  {
   "cell_type": "code",
   "execution_count": 16,
   "metadata": {
    "hideCode": false,
    "hidePrompt": false
   },
   "outputs": [
    {
     "name": "stdout",
     "output_type": "stream",
     "text": [
      "539450\n"
     ]
    }
   ],
   "source": [
    "print(int(round(train4['price'].mean(), 0)))"
   ]
  },
  {
   "cell_type": "markdown",
   "metadata": {
    "hideCode": false,
    "hidePrompt": false
   },
   "source": [
    "Now we are ready to implement k-fold cross-validation. Write a function that computes k validation errors by designating each of the k segments as the validation set. It accepts as parameters (i) `k`, (ii) `l2_penalty`, (iii) dataframe, (iv) name of output column (e.g. `price`) and (v) list of feature names. The function returns the average validation error using k segments as validation sets.\n",
    "\n",
    "* For each i in [0, 1, ..., k-1]:\n",
    "  * Compute starting and ending indices of segment i and call 'start' and 'end'\n",
    "  * Form validation set by taking a slice (start:end+1) from the data.\n",
    "  * Form training set by appending slice (end+1:n) to the end of slice (0:start).\n",
    "  * Train a linear model using training set just formed, with a given l2_penalty\n",
    "  * Compute validation error using validation set just formed"
   ]
  },
  {
   "cell_type": "code",
   "execution_count": 17,
   "metadata": {
    "hideCode": false,
    "hidePrompt": false
   },
   "outputs": [],
   "source": [
    "def k_fold_cross_validation(k, l2_penalty, data, output_name, features_list):\n",
    "    n = len(data)\n",
    "    RSS_list = []\n",
    "    \n",
    "    for i in range(k) :\n",
    "        start = math.floor((n*i)/k)\n",
    "        end =  round(n*(i+1)/k-1)\n",
    "        \n",
    "        \n",
    "        validation = data[start:end+1]\n",
    "        validation_target = train_valid_shuffled[output_name][start:end+1]\n",
    "        \n",
    "        train = data[0:start].append(data[end+1:n])\n",
    "        train_target = train_valid_shuffled[output_name]\n",
    "        train_target = train_target[0:start].append(train_target[end+1:n])\n",
    "        \n",
    "        reg = Ridge(alpha=l2_penalty, normalize=True)\n",
    "        model = reg.fit(train[features_list],train_target)\n",
    "        \n",
    "        prediction = reg.predict(validation[features_list])\n",
    "        \n",
    "        residuals = prediction - validation_target\n",
    "        \n",
    "        RSS = np.sum(np.square(residuals))\n",
    "        RSS_list.append(RSS)    \n",
    "       \n",
    "    \n",
    "    validation_error =  np.mean(RSS_list)\n",
    "    \n",
    "    return validation_error"
   ]
  },
  {
   "cell_type": "markdown",
   "metadata": {
    "hideCode": false,
    "hidePrompt": false
   },
   "source": [
    "Once we have a function to compute the average validation error for a model, we can write a loop to find the model that minimizes the average validation error. Write a loop that does the following:\n",
    "* We will again be aiming to fit a 15th-order polynomial model using the `sqft_living` input\n",
    "* For `l2_penalty` in [10^1, 10^1.5, 10^2, 10^2.5, ..., 10^7] (to get this in Python, you can use this Numpy function: `np.logspace(1, 7, num=13)`.)\n",
    "    * Run 10-fold cross-validation with `l2_penalty`\n",
    "* Report which L2 penalty produced the lowest average validation error.\n",
    "\n",
    "Note: since the degree of the polynomial is now fixed to 15, to make things faster, you should generate polynomial features in advance and re-use them throughout the loop. Make sure to use `train_valid_shuffled` when generating polynomial features!"
   ]
  },
  {
   "cell_type": "code",
   "execution_count": 18,
   "metadata": {
    "hideCode": false,
    "hidePrompt": false
   },
   "outputs": [
    {
     "name": "stdout",
     "output_type": "stream",
     "text": [
      "L2 Penalty :  10.0\n",
      "Valdiation Error :  223702443697530.62 \n",
      "\n",
      "\n",
      "L2 Penalty :  31.622776601683793\n",
      "Valdiation Error :  246457295888755.8 \n",
      "\n",
      "\n",
      "L2 Penalty :  100.0\n",
      "Valdiation Error :  257413194688089.84 \n",
      "\n",
      "\n",
      "L2 Penalty :  316.22776601683796\n",
      "Valdiation Error :  262879914197104.7 \n",
      "\n",
      "\n",
      "L2 Penalty :  1000.0\n",
      "Valdiation Error :  264991486272976.2 \n",
      "\n",
      "\n",
      "L2 Penalty :  3162.2776601683795\n",
      "Valdiation Error :  265707089673811.34 \n",
      "\n",
      "\n",
      "L2 Penalty :  10000.0\n",
      "Valdiation Error :  265938531828009.1 \n",
      "\n",
      "\n",
      "L2 Penalty :  31622.776601683792\n",
      "Valdiation Error :  266012247245340.0 \n",
      "\n",
      "\n",
      "L2 Penalty :  100000.0\n",
      "Valdiation Error :  266035611196198.25 \n",
      "\n",
      "\n",
      "L2 Penalty :  316227.7660168379\n",
      "Valdiation Error :  266043004847530.44 \n",
      "\n",
      "\n",
      "L2 Penalty :  1000000.0\n",
      "Valdiation Error :  266045343457902.66 \n",
      "\n",
      "\n",
      "L2 Penalty :  3162277.6601683795\n",
      "Valdiation Error :  266046083044701.6 \n",
      "\n",
      "\n",
      "L2 Penalty :  10000000.0\n",
      "Valdiation Error :  266046316927909.7 \n",
      "\n",
      "\n",
      "Best L2 Penalty :  10.0\n"
     ]
    }
   ],
   "source": [
    "poly15_data = polynomial_dataframe(train_valid_shuffled['sqft_living'], 15)\n",
    "my_features = poly15_data.columns\n",
    "\n",
    "# Get the names of the train_valid_shuffled dataframe as strings and then use indexing to get 'price' column as string\n",
    "output = list(train_valid_shuffled.columns)[2] \n",
    "\n",
    "L2 = []\n",
    "Val_Error = []\n",
    "\n",
    "for l2_penalty in np.logspace(1, 7, num=13):\n",
    "\n",
    "    validation_error = k_fold_cross_validation(10, l2_penalty, poly15_data, output, my_features)\n",
    "    print('L2 Penalty : ', l2_penalty)\n",
    "    print('Valdiation Error : ', validation_error,'\\n\\n')\n",
    "    \n",
    "    '''The following lines are used to answer the quiz question below'''\n",
    "    L2.append(l2_penalty)\n",
    "    Val_Error.append(validation_error)\n",
    "    \n",
    "# To find the best L2 Penalty, we find the index with the minimum value of Val_Error, and use\n",
    "# it to get the value of L2 Penalty from the list\n",
    "min_val_error = Val_Error.index(min(Val_Error))\n",
    "l2_best = L2[min_val_error]\n",
    "print('Best L2 Penalty : ', l2_best)\n",
    "\n",
    "# L2 Penalty = key and Val_Error \n",
    "    "
   ]
  },
  {
   "cell_type": "markdown",
   "metadata": {
    "hideCode": false,
    "hidePrompt": false
   },
   "source": [
    "<font color = 'steelblue'><b> Quiz : What's the best value for the L2 penalty according to 10-fold validation? </b></font>\n",
    "\n",
    "<font color = 'mediumvioletred'><b> Answer : The best value of L2 penalty is 10. This can be seen from the `Best L2 Penalty` output from above as well as the graph below </b></font>"
   ]
  },
  {
   "cell_type": "markdown",
   "metadata": {
    "hideCode": false,
    "hidePrompt": false
   },
   "source": [
    "You may find it useful to plot the k-fold cross-validation errors you have obtained to better understand the behavior of the method.  "
   ]
  },
  {
   "cell_type": "code",
   "execution_count": 19,
   "metadata": {
    "hideCode": false,
    "hidePrompt": false
   },
   "outputs": [
    {
     "data": {
      "image/png": "[encoded data removed]",
      "text/plain": [
       "<Figure size 432x288 with 1 Axes>"
      ]
     },
     "metadata": {
      "needs_background": "light"
     },
     "output_type": "display_data"
    }
   ],
   "source": [
    "# Plot the l2_penalty values in the x axis and the cross-validation error in the y axis.\n",
    "# Using plt.xscale('log') will make your plot more intuitive.\n",
    "\n",
    "plt.plot(L2,Val_Error)\n",
    "plt.xscale('log')\n",
    "plt.xlabel('L2 Penalties')\n",
    "plt.ylabel('Value Errors')\n",
    "plt.title('L2 Penalties against Validation Errors\\n')\n",
    "plt.show()"
   ]
  },
  {
   "cell_type": "markdown",
   "metadata": {
    "hideCode": false,
    "hidePrompt": false
   },
   "source": [
    "Once you found the best value for the L2 penalty using cross-validation, it is important to retrain a final model on all of the training data using this value of `l2_penalty`. This way, your final model will be trained on the entire dataset."
   ]
  },
  {
   "cell_type": "code",
   "execution_count": 20,
   "metadata": {
    "hideCode": false,
    "hidePrompt": false
   },
   "outputs": [
    {
     "name": "stdout",
     "output_type": "stream",
     "text": [
      "Intercept :  460833.93306351907 \n",
      " Coefficients :  [2.04857102e+01 3.64499722e-03 6.04581310e-07 8.20561854e-11\n",
      " 9.29325390e-15 9.30609177e-19 8.68944433e-23 7.84643131e-27\n",
      " 7.01033474e-31 6.29174136e-35 5.74038498e-39 5.38425675e-43\n",
      " 5.25028670e-47 5.37520179e-51 5.81217348e-55]\n",
      "\n",
      "\n",
      "RSS :  215103068748967.75\n"
     ]
    }
   ],
   "source": [
    "test_data = polynomial_dataframe(test['sqft_living'], 15)\n",
    "test_data['price'] = test['price'] # add price to the data since it's the target\n",
    "test_features = test_data.iloc[:,:-1]# get the values of the features\n",
    "\n",
    "# Create Linear Regression Model.\n",
    "reg_test = Ridge(alpha=10, normalize=True)\n",
    "\n",
    "# Fit the Model to the test data\n",
    "model_test = reg_test.fit(test_features,test_data['price'])\n",
    "\n",
    "predictions = reg_test.predict(test_features)\n",
    "\n",
    "residuals = predictions - test_data['price']\n",
    "RSS = np.sum(np.square(residuals))\n",
    "\n",
    "print('Intercept : ', model_test.intercept_, '\\n Coefficients : ', model_test.coef_)\n",
    "print('\\n\\nRSS : ', RSS)"
   ]
  },
  {
   "cell_type": "markdown",
   "metadata": {
    "hideCode": false,
    "hidePrompt": false,
    "variables": {
     "RSS": "215103068748967.75"
    }
   },
   "source": [
    "<font color = 'steelblue'><b> Quiz : Using the best L2 penalty found above, train a model using all training data. What is the RSS on the TEST data of the model you learn with this L2 penalty? </b></font>\n",
    "\n",
    "<font color = 'mediumvioletred'><b> Answer : The RSS on test data is {{RSS}} </b></font>"
   ]
  }
 ],
 "metadata": {
  "hide_code_all_hidden": false,
  "kernelspec": {
   "display_name": "Python 3",
   "language": "python",
   "name": "python3"
  },
  "language_info": {
   "codemirror_mode": {
    "name": "ipython",
    "version": 3
   },
   "file_extension": ".py",
   "mimetype": "text/x-python",
   "name": "python",
   "nbconvert_exporter": "python",
   "pygments_lexer": "ipython3",
   "version": "3.6.5"
  }
 },
 "nbformat": 4,
 "nbformat_minor": 4
}
