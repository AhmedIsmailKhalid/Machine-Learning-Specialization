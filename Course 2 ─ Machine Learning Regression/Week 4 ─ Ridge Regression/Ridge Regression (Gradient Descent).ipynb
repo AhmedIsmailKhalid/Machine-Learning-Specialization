{
 "cells": [
  {
   "cell_type": "markdown",
   "metadata": {},
   "source": [
    "# Regression Week 4: Ridge Regression (gradient descent)"
   ]
  },
  {
   "cell_type": "markdown",
   "metadata": {},
   "source": [
    "In this notebook, you will implement ridge regression via gradient descent. You will:\n",
    "* Convert an SFrame into a Numpy array\n",
    "* Write a Numpy function to compute the derivative of the regression weights with respect to a single feature\n",
    "* Write gradient descent function to compute the regression weights given an initial weight vector, step size, tolerance, and L2 penalty"
   ]
  },
  {
   "cell_type": "markdown",
   "metadata": {},
   "source": [
    "# Import Neccessary Libraries"
   ]
  },
  {
   "cell_type": "code",
   "execution_count": 1,
   "metadata": {},
   "outputs": [],
   "source": [
    "import pandas as pd\n",
    "import numpy as np\n",
    "import matplotlib.pyplot as plt\n",
    "import math\n",
    "from past.builtins import xrange\n",
    "from sklearn.linear_model import LinearRegression, Ridge, Lasso\n",
    "%matplotlib inline"
   ]
  },
  {
   "cell_type": "markdown",
   "metadata": {},
   "source": [
    "# Load in house sales data\n",
    "\n",
    "Dataset is from house sales in King County, the region where the city of Seattle, WA is located."
   ]
  },
  {
   "cell_type": "code",
   "execution_count": 2,
   "metadata": {},
   "outputs": [],
   "source": [
    "dtype_dict = {'bathrooms':float, 'waterfront':int, 'sqft_above':int, 'sqft_living15':float, 'grade':int, 'yr_renovated':int, 'price':float, 'bedrooms':float, 'zipcode':str, 'long':float, 'sqft_lot15':float, 'sqft_living':float, 'floors':float, 'condition':int, 'lat':float, 'date':str, 'sqft_basement':int, 'yr_built':int, 'id':str, 'sqft_lot':int, 'view':int}\n",
    "\n",
    "sales = pd.read_csv('kc_house_data.csv', dtype=dtype_dict)\n",
    "sales = sales.sort_values(['sqft_living','price'])"
   ]
  },
  {
   "cell_type": "markdown",
   "metadata": {},
   "source": [
    "# Import useful functions from previous notebook"
   ]
  },
  {
   "cell_type": "markdown",
   "metadata": {},
   "source": [
    "As in Week 2, we convert the SFrame into a 2D Numpy array. Copy and paste `get_numpy_data()` from the second notebook of Week 2."
   ]
  },
  {
   "cell_type": "code",
   "execution_count": 3,
   "metadata": {},
   "outputs": [],
   "source": [
    "def get_numpy_data(data_frame, X, Y):\n",
    "    \n",
    "    data_frame['constant'] = 1 # this is how you add a constant column to an SFrame\n",
    "    \n",
    "    # select the columns of data_SFrame given by the features list into the SFrame features_sframe (now including constant):\n",
    "    data = {'constant': data_frame['constant']} \n",
    "    features_frame = pd.DataFrame(data) # create a DataFrame with only the 'constant' as column \n",
    "    features_sframe = pd.concat([features_frame, X], axis = 1) # create a new DataFrame with the 'constant' and X as columns\n",
    "    \n",
    "    # the following line will convert the features_SFrame into a numpy matrix:\n",
    "    feature_matrix = np.array(features_sframe)\n",
    "    \n",
    "    # assign the column of data_sframe associated with the output to the SArray output_sarray\n",
    "    output_sarray = Y\n",
    "\n",
    "    # the following will convert the SArray into a numpy array by first converting it to a list\n",
    "    output_array = np.array(output_sarray)\n",
    "    \n",
    "    return feature_matrix, output_array"
   ]
  },
  {
   "cell_type": "markdown",
   "metadata": {},
   "source": [
    "Also, copy and paste the `predict_output()` function to compute the predictions for an entire matrix of features given the matrix and the weights:"
   ]
  },
  {
   "cell_type": "code",
   "execution_count": 4,
   "metadata": {},
   "outputs": [],
   "source": [
    "def predict_output(feature_matrix, weights):\n",
    "    \n",
    "    # assume feature_matrix is a numpy matrix containing the features as columns and weights is a corresponding numpy array\n",
    "    # create the predictions vector by using np.dot()\n",
    "    \n",
    "    predictions = np.dot(feature_matrix, weights)\n",
    "\n",
    "    return predictions"
   ]
  },
  {
   "cell_type": "markdown",
   "metadata": {},
   "source": [
    "# Computing the Derivative"
   ]
  },
  {
   "cell_type": "markdown",
   "metadata": {},
   "source": [
    "We are now going to move to computing the derivative of the regression cost function. Recall that the cost function is the sum over the data points of the squared difference between an observed output and a predicted output, plus the L2 penalty term.\n",
    "```\n",
    "Cost(w)\n",
    "= SUM[ (prediction - output)^2 ]\n",
    "+ l2_penalty*(w[0]^2 + w[1]^2 + ... + w[k]^2).\n",
    "```\n",
    "\n",
    "Since the derivative of a sum is the sum of the derivatives, we can take the derivative of the first part (the RSS) as we did in the notebook for the unregularized case in Week 2 and add the derivative of the regularization part.  As we saw, the derivative of the RSS with respect to `w[i]` can be written as: \n",
    "```\n",
    "2*SUM[ error*[feature_i] ].\n",
    "```\n",
    "The derivative of the regularization term with respect to `w[i]` is:\n",
    "```\n",
    "2*l2_penalty*w[i].\n",
    "```\n",
    "Summing both, we get\n",
    "```\n",
    "2*SUM[ error*[feature_i] ] + 2*l2_penalty*w[i].\n",
    "```\n",
    "That is, the derivative for the weight for feature i is the sum (over data points) of 2 times the product of the error and the feature itself, plus `2*l2_penalty*w[i]`. \n",
    "\n",
    "**We will not regularize the constant.**  Thus, in the case of the constant, the derivative is just twice the sum of the errors (without the `2*l2_penalty*w[0]` term).\n",
    "\n",
    "Recall that twice the sum of the product of two vectors is just twice the dot product of the two vectors. Therefore the derivative for the weight for feature_i is just two times the dot product between the values of feature_i and the current errors, plus `2*l2_penalty*w[i]`.\n",
    "\n",
    "With this in mind complete the following derivative function which computes the derivative of the weight given the value of the feature (over all data points) and the errors (over all data points).  To decide when to we are dealing with the constant (so we don't regularize it) we added the extra parameter to the call `feature_is_constant` which you should set to `True` when computing the derivative of the constant and `False` otherwise."
   ]
  },
  {
   "cell_type": "code",
   "execution_count": 5,
   "metadata": {},
   "outputs": [],
   "source": [
    "def feature_derivative_ridge(errors, feature, weight, l2_penalty, feature_is_constant):\n",
    "    # If feature_is_constant is True, derivative is twice the dot product of errors and feature\n",
    "    if feature_is_constant == True :\n",
    "        derivative = 2 * np.dot(errors, feature)\n",
    "    \n",
    "    # Otherwise, derivative is twice the dot product plus 2*l2_penalty*weight\n",
    "    else :\n",
    "        derivative = 2 * np.dot(errors, feature) + 2*(l2_penalty*weight)\n",
    "        #derivative = 2 * (np.dot(errors, features) + (2 * l2_penalty * weight))\n",
    "    \n",
    "    return derivative\n"
   ]
  },
  {
   "cell_type": "markdown",
   "metadata": {},
   "source": [
    "To test your feature derivartive run the following:"
   ]
  },
  {
   "cell_type": "code",
   "execution_count": 6,
   "metadata": {},
   "outputs": [
    {
     "name": "stdout",
     "output_type": "stream",
     "text": [
      "-56554166815950.0\n",
      "-56554166815950.0\n",
      "\n",
      "-22446749330.0\n",
      "-22446749330.0\n"
     ]
    }
   ],
   "source": [
    "(example_features, example_output) = get_numpy_data(sales, sales['sqft_living'], sales['price'])\n",
    "my_weights = np.array([1., 10.])\n",
    "test_predictions = predict_output(example_features, my_weights) \n",
    "errors = test_predictions - example_output # prediction errors\n",
    "\n",
    "# next two lines should print the same values\n",
    "print(feature_derivative_ridge(errors, example_features[:,1], my_weights[1], 1, False))\n",
    "print(np.sum(errors*example_features[:,1])*2+20)\n",
    "print()\n",
    "\n",
    "# next two lines should print the same values\n",
    "print(feature_derivative_ridge(errors, example_features[:,0], my_weights[0], 1, True))\n",
    "print(np.sum(errors)*2)"
   ]
  },
  {
   "cell_type": "markdown",
   "metadata": {},
   "source": [
    "# Gradient Descent"
   ]
  },
  {
   "cell_type": "markdown",
   "metadata": {},
   "source": [
    "Now we will write a function that performs a gradient descent. The basic premise is simple. Given a starting point we update the current weights by moving in the negative gradient direction. Recall that the gradient is the direction of *increase* and therefore the negative gradient is the direction of *decrease* and we're trying to *minimize* a cost function. \n",
    "\n",
    "The amount by which we move in the negative gradient *direction*  is called the 'step size'. We stop when we are 'sufficiently close' to the optimum. Unlike in Week 2, this time we will set a **maximum number of iterations** and take gradient steps until we reach this maximum number. If no maximum number is supplied, the maximum should be set 100 by default. (Use default parameter values in Python.)\n",
    "\n",
    "With this in mind, complete the following gradient descent function below using your derivative function above. For each step in the gradient descent, we update the weight for each feature before computing our stopping criteria."
   ]
  },
  {
   "cell_type": "code",
   "execution_count": 7,
   "metadata": {},
   "outputs": [],
   "source": [
    "def ridge_regression_gradient_descent(feature_matrix, output, initial_weights, step_size, l2_penalty, max_iterations=100):\n",
    "    print('Starting gradient descent with l2_penalty = ' + str(l2_penalty))\n",
    "    \n",
    "    weights = np.array(initial_weights) # make sure it's a numpy array\n",
    "    iteration = 0 # iteration counter\n",
    "    print_frequency = 1  # for adjusting frequency of debugging output\n",
    "    \n",
    "    #while not reached maximum number of iterations:\n",
    "    while max_iterations > 0 :\n",
    "        iteration += 1  # increment iteration counter\n",
    "        ### === code section for adjusting frequency of debugging output. ===\n",
    "        if iteration == 10:\n",
    "            print_frequency = 10\n",
    "        if iteration == 100:\n",
    "            print_frequency = 100\n",
    "        if iteration%print_frequency==0:\n",
    "            print('Iteration = ' + str(iteration))\n",
    "        ### === end code section ===\n",
    "        \n",
    "        # compute the predictions based on feature_matrix and weights using your predict_output() function\n",
    "        predictions = predict_output(feature_matrix,weights)\n",
    "\n",
    "        # compute the errors as predictions - output\n",
    "        errors = predictions - output\n",
    "\n",
    "        # from time to time, print the value of the cost function\n",
    "        if iteration%print_frequency==0:\n",
    "            print('Cost function = '+ str(np.dot(errors,errors) + l2_penalty*(np.dot(weights,weights) - weights[0]**2)))\n",
    "        \n",
    "        for i in xrange(len(weights)): # loop over each weight\n",
    "            # Recall that feature_matrix[:,i] is the feature column associated with weights[i]\n",
    "            # compute the derivative for weight[i].\n",
    "            #(Remember: when i=0, you are computing the derivative of the constant!)\n",
    "            if i == 0 :\n",
    "                feature_is_constant = True\n",
    "            \n",
    "            else :\n",
    "                feature_is_constant = False\n",
    "            derivative = feature_derivative_ridge(errors, feature_matrix[:,i], weights[i], l2_penalty, feature_is_constant)\n",
    "\n",
    "            # subtract the step size times the derivative from the current weight\n",
    "            weights[i] = weights[i] - (step_size * derivative)\n",
    "        max_iterations -= 1\n",
    "            \n",
    "    print('\\n\\nDone with gradient descent at iteration ', iteration)\n",
    "    print('\\nLearned weights = ', str(weights))\n",
    "    return weights"
   ]
  },
  {
   "cell_type": "markdown",
   "metadata": {},
   "source": [
    "# Visualizing effect of L2 penalty"
   ]
  },
  {
   "cell_type": "markdown",
   "metadata": {},
   "source": [
    "The L2 penalty gets its name because it causes weights to have small L2 norms than otherwise. Let's see how large weights get penalized. Let us consider a simple model with 1 feature:"
   ]
  },
  {
   "cell_type": "code",
   "execution_count": 8,
   "metadata": {},
   "outputs": [],
   "source": [
    "simple_features = sales['sqft_living']\n",
    "my_output = sales['price']"
   ]
  },
  {
   "cell_type": "code",
   "execution_count": 9,
   "metadata": {},
   "outputs": [
    {
     "data": {
      "text/plain": [
       "19452      290.0\n",
       "15381      370.0\n",
       "860        380.0\n",
       "18379      384.0\n",
       "4868       390.0\n",
       "          ...   \n",
       "8092      9640.0\n",
       "9254      9890.0\n",
       "3914     10040.0\n",
       "7252     12050.0\n",
       "12777    13540.0\n",
       "Name: sqft_living, Length: 21613, dtype: float64"
      ]
     },
     "execution_count": 9,
     "metadata": {},
     "output_type": "execute_result"
    }
   ],
   "source": [
    "simple_features"
   ]
  },
  {
   "cell_type": "markdown",
   "metadata": {},
   "source": [
    "Let us split the dataset into training set and test set. Make sure to use `seed=0`:"
   ]
  },
  {
   "cell_type": "code",
   "execution_count": 10,
   "metadata": {},
   "outputs": [],
   "source": [
    "train = pd.read_csv('wk3_kc_data/wk3_kc_house_train_data.csv', dtype = dtype_dict)\n",
    "test = pd.read_csv('wk3_kc_data/wk3_kc_house_test_data.csv', dtype = dtype_dict)"
   ]
  },
  {
   "cell_type": "markdown",
   "metadata": {},
   "source": [
    "In this part, we will only use `'sqft_living'` to predict `'price'`. Use the `get_numpy_data` function to get a Numpy versions of your data with only this feature, for both the `train_data` and the `test_data`. "
   ]
  },
  {
   "cell_type": "markdown",
   "metadata": {},
   "source": [
    "Convert the training set and test set using the ‘get_numpy_data’ function.e.g. in Python :"
   ]
  },
  {
   "cell_type": "code",
   "execution_count": 11,
   "metadata": {},
   "outputs": [],
   "source": [
    "simple_features_train = train['sqft_living']\n",
    "output_train = train['price']\n",
    "\n",
    "simple_features_test = test['sqft_living']\n",
    "output_test = test['price']\n",
    "\n",
    "(simple_feature_matrix, output) = get_numpy_data(train, simple_features_train, output_train)\n",
    "(simple_test_feature_matrix, test_output) = get_numpy_data(test, simple_features_test, output_test)"
   ]
  },
  {
   "cell_type": "markdown",
   "metadata": {},
   "source": [
    "Let's set the parameters for our optimization:"
   ]
  },
  {
   "cell_type": "code",
   "execution_count": 12,
   "metadata": {},
   "outputs": [],
   "source": [
    "initial_weights = np.array([0., 0.])\n",
    "step_size = 1e-12\n",
    "max_iterations=1000"
   ]
  },
  {
   "cell_type": "markdown",
   "metadata": {},
   "source": [
    "First, let’s consider no regularization. Set the L2 penalty to 0.0 and run your ridge regression algorithm to learn the weights of the simple model (described above). Use the following parameters:\n",
    "\n",
    "* step_size = 1e-12\n",
    "* max_iterations = 1000\n",
    "* initial_weights = all zeros\n",
    "\n",
    "Store the learned weights as"
   ]
  },
  {
   "cell_type": "code",
   "execution_count": 13,
   "metadata": {},
   "outputs": [
    {
     "name": "stdout",
     "output_type": "stream",
     "text": [
      "Starting gradient descent with l2_penalty = 0.0\n",
      "Iteration = 1\n",
      "Cost function = 4281054533306131.0\n",
      "Iteration = 2\n",
      "Cost function = 3591587519872567.0\n",
      "Iteration = 3\n",
      "Cost function = 3035337139181060.5\n",
      "Iteration = 4\n",
      "Cost function = 2586563695358856.0\n",
      "Iteration = 5\n",
      "Cost function = 2224500835050459.0\n",
      "Iteration = 6\n",
      "Cost function = 1932394613927338.0\n",
      "Iteration = 7\n",
      "Cost function = 1696728231723304.5\n",
      "Iteration = 8\n",
      "Cost function = 1506596561511020.5\n",
      "Iteration = 9\n",
      "Cost function = 1353201530450808.8\n",
      "Iteration = 10\n",
      "Cost function = 1229445001473013.0\n",
      "Iteration = 20\n",
      "Cost function = 773069358244651.8\n",
      "Iteration = 30\n",
      "Cost function = 719749284092452.2\n",
      "Iteration = 40\n",
      "Cost function = 713519700020015.1\n",
      "Iteration = 50\n",
      "Cost function = 712791874082405.2\n",
      "Iteration = 60\n",
      "Cost function = 712706839131316.6\n",
      "Iteration = 70\n",
      "Cost function = 712696903856045.9\n",
      "Iteration = 80\n",
      "Cost function = 712695742756869.9\n",
      "Iteration = 90\n",
      "Cost function = 712695606777514.0\n",
      "Iteration = 100\n",
      "Cost function = 712695590566741.9\n",
      "Iteration = 200\n",
      "Cost function = 712695584804426.6\n",
      "Iteration = 300\n",
      "Cost function = 712695581138129.5\n",
      "Iteration = 400\n",
      "Cost function = 712695577471835.1\n",
      "Iteration = 500\n",
      "Cost function = 712695573805542.6\n",
      "Iteration = 600\n",
      "Cost function = 712695570139252.6\n",
      "Iteration = 700\n",
      "Cost function = 712695566472965.4\n",
      "Iteration = 800\n",
      "Cost function = 712695562806679.9\n",
      "Iteration = 900\n",
      "Cost function = 712695559140396.8\n",
      "Iteration = 1000\n",
      "Cost function = 712695555474116.4\n",
      "\n",
      "\n",
      "Done with gradient descent at iteration  1000\n",
      "\n",
      "Learned weights =  [-8.55038595e-02  2.64788506e+02]\n"
     ]
    }
   ],
   "source": [
    "simple_weights_0_penalty = ridge_regression_gradient_descent(simple_feature_matrix, output, initial_weights, step_size,\n",
    "                                                            0.0, max_iterations)"
   ]
  },
  {
   "cell_type": "markdown",
   "metadata": {},
   "source": [
    "Next, let's consider high regularization.  Set the `l2_penalty` to `1e11` and run your ridge regression algorithm to learn the weights of your model.  Call your weights:\n",
    "\n",
    "`simple_weights_high_penalty`\n",
    "\n",
    "we'll use them later."
   ]
  },
  {
   "cell_type": "code",
   "execution_count": 14,
   "metadata": {},
   "outputs": [
    {
     "name": "stdout",
     "output_type": "stream",
     "text": [
      "Starting gradient descent with l2_penalty = 100000000000.0\n",
      "Iteration = 1\n",
      "Cost function = 4281054533306131.0\n",
      "Iteration = 2\n",
      "Cost function = 3664231380140137.0\n",
      "Iteration = 3\n",
      "Cost function = 3363530842236839.0\n",
      "Iteration = 4\n",
      "Cost function = 3216939682562004.5\n",
      "Iteration = 5\n",
      "Cost function = 3145476651376901.0\n",
      "Iteration = 6\n",
      "Cost function = 3110638488549917.5\n",
      "Iteration = 7\n",
      "Cost function = 3093654903085830.0\n",
      "Iteration = 8\n",
      "Cost function = 3085375401679894.0\n",
      "Iteration = 9\n",
      "Cost function = 3081339130329279.5\n",
      "Iteration = 10\n",
      "Cost function = 3079371428305674.0\n",
      "Iteration = 20\n",
      "Cost function = 3077500702114594.5\n",
      "Iteration = 30\n",
      "Cost function = 3077498800249298.5\n",
      "Iteration = 40\n",
      "Cost function = 3077498315167666.0\n",
      "Iteration = 50\n",
      "Cost function = 3077497831160254.5\n",
      "Iteration = 60\n",
      "Cost function = 3077497347153793.0\n",
      "Iteration = 70\n",
      "Cost function = 3077496863147467.0\n",
      "Iteration = 80\n",
      "Cost function = 3077496379141277.5\n",
      "Iteration = 90\n",
      "Cost function = 3077495895135224.0\n",
      "Iteration = 100\n",
      "Cost function = 3077495411129305.5\n",
      "Iteration = 200\n",
      "Cost function = 3077490571077588.5\n",
      "Iteration = 300\n",
      "Cost function = 3077485731039445.0\n",
      "Iteration = 400\n",
      "Cost function = 3077480891014877.0\n",
      "Iteration = 500\n",
      "Cost function = 3077476051003883.5\n",
      "Iteration = 600\n",
      "Cost function = 3077471211006465.5\n",
      "Iteration = 700\n",
      "Cost function = 3077466371022620.0\n",
      "Iteration = 800\n",
      "Cost function = 3077461531052349.5\n",
      "Iteration = 900\n",
      "Cost function = 3077456691095653.0\n",
      "Iteration = 1000\n",
      "Cost function = 3077451851152531.0\n",
      "\n",
      "\n",
      "Done with gradient descent at iteration  1000\n",
      "\n",
      "Learned weights =  [ 6.96906922 89.30826422]\n"
     ]
    }
   ],
   "source": [
    "simple_weights_high_penalty = ridge_regression_gradient_descent(simple_feature_matrix, output, initial_weights, step_size,\n",
    "                                                            1e11, max_iterations)\n"
   ]
  },
  {
   "cell_type": "markdown",
   "metadata": {},
   "source": [
    "This code will plot the two learned models.  (The blue line is for the model with no regularization and the red line is for the one with high regularization.)"
   ]
  },
  {
   "cell_type": "code",
   "execution_count": 15,
   "metadata": {},
   "outputs": [
    {
     "data": {
      "text/plain": [
       "[<matplotlib.lines.Line2D at 0x2a7e8f0efd0>,\n",
       " <matplotlib.lines.Line2D at 0x2a7e8f1d240>,\n",
       " <matplotlib.lines.Line2D at 0x2a7e8f1d358>,\n",
       " <matplotlib.lines.Line2D at 0x2a7e8f1d4e0>,\n",
       " <matplotlib.lines.Line2D at 0x2a7e8f1d630>,\n",
       " <matplotlib.lines.Line2D at 0x2a7e8f1d780>]"
      ]
     },
     "execution_count": 15,
     "metadata": {},
     "output_type": "execute_result"
    },
    {
     "data": {
      "image/png": "[encoded data removed]",
      "text/plain": [
       "<Figure size 432x288 with 1 Axes>"
      ]
     },
     "metadata": {
      "needs_background": "light"
     },
     "output_type": "display_data"
    }
   ],
   "source": [
    "plt.plot(simple_feature_matrix,output,'k.',\n",
    "         simple_feature_matrix,predict_output(simple_feature_matrix, simple_weights_0_penalty),'b-',\n",
    "        simple_feature_matrix,predict_output(simple_feature_matrix, simple_weights_high_penalty),'r-')"
   ]
  },
  {
   "cell_type": "markdown",
   "metadata": {},
   "source": [
    "Compute the RSS on the TEST data for the following three sets of weights:\n",
    "1. The initial weights (all zeros)\n",
    "2. The weights learned with no regularization\n",
    "3. The weights learned with high regularization\n",
    "\n",
    "Which weights perform best?"
   ]
  },
  {
   "cell_type": "code",
   "execution_count": 16,
   "metadata": {},
   "outputs": [
    {
     "name": "stdout",
     "output_type": "stream",
     "text": [
      "RSS on TEST data with initial weights (all zeros) :  927913649762512.0\n",
      "RSS on TEST data with no regularization           :  143086951735718.47\n",
      "RSS on TEST data with high regularization         :  485876997385567.75\n",
      "\n",
      "Best RSS on Test data is with  No Regularization\n",
      "Coefficient for sqft_living with no regularization (1 decimal place)   :  -0.08550385950538156\n",
      "Coefficient for sqft_living with high regularization (1 decimal place) :  6.969069216540232\n"
     ]
    }
   ],
   "source": [
    "# Calculating RSS on TEST data with initial weights (all zeros)\n",
    "initial_predictions = predict_output(simple_test_feature_matrix, initial_weights)\n",
    "initial_residuals = test_output - initial_predictions\n",
    "initial_RSS = np.sum(np.square(initial_residuals))\n",
    "\n",
    "# Calculating RSS on TEST data with no regularization\n",
    "no_regularization_predictions = predict_output(simple_test_feature_matrix, simple_weights_0_penalty)\n",
    "no_regularization_residuals = test_output - no_regularization_predictions\n",
    "no_regularization_RSS = np.sum(np.square(no_regularization_residuals))\n",
    "\n",
    "# Calculating RSS on TEST data with high regularization weights\n",
    "high_regularization_predictions = predict_output(simple_test_feature_matrix, simple_weights_high_penalty)\n",
    "high_regularization_residuals = test_output - high_regularization_predictions\n",
    "high_regularization_RSS = np.sum(np.square(high_regularization_residuals))\n",
    "\n",
    "print('RSS on TEST data with initial weights (all zeros) : ', initial_RSS)\n",
    "print('RSS on TEST data with no regularization           : ', no_regularization_RSS)\n",
    "print('RSS on TEST data with high regularization         : ', high_regularization_RSS)\n",
    "\n",
    "'''The code is below find the best RSS'''\n",
    "\n",
    "# Create a dictionary with the keys as the Weight Names and the values as their weights\n",
    "RSS_list = {'Initial Weights ': initial_RSS, 'No Regularization': no_regularization_RSS,\n",
    "            'High Regularization': high_regularization_RSS} \n",
    "\n",
    "# Get the key for the minimum value in the dictionary\n",
    "best_RSS = min(RSS_list, key=RSS_list.get)\n",
    "\n",
    "print('\\nBest RSS on Test data is with ', best_RSS)\n",
    "\n",
    "\n",
    "# This code bleow is to answer the following quiz questions\n",
    "coef_sqft_living_no_regularization = round(simple_weights_0_penalty[0],1)\n",
    "coef_sqft_living_high_regularization = round(simple_weights_high_penalty[0],1)\n",
    "\n",
    "print('Coefficient for sqft_living with no regularization (1 decimal place)   : ', simple_weights_0_penalty[0])\n",
    "print('Coefficient for sqft_living with high regularization (1 decimal place) : ', simple_weights_high_penalty[0])"
   ]
  },
  {
   "cell_type": "markdown",
   "metadata": {
    "variables": {
     "coef_sqft_living_high_regularization": "7.0",
     "coef_sqft_living_no_regularization": "-0.1",
     "high_regularization_RSS": "485876997385567.75",
     "initial_RSS": "927913649762512.0",
     "no_regularization_RSS": "143086951735718.47"
    }
   },
   "source": [
    "<font color = 'steelblue'><b> Quiz 1 : What is the value of the coefficient for `sqft_living` that you learned with no regularization, rounded to 1 decimal place?  What about the one with high regularization? </b></font>\n",
    "\n",
    "<font color = 'mediumvioletred'><b> Answer 1 : The value of the coefficient for `sqft_living` learned with no regularization is {{coef_sqft_living_no_regularization}} and the value with high regularization is {{coef_sqft_living_high_regularization}}  </b></font>\n",
    "\n",
    "<br/>\n",
    "\n",
    "<font color = 'steelblue'><b> Quiz 2 : Comparing the lines you fit with the with no regularization versus high regularization, which one is steeper? </b></font>\n",
    "\n",
    "<font color = 'mediumvioletred'><b> Answer 2 : The line fit with no regularization (blue line) is steeper as compared to one fit with high regularization </b></font>\n",
    "\n",
    "<br/>\n",
    "\n",
    "<font color = 'steelblue'><b> Quiz 3 : What are the RSS on the test data for each of the set of weights above (initial, no regularization, high regularization)? </b></font>\n",
    "\n",
    "<font color = 'mediumvioletred'><b> Answer 3 : The RSS on the TEST data for all set of weights are : </b></font>\n",
    "<font color = 'slategray'><b>\n",
    "- Initial = {{initial_RSS}}\n",
    "- No Regularization = {{no_regularization_RSS}}\n",
    "- High Regularization = {{high_regularization_RSS}}\n",
    "</b></font>\n",
    "    \n",
    "    \n",
    "    "
   ]
  },
  {
   "cell_type": "markdown",
   "metadata": {},
   "source": [
    "# Running a multiple regression with L2 penalty"
   ]
  },
  {
   "cell_type": "markdown",
   "metadata": {},
   "source": [
    "Let us now consider a model with 2 features: `['sqft_living', 'sqft_living15']`."
   ]
  },
  {
   "cell_type": "markdown",
   "metadata": {},
   "source": [
    "First, create Numpy versions of your training and test data with these two features. "
   ]
  },
  {
   "cell_type": "code",
   "execution_count": 17,
   "metadata": {},
   "outputs": [],
   "source": [
    "model_features_train = train[['sqft_living','sqft_living15']] #sqft_living15 is the avg sqtft for the nearest 15 neighbors. \n",
    "output_train = train['price']\n",
    "\n",
    "model_features_test = test[['sqft_living','sqft_living15']]\n",
    "output_test = test['price']\n",
    "\n",
    "\n",
    "(feature_matrix, output) = get_numpy_data(train, model_features_train, output_train)\n",
    "(test_feature_matrix, test_output) = get_numpy_data(test, model_features_test, output_test)"
   ]
  },
  {
   "cell_type": "markdown",
   "metadata": {},
   "source": [
    "We need to re-inialize the weights, since we have one extra parameter. Let us also set the step size and maximum number of iterations."
   ]
  },
  {
   "cell_type": "code",
   "execution_count": 18,
   "metadata": {},
   "outputs": [],
   "source": [
    "initial_weights = np.array([0.0,0.0,0.0])\n",
    "step_size = 1e-12\n",
    "max_iterations = 1000"
   ]
  },
  {
   "cell_type": "markdown",
   "metadata": {},
   "source": [
    "First, let's consider no regularization.  Set the `l2_penalty` to `0.0` and run your ridge regression algorithm to learn the weights of your model.  Call your weights:\n",
    "\n",
    "`multiple_weights_0_penalty`"
   ]
  },
  {
   "cell_type": "code",
   "execution_count": 19,
   "metadata": {},
   "outputs": [
    {
     "name": "stdout",
     "output_type": "stream",
     "text": [
      "Starting gradient descent with l2_penalty = 0.0\n",
      "Iteration = 1\n",
      "Cost function = 4281054533306131.0\n",
      "Iteration = 2\n",
      "Cost function = 3095355385662590.5\n",
      "Iteration = 3\n",
      "Cost function = 2307998512416790.0\n",
      "Iteration = 4\n",
      "Cost function = 1785128558940737.5\n",
      "Iteration = 5\n",
      "Cost function = 1437869920526088.2\n",
      "Iteration = 6\n",
      "Cost function = 1207212083072821.2\n",
      "Iteration = 7\n",
      "Cost function = 1053973981044759.5\n",
      "Iteration = 8\n",
      "Cost function = 952140657650159.8\n",
      "Iteration = 9\n",
      "Cost function = 884439023985695.9\n",
      "Iteration = 10\n",
      "Cost function = 839400307045584.0\n",
      "Iteration = 20\n",
      "Cost function = 749869701065585.8\n",
      "Iteration = 30\n",
      "Cost function = 746054548157849.6\n",
      "Iteration = 40\n",
      "Cost function = 743817380962203.2\n",
      "Iteration = 50\n",
      "Cost function = 741747373163778.0\n",
      "Iteration = 60\n",
      "Cost function = 739811900386933.4\n",
      "Iteration = 70\n",
      "Cost function = 738001879991813.9\n",
      "Iteration = 80\n",
      "Cost function = 736309174830539.1\n",
      "Iteration = 90\n",
      "Cost function = 734726181100178.0\n",
      "Iteration = 100\n",
      "Cost function = 733245787931744.8\n",
      "Iteration = 200\n",
      "Cost function = 722814701595332.1\n",
      "Iteration = 300\n",
      "Cost function = 717477563635159.8\n",
      "Iteration = 400\n",
      "Cost function = 714746778521416.5\n",
      "Iteration = 500\n",
      "Cost function = 713349551319603.1\n",
      "Iteration = 600\n",
      "Cost function = 712634647966192.8\n",
      "Iteration = 700\n",
      "Cost function = 712268860185442.6\n",
      "Iteration = 800\n",
      "Cost function = 712081699728595.2\n",
      "Iteration = 900\n",
      "Cost function = 711985935139888.2\n",
      "Iteration = 1000\n",
      "Cost function = 711936933860011.0\n",
      "\n",
      "\n",
      "Done with gradient descent at iteration  1000\n",
      "\n",
      "Learned weights =  [-2.22154863e-01  2.46527617e+02  2.03795399e+01]\n"
     ]
    }
   ],
   "source": [
    "multiple_weights_0_penalty = ridge_regression_gradient_descent(feature_matrix, output, initial_weights, step_size,\n",
    "                                                              0.0, max_iterations)"
   ]
  },
  {
   "cell_type": "markdown",
   "metadata": {},
   "source": [
    "Next, let's consider high regularization.  Set the `l2_penalty` to `1e11` and run your ridge regression algorithm to learn the weights of your model.  Call your weights:\n",
    "\n",
    "`multiple_weights_high_penalty`"
   ]
  },
  {
   "cell_type": "code",
   "execution_count": 20,
   "metadata": {},
   "outputs": [
    {
     "name": "stdout",
     "output_type": "stream",
     "text": [
      "Starting gradient descent with l2_penalty = 100000000000.0\n",
      "Iteration = 1\n",
      "Cost function = 4281054533306131.0\n",
      "Iteration = 2\n",
      "Cost function = 3226019524422106.5\n",
      "Iteration = 3\n",
      "Cost function = 2827119949210855.0\n",
      "Iteration = 4\n",
      "Cost function = 2676283064280317.0\n",
      "Iteration = 5\n",
      "Cost function = 2619236316080058.0\n",
      "Iteration = 6\n",
      "Cost function = 2597654528454228.0\n",
      "Iteration = 7\n",
      "Cost function = 2589485556988639.0\n",
      "Iteration = 8\n",
      "Cost function = 2586390832340577.5\n",
      "Iteration = 9\n",
      "Cost function = 2585216734530676.0\n",
      "Iteration = 10\n",
      "Cost function = 2584770219491837.0\n",
      "Iteration = 20\n",
      "Cost function = 2584491292441081.0\n",
      "Iteration = 30\n",
      "Cost function = 2584490874645380.0\n",
      "Iteration = 40\n",
      "Cost function = 2584490591056252.5\n",
      "Iteration = 50\n",
      "Cost function = 2584490308722106.5\n",
      "Iteration = 60\n",
      "Cost function = 2584490026401320.0\n",
      "Iteration = 70\n",
      "Cost function = 2584489744080737.0\n",
      "Iteration = 80\n",
      "Cost function = 2584489461760219.0\n",
      "Iteration = 90\n",
      "Cost function = 2584489179439766.0\n",
      "Iteration = 100\n",
      "Cost function = 2584488897119376.5\n",
      "Iteration = 200\n",
      "Cost function = 2584486073918981.5\n",
      "Iteration = 300\n",
      "Cost function = 2584483250724958.0\n",
      "Iteration = 400\n",
      "Cost function = 2584480427537304.0\n",
      "Iteration = 500\n",
      "Cost function = 2584477604356023.0\n",
      "Iteration = 600\n",
      "Cost function = 2584474781181111.0\n",
      "Iteration = 700\n",
      "Cost function = 2584471958012571.0\n",
      "Iteration = 800\n",
      "Cost function = 2584469134850401.0\n",
      "Iteration = 900\n",
      "Cost function = 2584466311694601.5\n",
      "Iteration = 1000\n",
      "Cost function = 2584463488545173.5\n",
      "\n",
      "\n",
      "Done with gradient descent at iteration  1000\n",
      "\n",
      "Learned weights =  [ 5.32706595 70.80524334 61.63875935]\n"
     ]
    }
   ],
   "source": [
    "multiple_weights_high_penalty = ridge_regression_gradient_descent(feature_matrix, output, initial_weights, step_size,\n",
    "                                                              1e11, max_iterations)"
   ]
  },
  {
   "cell_type": "markdown",
   "metadata": {},
   "source": [
    "Compute the RSS on the TEST data for the following three sets of weights:\n",
    "1. The initial weights (all zeros)\n",
    "2. The weights learned with no regularization\n",
    "3. The weights learned with high regularization\n",
    "\n",
    "Which weights perform best?"
   ]
  },
  {
   "cell_type": "code",
   "execution_count": 21,
   "metadata": {},
   "outputs": [
    {
     "name": "stdout",
     "output_type": "stream",
     "text": [
      "RSS on TEST data with initial weights (all zeros) :  927913649762512.0\n",
      "RSS on TEST data with no regularization           :  142759126396726.72\n",
      "RSS on TEST data with high regularization         :  356770519506377.94\n",
      "\n",
      "Best RSS on Test data is with No Regularization\n"
     ]
    }
   ],
   "source": [
    "# Calculating RSS on TEST data with initial weights (all zeros)\n",
    "initial_predictions = predict_output(test_feature_matrix, initial_weights)\n",
    "initial_residuals = test_output - initial_predictions\n",
    "initial_RSS = np.sum(np.square(initial_residuals))\n",
    "\n",
    "# Calculating RSS on TEST data with no regularization\n",
    "no_regularization_predictions = predict_output(test_feature_matrix, multiple_weights_0_penalty)\n",
    "no_regularization_residuals = test_output - no_regularization_predictions\n",
    "no_regularization_RSS = np.sum(np.square(no_regularization_residuals))\n",
    "\n",
    "# Calculating RSS on TEST data with high regularization weights\n",
    "high_regularization_predictions = predict_output(test_feature_matrix, multiple_weights_high_penalty)\n",
    "high_regularization_residuals = test_output - high_regularization_predictions\n",
    "high_regularization_RSS = np.sum(np.square(high_regularization_residuals))\n",
    "\n",
    "print('RSS on TEST data with initial weights (all zeros) : ', initial_RSS)\n",
    "print('RSS on TEST data with no regularization           : ', no_regularization_RSS)\n",
    "print('RSS on TEST data with high regularization         : ', high_regularization_RSS)\n",
    "\n",
    "'''The code is below find the best RSS'''\n",
    "\n",
    "# Create a dictionary with the keys as the Weight Names and the values as their weights\n",
    "RSS_list = {'Initial Weights ': initial_RSS, 'No Regularization': no_regularization_RSS,\n",
    "            'High Regularization': high_regularization_RSS} \n",
    "\n",
    "# Get the key for the minimum value in the dictionary\n",
    "best_RSS = min(RSS_list, key=RSS_list.get)\n",
    "\n",
    "print('\\nBest RSS on Test data is with', best_RSS)"
   ]
  },
  {
   "cell_type": "markdown",
   "metadata": {},
   "source": [
    "Predict the house price for the 1st house in the test set using the no regularization and high regularization models. (Remember that python starts indexing from 0.) How far is the prediction from the actual price?  Which weights perform best for the 1st house?"
   ]
  },
  {
   "cell_type": "code",
   "execution_count": 22,
   "metadata": {},
   "outputs": [
    {
     "name": "stdout",
     "output_type": "stream",
     "text": [
      "1st House Price Prediction with No Regularization   :  514644.07502822403 \tError in Prediction :  191644.07502822403\n",
      "1st House Price Prediction with High Regularization :  281143.8718177221 \tError in Prediction :  191644.07502822403\n",
      "\n",
      "Coefficient for sqft_living with no regularization (1 decimal place)   :  -0.2\n",
      "Coefficient for sqft_living with high regularization (1 decimal place) :  5.3\n",
      "\n",
      "Weights with No Regularization are better for making predictions for 1st house in TEST set\n"
     ]
    }
   ],
   "source": [
    "error_no_regularization = test_output[0] - no_regularization_predictions[0]\n",
    "error_high_regularization = test_output[0] - no_regularization_predictions[0]\n",
    "\n",
    "print('1st House Price Prediction with No Regularization   : ', no_regularization_predictions[0], \n",
    "      '\\tError in Prediction : ', abs(error_no_regularization))\n",
    "\n",
    "print('1st House Price Prediction with High Regularization : ', high_regularization_predictions[0], \n",
    "      '\\tError in Prediction : ', abs(error_high_regularization))\n",
    "\n",
    "# This code below is used to answers the following quiz questions\n",
    "\n",
    "multi_coef_sqft_living_no_reg = round(multiple_weights_0_penalty[0],1)\n",
    "multi_coef_sqft_living_high_reg = round(multiple_weights_high_penalty[0],1)\n",
    "\n",
    "print('\\nCoefficient for sqft_living with no regularization (1 decimal place)   : ', multi_coef_sqft_living_no_reg )\n",
    "print('Coefficient for sqft_living with high regularization (1 decimal place) : ', multi_coef_sqft_living_high_reg)\n",
    "\n",
    "predictions_list = {'No Regularization ': no_regularization_predictions[0], \n",
    "                    'High Regularization': high_regularization_predictions[0]} \n",
    "\n",
    "# Get the key for the minimum value in the dictionary\n",
    "better_weights = min(RSS_list, key=RSS_list.get)\n",
    "\n",
    "print('\\nWeights with', better_weights, 'are better for making predictions for 1st house in TEST set')"
   ]
  },
  {
   "cell_type": "markdown",
   "metadata": {
    "variables": {
     "better_weights": "No Regularization",
     "multi_coef_sqft_living_high_reg": "5.3",
     "multi_coef_sqft_living_no_reg": "-0.2"
    }
   },
   "source": [
    "<font color = 'steelblue'><b> Quiz 1 : What is the value of the coefficient for `sqft_living` that you learned with no regularization, rounded to 1 decimal place?  What about the one with high regularization? </b></font>\n",
    "\n",
    "<font color = 'mediumvioletred'><b> Answer 1 : The value of the coefficient for `sqft_living` learned with no regularization is {{multi_coef_sqft_living_no_reg}} and the value with high regularization is {{multi_coef_sqft_living_high_reg}} </b></font>\n",
    "\n",
    "<br/>\n",
    "\n",
    "<font color = 'steelblue'><b> Quiz 2 : What are the RSS on the test data for each of the set of weights above (initial, no regularization, high regularization)? </b></font>\n",
    "\n",
    "<font color = 'mediumvioletred'><b> Answer 3 : The RSS on the TEST data for all set of weights are : </b></font>\n",
    "<font color = 'slategray'><b>\n",
    "- Initial = 9217325138472070.0\n",
    "- No Regularization = 1483974220968768.2\n",
    "- High Regularization = 3209008811772875.5.0</b></font>\n",
    "    \n",
    "<br/>\n",
    "\n",
    "<font color = 'steelblue'><b> Quiz 3 : We make prediction for the first house in the test set using two sets of weights (no regularization vs high regularization). Which weights make better prediction <u>for that particular house</u> </b></font>\n",
    "\n",
    "<font color = 'mediumvioletred'><b> Answer 3 : Weights with {{better_weights}} are better for making predictions for <u>1st house in TEST set</u> </b></font>"
   ]
  }
 ],
 "metadata": {
  "kernelspec": {
   "display_name": "Python 3",
   "language": "python",
   "name": "python3"
  },
  "language_info": {
   "codemirror_mode": {
    "name": "ipython",
    "version": 3
   },
   "file_extension": ".py",
   "mimetype": "text/x-python",
   "name": "python",
   "nbconvert_exporter": "python",
   "pygments_lexer": "ipython3",
   "version": "3.6.5"
  }
 },
 "nbformat": 4,
 "nbformat_minor": 4
}
