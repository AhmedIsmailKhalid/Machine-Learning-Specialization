{
 "cells": [
  {
   "cell_type": "markdown",
   "metadata": {
    "hideCode": false,
    "hidePrompt": false
   },
   "source": [
    "# Predicting House Prices using K-Nearest Neighbors Regression\n",
    "In this notebook, you will implement k-nearest neighbors regression. You will:\n",
    "  * Find the k-nearest neighbors of a given query input\n",
    "  * Predict the output for the query input using the k-nearest neighbors\n",
    "  * Choose the best value of k using a validation set"
   ]
  },
  {
   "cell_type": "markdown",
   "metadata": {
    "hideCode": false,
    "hidePrompt": false
   },
   "source": [
    "# Import Neccessary Libraries"
   ]
  },
  {
   "cell_type": "code",
   "execution_count": 1,
   "metadata": {
    "hideCode": false,
    "hidePrompt": false
   },
   "outputs": [],
   "source": [
    "import pandas as pd\n",
    "import numpy as np\n",
    "import matplotlib.pyplot as plt\n",
    "import math\n",
    "from math import log, sqrt\n",
    "from decimal import *\n",
    "from collections import defaultdict\n",
    "from sklearn.linear_model import LinearRegression, Ridge, Lasso\n",
    "%matplotlib inline"
   ]
  },
  {
   "cell_type": "markdown",
   "metadata": {
    "hideCode": false,
    "hidePrompt": false
   },
   "source": [
    "# Load in house sales data\n",
    "For this notebook, we use a subset of the King County housing dataset created by randomly selecting 40% of the houses in the full dataset."
   ]
  },
  {
   "cell_type": "code",
   "execution_count": 2,
   "metadata": {
    "hideCode": false,
    "hidePrompt": false
   },
   "outputs": [],
   "source": [
    "dtype_dict = {'bathrooms':float, 'waterfront':int, 'sqft_above':int, 'sqft_living15':float, 'grade':int, 'yr_renovated':int, 'price':float, 'bedrooms':float, 'zipcode':str, 'long':float, 'sqft_lot15':float, 'sqft_living':float, 'floors':float, 'condition':int, 'lat':float, 'date':str, 'sqft_basement':int, 'yr_built':int, 'id':str, 'sqft_lot':int, 'view':int}\n",
    "\n",
    "sales = pd.read_csv('kc_house_data_small.csv', dtype=dtype_dict)"
   ]
  },
  {
   "cell_type": "markdown",
   "metadata": {
    "hideCode": false,
    "hidePrompt": false
   },
   "source": [
    "# Import useful functions from previous notebook"
   ]
  },
  {
   "cell_type": "markdown",
   "metadata": {
    "hideCode": false,
    "hidePrompt": false
   },
   "source": [
    "To efficiently compute pairwise distances among data points, we will convert the SFrame into a 2D Numpy array. First import the numpy library and then copy and paste `get_numpy_data()` from the second notebook of Week 2."
   ]
  },
  {
   "cell_type": "code",
   "execution_count": 3,
   "metadata": {
    "hideCode": false,
    "hidePrompt": false
   },
   "outputs": [],
   "source": [
    "def get_numpy_data(data_frame, X, Y):\n",
    "     \n",
    "    data_frame['constant'] = 1 # this is how you add a constant column to an SFrame\n",
    "    \n",
    "    # select the columns of data_SFrame given by the features list into the SFrame features_sframe (now including constant):\n",
    "    data = {'constant': data_frame['constant']} \n",
    "    features_frame = pd.DataFrame(data) # create a DataFrame with only the 'constant' as column \n",
    "    features_sframe = pd.concat([features_frame, X], axis = 1) # create a new DataFrame with the 'constant' and X as columns\n",
    "    \n",
    "    # the following line will convert the features_SFrame into a numpy matrix:\n",
    "    feature_matrix = np.array(features_sframe)\n",
    "    \n",
    "    # assign the column of data_sframe associated with the output to the SArray output_sarray\n",
    "    output_sarray = Y\n",
    "\n",
    "    # the following will convert the SArray into a numpy array by first converting it to a list\n",
    "    output_array = np.array(output_sarray)\n",
    "    \n",
    "    return feature_matrix, output_array"
   ]
  },
  {
   "cell_type": "markdown",
   "metadata": {
    "hideCode": false,
    "hidePrompt": false
   },
   "source": [
    "We will also need the `normalize_features()` function from Week 5 that normalizes all feature columns to unit norm. Paste this function below."
   ]
  },
  {
   "cell_type": "code",
   "execution_count": 4,
   "metadata": {
    "hideCode": false,
    "hidePrompt": false
   },
   "outputs": [],
   "source": [
    "def normalize_features(feature_matrix) :\n",
    "    norms = np.linalg.norm(feature_matrix, axis=0)\n",
    "    normalized_features = feature_matrix / norms\n",
    "    \n",
    "    return normalized_features, norms"
   ]
  },
  {
   "cell_type": "markdown",
   "metadata": {
    "hideCode": false,
    "hidePrompt": false
   },
   "source": [
    "# Split data into training, test, and validation sets\n",
    "For this notebook, we will load the data from the respective csv files provided"
   ]
  },
  {
   "cell_type": "code",
   "execution_count": 5,
   "metadata": {
    "hideCode": false,
    "hidePrompt": false
   },
   "outputs": [],
   "source": [
    "train = pd.read_csv('kc_house_data_small_train.csv', dtype=dtype_dict)\n",
    "test = pd.read_csv('kc_house_data_small_test.csv', dtype=dtype_dict)\n",
    "validation = pd.read_csv('kc_house_data_validation.csv', dtype=dtype_dict)"
   ]
  },
  {
   "cell_type": "markdown",
   "metadata": {
    "hideCode": false,
    "hidePrompt": false
   },
   "source": [
    "# Extract features and normalize"
   ]
  },
  {
   "cell_type": "markdown",
   "metadata": {
    "hideCode": false,
    "hidePrompt": false
   },
   "source": [
    "Using all of the numerical inputs listed in `feature_list`, transform the training, test, and validation SFrames into Numpy arrays:"
   ]
  },
  {
   "cell_type": "code",
   "execution_count": 6,
   "metadata": {
    "hideCode": false,
    "hidePrompt": false
   },
   "outputs": [],
   "source": [
    "feature_list = ['bedrooms',  \n",
    "                'bathrooms',  \n",
    "                'sqft_living',  \n",
    "                'sqft_lot',  \n",
    "                'floors',\n",
    "                'waterfront',  \n",
    "                'view',  \n",
    "                'condition',  \n",
    "                'grade',  \n",
    "                'sqft_above',  \n",
    "                'sqft_basement',\n",
    "                'yr_built',  \n",
    "                'yr_renovated',  \n",
    "                'lat',  \n",
    "                'long',  \n",
    "                'sqft_living15',  \n",
    "                'sqft_lot15']\n",
    "\n",
    "features_train, output_train = get_numpy_data(train, train[feature_list], train['price'])\n",
    "features_test, output_test = get_numpy_data(test, test[feature_list], test['price'])\n",
    "features_valid, output_valid = get_numpy_data(validation, validation[feature_list], validation['price'])"
   ]
  },
  {
   "cell_type": "markdown",
   "metadata": {
    "hideCode": false,
    "hidePrompt": false
   },
   "source": [
    "In computing distances, it is crucial to normalize features. Otherwise, for example, the `sqft_living` feature (typically on the order of thousands) would exert a much larger influence on distance than the `bedrooms` feature (typically on the order of ones). We divide each column of the training feature matrix by its 2-norm, so that the transformed column has unit norm.\n",
    "\n",
    "IMPORTANT: Make sure to store the norms of the features in the training set. The features in the test and validation sets must be divided by these same norms, so that the training, test, and validation sets are normalized consistently."
   ]
  },
  {
   "cell_type": "code",
   "execution_count": 7,
   "metadata": {
    "hideCode": false,
    "hidePrompt": false
   },
   "outputs": [],
   "source": [
    "features_train, norms = normalize_features(features_train) # normalize training set features (columns)\n",
    "features_test = features_test / norms # normalize test set by training set norms\n",
    "features_valid = features_valid / norms # normalize validation set by training set norms"
   ]
  },
  {
   "cell_type": "markdown",
   "metadata": {
    "hideCode": false,
    "hidePrompt": false
   },
   "source": [
    "# Compute a single distance"
   ]
  },
  {
   "cell_type": "markdown",
   "metadata": {
    "hideCode": false,
    "hidePrompt": false
   },
   "source": [
    "To start, let's just explore computing the \"distance\" between two given houses.  We will take our **query house** to be the first house of the test set and look at the distance between this house and the 10th house of the training set.\n",
    "\n",
    "To see the features associated with the query house, print the first row (index 0) of the test feature matrix. You should get an 18-dimensional vector whose components are between 0 and 1."
   ]
  },
  {
   "cell_type": "code",
   "execution_count": 8,
   "metadata": {
    "hideCode": false,
    "hidePrompt": false
   },
   "outputs": [
    {
     "data": {
      "text/plain": [
       "array([ 0.01345102,  0.01551285,  0.01807473,  0.01759212,  0.00160518,\n",
       "        0.017059  ,  0.        ,  0.05102365,  0.0116321 ,  0.01564352,\n",
       "        0.01362084,  0.02481682,  0.01350306,  0.        ,  0.01345387,\n",
       "       -0.01346922,  0.01375926,  0.0016225 ])"
      ]
     },
     "execution_count": 8,
     "metadata": {},
     "output_type": "execute_result"
    }
   ],
   "source": [
    "features_test[0]"
   ]
  },
  {
   "cell_type": "markdown",
   "metadata": {
    "hideCode": false,
    "hidePrompt": false
   },
   "source": [
    "Now print the 10th row (index 9) of the training feature matrix. Again, you get an 18-dimensional vector with components between 0 and 1."
   ]
  },
  {
   "cell_type": "code",
   "execution_count": 9,
   "metadata": {
    "hideCode": false,
    "hidePrompt": false
   },
   "outputs": [
    {
     "data": {
      "text/plain": [
       "array([ 0.01345102,  0.01163464,  0.00602491,  0.0083488 ,  0.00050756,\n",
       "        0.01279425,  0.        ,  0.        ,  0.01938684,  0.01390535,\n",
       "        0.0096309 ,  0.        ,  0.01302544,  0.        ,  0.01346821,\n",
       "       -0.01346251,  0.01195898,  0.00156612])"
      ]
     },
     "execution_count": 9,
     "metadata": {},
     "output_type": "execute_result"
    }
   ],
   "source": [
    "features_train[9]"
   ]
  },
  {
   "cell_type": "code",
   "execution_count": 10,
   "metadata": {
    "hideCode": false,
    "hidePrompt": false
   },
   "outputs": [
    {
     "name": "stdout",
     "output_type": "stream",
     "text": [
      "Euclidean Distance between query house and 10th house in training set is :  0.05972359371398078\n"
     ]
    }
   ],
   "source": [
    "# The code below is to anwser the following quiz question\n",
    "\n",
    "euclidean_dist = np.sqrt(np.sum(np.square(features_train[9] - features_test[0])))\n",
    "print('Euclidean Distance between query house and 10th house in training set is : ', euclidean_dist)"
   ]
  },
  {
   "cell_type": "markdown",
   "metadata": {
    "hideCode": false,
    "hidePrompt": false,
    "variables": {
     "euclidean_dist": "0.05972359371398078"
    }
   },
   "source": [
    "<font color = 'steelblue'><b> Quiz :  What is the Euclidean distance between the query house and the 10th house of the training set?\n",
    "Note: Do not use the `np.linalg.norm` function; use `np.sqrt`, `np.sum`, and the power operator `(``)` instead. The latter approach is more easily adapted to computing multiple distances at once </b></font>\n",
    "\n",
    "<font color = 'mediumvioletred'><b> Answer : The Euclidean distance between the query house and the 10th house of training set is {{euclidean_dist}}  </b></font>"
   ]
  },
  {
   "cell_type": "markdown",
   "metadata": {
    "hideCode": false,
    "hidePrompt": false
   },
   "source": [
    "# Compute multiple distances"
   ]
  },
  {
   "cell_type": "markdown",
   "metadata": {
    "hideCode": false,
    "hidePrompt": false
   },
   "source": [
    "Of course, to do nearest neighbor regression, we need to compute the distance between our query house and *all* houses in the training set.  \n",
    "\n",
    "To visualize this nearest-neighbor search, let's first compute the distance from our query house (`features_test[0]`) to the first 10 houses of the training set (`features_train[0:10]`) and then search for the nearest neighbor within this small set of houses.  Through restricting ourselves to a small set of houses to begin with, we can visually scan the list of 10 distances to verify that our code for finding the nearest neighbor is working.\n",
    "\n",
    "Write a loop to compute the Euclidean distance from the query house to each of the first 10 houses in the training set."
   ]
  },
  {
   "cell_type": "code",
   "execution_count": 11,
   "metadata": {
    "hideCode": false,
    "hidePrompt": false
   },
   "outputs": [
    {
     "name": "stdout",
     "output_type": "stream",
     "text": [
      "List of euclidean distances of query house with first 10 houses in the training data :\n",
      "\n",
      "0.06027470916295592\n",
      "0.08546881147643746\n",
      "0.06149946435279315\n",
      "0.05340273979294363\n",
      "0.05844484060170442\n",
      "0.059879215098128345\n",
      "0.05463140496775461\n",
      "0.055431083236146074\n",
      "0.052383627840220305\n",
      "0.05972359371398078\n",
      "\n",
      " House 1 is the closest to query house with an euclidean distance of 0.052383627840220305\n"
     ]
    }
   ],
   "source": [
    "euclidean_distances = []\n",
    "house_numbers = []\n",
    "\n",
    "for i in range(10):\n",
    "    euclidean_dist = np.sqrt(np.sum(np.square(features_train[i] - features_test[0])))\n",
    "    euclidean_distances.append(euclidean_dist)\n",
    "    house_number = 'House ' + str(i+1)\n",
    "    house_numbers.append(house_number)\n",
    "\n",
    "# The code below is to answer the following quiz question\n",
    "\n",
    "euclidean_distances_dict = dict(zip(house_numbers, euclidean_distances))\n",
    "closest_house_number = min(euclidean_distances_dict)\n",
    "closet_house_dist = min(euclidean_distances_dict.values())\n",
    "\n",
    "print('List of euclidean distances of query house with first 10 houses in the training data :\\n',\n",
    "      *euclidean_distances,sep='\\n')\n",
    "\n",
    "print('\\n', closest_house_number, 'is the closest to query house with an euclidean distance of', closet_house_dist)"
   ]
  },
  {
   "cell_type": "markdown",
   "metadata": {
    "hideCode": false,
    "hidePrompt": false,
    "variables": {
     "closest_house_number": "House 1",
     "closet_house_dist": "0.052383627840220305"
    }
   },
   "source": [
    "<font color = 'steelblue'><b> Quiz :  Among the first 10 training houses, which house is the closest to the query house? </b></font>\n",
    "\n",
    "<font color = 'mediumvioletred'><b> Answer : The {{closest_house_number}} is the closest to query house with an euclidean distance of {{closet_house_dist}} </b></font>"
   ]
  },
  {
   "cell_type": "markdown",
   "metadata": {
    "hideCode": false,
    "hidePrompt": false
   },
   "source": [
    "It is computationally inefficient to loop over computing distances to all houses in our training dataset. Fortunately, many of the Numpy functions can be **vectorized**, applying the same operation over multiple values or vectors.  We now walk through this process."
   ]
  },
  {
   "cell_type": "markdown",
   "metadata": {
    "hideCode": false,
    "hidePrompt": false
   },
   "source": [
    "Consider the following loop that computes the element-wise difference between the features of the query house (`features_test[0]`) and the first 3 training houses (`features_train[0:3]`):"
   ]
  },
  {
   "cell_type": "code",
   "execution_count": 12,
   "metadata": {
    "hideCode": false,
    "hidePrompt": false
   },
   "outputs": [
    {
     "name": "stdout",
     "output_type": "stream",
     "text": [
      "[ 0.00000000e+00 -3.87821276e-03 -1.20498190e-02 -1.05552733e-02\n",
      "  2.08673616e-04 -8.52950206e-03  0.00000000e+00 -5.10236549e-02\n",
      "  0.00000000e+00 -3.47633726e-03 -5.50336860e-03 -2.48168183e-02\n",
      " -1.63756198e-04  0.00000000e+00 -1.70254220e-05  1.29876855e-05\n",
      " -5.14364795e-03  6.69281453e-04]\n",
      "[ 0.00000000e+00 -3.87821276e-03 -4.51868214e-03 -2.26610387e-03\n",
      "  7.19763456e-04  0.00000000e+00  0.00000000e+00 -5.10236549e-02\n",
      "  0.00000000e+00 -3.47633726e-03  1.30705004e-03 -1.45830788e-02\n",
      " -1.91048898e-04  6.65082271e-02  4.23090220e-05  6.16364736e-06\n",
      " -2.89330197e-03  1.47606982e-03]\n",
      "[ 0.00000000e+00 -7.75642553e-03 -1.20498190e-02 -1.30002801e-02\n",
      "  1.60518166e-03 -8.52950206e-03  0.00000000e+00 -5.10236549e-02\n",
      "  0.00000000e+00 -5.21450589e-03 -8.32384500e-03 -2.48168183e-02\n",
      " -3.13866046e-04  0.00000000e+00  4.70885840e-05  1.56292487e-05\n",
      "  3.72914476e-03  1.64764925e-03]\n"
     ]
    }
   ],
   "source": [
    "for i in range(3):\n",
    "    print(features_train[i]-features_test[0])\n",
    "    # should print 3 vectors of length 18"
   ]
  },
  {
   "cell_type": "markdown",
   "metadata": {
    "hideCode": false,
    "hidePrompt": false
   },
   "source": [
    "The subtraction operator (`-`) in Numpy is vectorized as follows:"
   ]
  },
  {
   "cell_type": "code",
   "execution_count": 13,
   "metadata": {
    "hideCode": false,
    "hidePrompt": false
   },
   "outputs": [
    {
     "data": {
      "text/plain": [
       "array([[ 0.00000000e+00, -3.87821276e-03, -1.20498190e-02,\n",
       "        -1.05552733e-02,  2.08673616e-04, -8.52950206e-03,\n",
       "         0.00000000e+00, -5.10236549e-02,  0.00000000e+00,\n",
       "        -3.47633726e-03, -5.50336860e-03, -2.48168183e-02,\n",
       "        -1.63756198e-04,  0.00000000e+00, -1.70254220e-05,\n",
       "         1.29876855e-05, -5.14364795e-03,  6.69281453e-04],\n",
       "       [ 0.00000000e+00, -3.87821276e-03, -4.51868214e-03,\n",
       "        -2.26610387e-03,  7.19763456e-04,  0.00000000e+00,\n",
       "         0.00000000e+00, -5.10236549e-02,  0.00000000e+00,\n",
       "        -3.47633726e-03,  1.30705004e-03, -1.45830788e-02,\n",
       "        -1.91048898e-04,  6.65082271e-02,  4.23090220e-05,\n",
       "         6.16364736e-06, -2.89330197e-03,  1.47606982e-03],\n",
       "       [ 0.00000000e+00, -7.75642553e-03, -1.20498190e-02,\n",
       "        -1.30002801e-02,  1.60518166e-03, -8.52950206e-03,\n",
       "         0.00000000e+00, -5.10236549e-02,  0.00000000e+00,\n",
       "        -5.21450589e-03, -8.32384500e-03, -2.48168183e-02,\n",
       "        -3.13866046e-04,  0.00000000e+00,  4.70885840e-05,\n",
       "         1.56292487e-05,  3.72914476e-03,  1.64764925e-03]])"
      ]
     },
     "execution_count": 13,
     "metadata": {},
     "output_type": "execute_result"
    }
   ],
   "source": [
    "features_train[0:3] - features_test[0]"
   ]
  },
  {
   "cell_type": "markdown",
   "metadata": {
    "hideCode": false,
    "hidePrompt": false
   },
   "source": [
    "Note that the output of this vectorized operation is identical to that of the loop above, which can be verified below:"
   ]
  },
  {
   "cell_type": "code",
   "execution_count": 14,
   "metadata": {
    "hideCode": false,
    "hidePrompt": false
   },
   "outputs": [
    {
     "name": "stdout",
     "output_type": "stream",
     "text": [
      "[0. 0. 0. 0. 0. 0. 0. 0. 0. 0. 0. 0. 0. 0. 0. 0. 0. 0.]\n",
      "[0. 0. 0. 0. 0. 0. 0. 0. 0. 0. 0. 0. 0. 0. 0. 0. 0. 0.]\n",
      "[0. 0. 0. 0. 0. 0. 0. 0. 0. 0. 0. 0. 0. 0. 0. 0. 0. 0.]\n"
     ]
    }
   ],
   "source": [
    "# verify that vectorization works\n",
    "results = features_train[0:3] - features_test[0]\n",
    "print(results[0] - (features_train[0]-features_test[0]))\n",
    "# should print all 0's if results[0] == (features_train[0]-features_test[0])\n",
    "print(results[1] - (features_train[1]-features_test[0]))\n",
    "# should print all 0's if results[1] == (features_train[1]-features_test[0])\n",
    "print(results[2] - (features_train[2]-features_test[0]))\n",
    "# should print all 0's if results[2] == (features_train[2]-features_test[0])"
   ]
  },
  {
   "cell_type": "markdown",
   "metadata": {
    "hideCode": false,
    "hidePrompt": false
   },
   "source": [
    "Aside: it is a good idea to write tests like this cell whenever you are vectorizing a complicated operation."
   ]
  },
  {
   "cell_type": "markdown",
   "metadata": {
    "hideCode": false,
    "hidePrompt": false
   },
   "source": [
    "# Perform 1-nearest neighbor regression\n",
    "\n",
    "Now that we have the element-wise differences, it is not too hard to compute the Euclidean distances between our query house and all of the training houses. First, write a single-line expression to define a variable `diff` such that `diff[i]` gives the element-wise difference between the features of the query house and the `i`-th training house."
   ]
  },
  {
   "cell_type": "code",
   "execution_count": 15,
   "metadata": {
    "hideCode": false,
    "hidePrompt": false
   },
   "outputs": [],
   "source": [
    "diff = features_train - features_test[0] # where feature_test[0] is the query house"
   ]
  },
  {
   "cell_type": "markdown",
   "metadata": {
    "hideCode": false,
    "hidePrompt": false
   },
   "source": [
    "To test the code above, run the following cell, which should output a value -0.0934339605842:"
   ]
  },
  {
   "cell_type": "code",
   "execution_count": 16,
   "metadata": {
    "hideCode": false,
    "hidePrompt": false
   },
   "outputs": [
    {
     "data": {
      "text/plain": [
       "-0.09343399874654643"
      ]
     },
     "execution_count": 16,
     "metadata": {},
     "output_type": "execute_result"
    }
   ],
   "source": [
    "diff[-1].sum() # sum of the feature differences between the query and last training house\n",
    "# should print -0.0934339605842"
   ]
  },
  {
   "cell_type": "markdown",
   "metadata": {
    "hideCode": false,
    "hidePrompt": false
   },
   "source": [
    "The next step in computing the Euclidean distances is to take these feature-by-feature differences in `diff`, square each, and take the sum over feature indices.  That is, compute the sum of square feature differences for each training house (row in `diff`).\n",
    "\n",
    "By default, `np.sum` sums up everything in the matrix and returns a single number. To instead sum only over a row or column, we need to specifiy the `axis` parameter described in the `np.sum` [documentation](http://docs.scipy.org/doc/numpy-1.10.1/reference/generated/numpy.sum.html). In particular, `axis=1` computes the sum across each row.\n",
    "\n",
    "Below, we compute this sum of square feature differences for all training houses and verify that the output for the 16th house in the training set is equivalent to having examined only the 16th row of `diff` and computing the sum of squares on that row alone."
   ]
  },
  {
   "cell_type": "code",
   "execution_count": 17,
   "metadata": {
    "hideCode": false,
    "hidePrompt": false
   },
   "outputs": [
    {
     "name": "stdout",
     "output_type": "stream",
     "text": [
      "0.0033070590284564457\n",
      "0.0033070590284564453\n"
     ]
    }
   ],
   "source": [
    "print(np.sum(diff**2, axis=1)[15]) # take sum of squares across each row, and print the 16th sum\n",
    "print(np.sum(diff[15]**2)) # print the sum of squares for the 16th row -- should be same as above"
   ]
  },
  {
   "cell_type": "markdown",
   "metadata": {
    "hideCode": false,
    "hidePrompt": false
   },
   "source": [
    "With this result in mind, write a single-line expression to compute the Euclidean distances between the query house and all houses in the training set. Assign the result to a variable `distances`.\n",
    "\n",
    "**Hint**: Do not forget to take the square root of the sum of squares."
   ]
  },
  {
   "cell_type": "code",
   "execution_count": 18,
   "metadata": {
    "hideCode": false,
    "hidePrompt": false
   },
   "outputs": [
    {
     "data": {
      "text/plain": [
       "array([0.06027471, 0.08546881, 0.06149946, ..., 0.05716729, 0.05705739,\n",
       "       0.05846758])"
      ]
     },
     "execution_count": 18,
     "metadata": {},
     "output_type": "execute_result"
    }
   ],
   "source": [
    "distances = np.sqrt(np.sum(np.square(diff), axis=1))\n",
    "distances"
   ]
  },
  {
   "cell_type": "markdown",
   "metadata": {
    "hideCode": false,
    "hidePrompt": false
   },
   "source": [
    "To test the code above, run the following cell, which should output a value 0.0237082324496:"
   ]
  },
  {
   "cell_type": "code",
   "execution_count": 19,
   "metadata": {
    "hideCode": false,
    "hidePrompt": false
   },
   "outputs": [
    {
     "data": {
      "text/plain": [
       "0.023708232416678195"
      ]
     },
     "execution_count": 19,
     "metadata": {},
     "output_type": "execute_result"
    }
   ],
   "source": [
    "distances[100] # Euclidean distance between the query house and the 101th training house\n",
    "# should print 0.0237082324496"
   ]
  },
  {
   "cell_type": "markdown",
   "metadata": {
    "hideCode": false,
    "hidePrompt": false
   },
   "source": [
    "Now you are ready to write a function that computes the distances from a query house to all training houses. The function should take two parameters: (i) the matrix of training features and (ii) the single feature vector associated with the query."
   ]
  },
  {
   "cell_type": "code",
   "execution_count": 20,
   "metadata": {
    "hideCode": false,
    "hidePrompt": false
   },
   "outputs": [
    {
     "name": "stdout",
     "output_type": "stream",
     "text": [
      "The house with index 382 in the training set is closest to the query house\n",
      "The predicted value for query house based on 1-nearest neighbors regression is 249000.0\n"
     ]
    }
   ],
   "source": [
    "def compute_distances(features_train, query) :\n",
    "    \n",
    "    diff = features_train - query\n",
    "    euclidean_distance = np.sqrt(np.sum(np.square(diff), axis=1))\n",
    "    \n",
    "    return euclidean_distance\n",
    "    \n",
    "# The code below is to answer the followin quiz questions\n",
    "closest_index = np.argmin(compute_distances(features_train,features_test[2]))\n",
    "print('The house with index', closest_index, 'in the training set is closest to the query house')\n",
    "\n",
    "closest_price = output_train[closest_index]\n",
    "print('The predicted value for query house based on 1-nearest neighbors regression is', closest_price)"
   ]
  },
  {
   "cell_type": "markdown",
   "metadata": {
    "hideCode": false,
    "hidePrompt": false,
    "variables": {
     "closest_index": "382",
     "closest_price": "249000.0"
    }
   },
   "source": [
    "<font color = 'steelblue'><b> Quiz 1 :  Take the query house to be third house of the test set (`features_test[2]`).  What is the index of the house in the training set that is closest to this query house? </b></font>\n",
    "\n",
    "<font color = 'mediumvioletred'><b> Answer 1 : The house with index {{closest_index}} in the training set is closest to the query house </b></font>\n",
    "\n",
    "<br/>\n",
    "\n",
    "<font color = 'steelblue'><b> Quiz 2 :  What is the predicted value of the query house based on 1-nearest neighbor regression? </b></font>\n",
    "\n",
    "<font color = 'mediumvioletred'><b> Answer 2 : The predicted value for query house based on 1-nearest neighbors regression is {{closest_price}} </b></font>"
   ]
  },
  {
   "cell_type": "markdown",
   "metadata": {
    "hideCode": false,
    "hideOutput": true,
    "hidePrompt": false
   },
   "source": [
    "# Perform k-nearest neighbor regression"
   ]
  },
  {
   "cell_type": "markdown",
   "metadata": {},
   "source": [
    "For k-nearest neighbors, we need to find a *set* of k houses in the training set closest to a given query house. We then make predictions based on these k nearest neighbors."
   ]
  },
  {
   "cell_type": "markdown",
   "metadata": {},
   "source": [
    "## Fetch k-nearest neighbors\n",
    "\n",
    "Using the functions above, implement a function that takes in\n",
    " * the value of k;\n",
    " * the feature matrix for the training houses; and\n",
    " * the feature vector of the query house\n",
    " \n",
    "and returns the indices of the k closest training houses. For instance, with 2-nearest neighbor, a return value of [5, 10] would indicate that the 6th and 11th training houses are closest to the query house.\n",
    "\n",
    "**Hint**: Look at the [documentation for `np.argsort`](http://docs.scipy.org/doc/numpy/reference/generated/numpy.argsort.html)."
   ]
  },
  {
   "cell_type": "code",
   "execution_count": 21,
   "metadata": {},
   "outputs": [
    {
     "name": "stdout",
     "output_type": "stream",
     "text": [
      "The indices of the 4 training houses closest to the query house are : [ 382 1149 4087 3142]\n",
      "The house with index 382 in the training set is closest to the query house\n",
      "The predicted value for query house based on 1-nearest neighbors regression is 249000.0\n"
     ]
    }
   ],
   "source": [
    "def k_nearest_neighbors(k,feature_matrix, query) :\n",
    "    \n",
    "    distance = compute_distances(features_train,query)\n",
    "    \n",
    "    return np.argsort(distance)[:k]\n",
    "\n",
    "# The code below is used to answer the following quiz question\n",
    "\n",
    "query_house_3 = k_nearest_neighbors(4,features_train,features_test[2])\n",
    "print('The indices of the 4 training houses closest to the query house are :', query_house_3)\n",
    "\n",
    "closest_index = np.argmin(compute_distances(features_train,features_test[2]))\n",
    "print('The house with index', closest_index, 'in the training set is closest to the query house')\n",
    "\n",
    "closest_price = output_train[closest_index]\n",
    "print('The predicted value for query house based on 1-nearest neighbors regression is', closest_price)"
   ]
  },
  {
   "cell_type": "markdown",
   "metadata": {
    "variables": {
     "list(query_house_3)": "[382, 1149, 4087, 3142]"
    }
   },
   "source": [
    "<font color = 'steelblue'><b> Quiz : Take the query house to be third house of the test set (`features_test[2]`).  What are the indices of the 4 training houses closest to the query house? </b></font>\n",
    "\n",
    "<font color = 'mediumvioletred'><b> Answer : The indices of the 4 training houses closest to the query house are : {{list(query_house_3)}} </b></font>"
   ]
  },
  {
   "cell_type": "markdown",
   "metadata": {},
   "source": [
    "## Make a single prediction by averaging k nearest neighbor outputs"
   ]
  },
  {
   "cell_type": "markdown",
   "metadata": {},
   "source": [
    "Now that we know how to find the k-nearest neighbors, write a function that predicts the value of a given query house. **For simplicity, take the average of the prices of the k nearest neighbors in the training set**. The function should have the following parameters:\n",
    " * the value of k;\n",
    " * the feature matrix for the training houses;\n",
    " * the output values (prices) of the training houses; and\n",
    " * the feature vector of the query house, whose price we are predicting.\n",
    " \n",
    "The function should return a predicted value of the query house.\n",
    "\n",
    "**Hint**: You can extract multiple items from a Numpy array using a list of indices. For instance, `output_train[[6, 10]]` returns the prices of the 7th and 11th training houses."
   ]
  },
  {
   "cell_type": "code",
   "execution_count": 22,
   "metadata": {},
   "outputs": [
    {
     "name": "stdout",
     "output_type": "stream",
     "text": [
      "The indices of the 4 houses in the test set closest to the query house are : [ 382 1149 4087 3142]\n",
      "\n",
      "The house with index 382 in the training set is closest to the query house\n",
      "The predicted value for query house with index 382 is 249000.0\n"
     ]
    }
   ],
   "source": [
    "def knn_predict_avg(k, feature_matrix, output, query):\n",
    "    \n",
    "    k_neighbors = k_nearest_neighbors(k, feature_matrix, query)\n",
    "    avg_output = np.mean(output[k_neighbors])\n",
    "    \n",
    "    return avg_output\n",
    "\n",
    "\n",
    "# The code below is used to answer the following quiz question\n",
    "\n",
    "query_house_3_avg = k_nearest_neighbors(4,features_train,features_test[2])\n",
    "print('The indices of the 4 houses in the test set closest to the query house are :', query_house_3_avg)\n",
    "\n",
    "closest_index = np.min(query_house_3_avg)\n",
    "print('\\nThe house with index', closest_index, 'in the training set is closest to the query house')\n",
    "\n",
    "closest_price = output_train[closest_index]\n",
    "print('The predicted value for query house with index', closest_index, 'is', closest_price)"
   ]
  },
  {
   "cell_type": "markdown",
   "metadata": {
    "variables": {
     "closest_price": "249000.0"
    }
   },
   "source": [
    "<font color = 'steelblue'><b> Quiz :  Again taking the query house to be third house of the test set (`features_test[2]`), predict the value of the query house using k-nearest neighbors with `k=4` and the simple averaging method described and implemented above. \n",
    "Compare this predicted value using 4-nearest neighbors to the predicted value using 1-nearest neighbor computed earlier. </b></font>\n",
    "\n",
    "<font color = 'mediumvioletred'><b> Answer : predicted value of the query house using k-nearest neighbors with `k=4` and the simple averaging method both have the same predicted value of {{closest_price}} </b></font>"
   ]
  },
  {
   "cell_type": "markdown",
   "metadata": {},
   "source": [
    "## Make multiple predictions"
   ]
  },
  {
   "cell_type": "markdown",
   "metadata": {},
   "source": [
    "Write a function to predict the value of *each and every* house in a query set. (The query set can be any subset of the dataset, be it the test set or validation set.) The idea is to have a loop where we take each house in the query set as the query house and make a prediction for that specific house. The new function should take the following parameters:\n",
    " * the value of k;\n",
    " * the feature matrix for the training houses;\n",
    " * the output values (prices) of the training houses; and\n",
    " * the feature matrix for the query set.\n",
    " \n",
    "The function should return a set of predicted values, one for each house in the query set.\n",
    "\n",
    "**Hint**: To get the number of houses in the query set, use the `.shape` field of the query features matrix. See [the documentation](http://docs.scipy.org/doc/numpy-1.10.1/reference/generated/numpy.ndarray.shape.html)."
   ]
  },
  {
   "cell_type": "code",
   "execution_count": 23,
   "metadata": {},
   "outputs": [
    {
     "name": "stdout",
     "output_type": "stream",
     "text": [
      "The average predicted prices of the 10 houses in the train set closest to the query houses are : [881300.0, 431860.0, 460595.0, 430200.0, 766750.0, 667420.0, 350032.0, 512800.7, 484000.0, 457235.0]\n",
      "\n",
      "The house with index 6 in the test set is has the lowest prediction price of 350032.0\n"
     ]
    }
   ],
   "source": [
    "def knn_predict_avg_all(k, feature_matrix, output, query) :\n",
    "    \n",
    "    num_rows = query.shape[0]\n",
    "    predicted_values = []\n",
    "    \n",
    "    for i in range(num_rows):\n",
    "        \n",
    "        avg_value = knn_predict_avg(k, feature_matrix, output, query[i])\n",
    "        predicted_values.append(avg_value)\n",
    "    \n",
    "    return predicted_values\n",
    "    \n",
    "# The code below is to answer the following quiz questions\n",
    "\n",
    "avg_10_preds = knn_predict_avg_all(10, features_train, output_train, features_test[0:10])\n",
    "print('The average predicted prices of the 10 houses in the train set closest to the query houses are :', avg_10_preds)\n",
    "\n",
    "lowest_index = avg_10_preds.index(min(avg_10_preds))\n",
    "lowest_price = np.min(avg_10_preds)\n",
    "\n",
    "print('\\nThe house with index', lowest_index, 'in the test set is has the lowest prediction price of', lowest_price)"
   ]
  },
  {
   "cell_type": "markdown",
   "metadata": {
    "hideCode": false,
    "hidePrompt": false,
    "variables": {
     "lowest_index": "6",
     "lowest_price": "350032.0"
    }
   },
   "source": [
    "<font color = 'steelblue'><b> Quiz 1 :  Make predictions for the first 10 houses in the test set using k-nearest neighbors with `k=10`. What is the index of the house in this query set that has the lowest predicted value? </b></font>\n",
    "\n",
    "<font color = 'mediumvioletred'><b> Answer 1 : The house with index {{lowest_index}} in the query set has the lowest predicted value </b></font>\n",
    "\n",
    "<br/>\n",
    "\n",
    "<font color = 'steelblue'><b> Quiz 2 :  What is the predicted value of this house? </b></font>\n",
    "\n",
    "<font color = 'mediumvioletred'><b> Answer 2 : The predicted value for this house is {{lowest_price}} </b></font>"
   ]
  },
  {
   "cell_type": "markdown",
   "metadata": {},
   "source": [
    "## Choosing the best value of k using a validation set"
   ]
  },
  {
   "cell_type": "markdown",
   "metadata": {},
   "source": [
    "There remains a question of choosing the value of k to use in making predictions. Here, we use a validation set to choose this value. Write a loop that does the following:\n",
    "\n",
    "* For `k` in [1, 2, ..., 15]:\n",
    "    * Makes predictions for each house in the VALIDATION set using the k-nearest neighbors from the TRAINING set.\n",
    "    * Computes the RSS for these predictions on the VALIDATION set\n",
    "    * Stores the RSS computed above in `rss_all`\n",
    "* Report which `k` produced the lowest RSS on VALIDATION set."
   ]
  },
  {
   "cell_type": "markdown",
   "metadata": {},
   "source": [
    "(Depending on your computing environment, this computation may take 10-15 minutes.)"
   ]
  },
  {
   "cell_type": "code",
   "execution_count": 24,
   "metadata": {},
   "outputs": [
    {
     "name": "stdout",
     "output_type": "stream",
     "text": [
      "[105453830251561.0, 83445073504025.5, 72692096019202.56, 71946721652091.69, 69846517419718.6, 68899544353180.836, 68341973450051.09, 67361678735491.5, 68372727958976.09, 69335048668556.74, 69523855215598.83, 69049969587246.17, 70011254508263.69, 70908698869034.34, 71106928385945.16]\n",
      "\n",
      "k with value of 7 produced the lowest RSS on VALIDATION set\n"
     ]
    }
   ],
   "source": [
    "RSS_list = []\n",
    "\n",
    "for k in range(1,16) :\n",
    "    predicted_value = knn_predict_avg_all(k, features_train, output_train, features_valid)\n",
    "    residuals = predicted_value - output_valid\n",
    "    RSS = np.sum(np.square(residuals))\n",
    "    RSS_list.append(RSS)\n",
    "    \n",
    "print(RSS_list)\n",
    "print('\\nk with value of', RSS_list.index(min(RSS_list)), 'produced the lowest RSS on VALIDATION set')"
   ]
  },
  {
   "cell_type": "markdown",
   "metadata": {},
   "source": [
    "To visualize the performance as a function of `k`, plot the RSS on the VALIDATION set for each considered `k` value:"
   ]
  },
  {
   "cell_type": "code",
   "execution_count": 25,
   "metadata": {},
   "outputs": [
    {
     "data": {
      "image/png": "[encoded data removed]",
      "text/plain": [
       "<Figure size 432x288 with 1 Axes>"
      ]
     },
     "metadata": {
      "needs_background": "light"
     },
     "output_type": "display_data"
    },
    {
     "name": "stdout",
     "output_type": "stream",
     "text": [
      "\n",
      "The value for RSS on TEST set using k = 14 is  133006256365677.47 \n",
      "\n",
      "\n"
     ]
    }
   ],
   "source": [
    "kvals = range(1, 16)\n",
    "plt.plot(kvals, RSS_list,'bo-')\n",
    "plt.xlabel('Number of K Nearest Neighbors')\n",
    "plt.ylabel('Residual Square Sum (RSS)')\n",
    "plt.title('Effect of K Nearest Neigbors on Residual Square Sum (RSS)', pad=30)\n",
    "plt.show()\n",
    "\n",
    "# The code below is to anwser the following quiz question\n",
    "\n",
    "predicted_value = knn_predict_avg_all(14, features_train, output_train, features_test)\n",
    "residuals = predicted_value - output_test\n",
    "RSS_14 = np.sum(np.square(residuals))\n",
    "print('\\nThe value for RSS on TEST set using k = 14 is ', RSS_14, '\\n\\n')"
   ]
  },
  {
   "cell_type": "markdown",
   "metadata": {
    "variables": {
     "RSS_14": "133006256365677.47"
    }
   },
   "source": [
    "<font color = 'steelblue'><b> Quiz :  What is the RSS on the TEST data using the value of k found above?  To be clear, sum over all houses in the TEST set </b></font>\n",
    "\n",
    "<font color = 'mediumvioletred'><b> Answer : The value for RSS on TEST set k = 14 is {{RSS_14}} </b></font>"
   ]
  }
 ],
 "metadata": {
  "hide_code_all_hidden": false,
  "kernelspec": {
   "display_name": "Python 3",
   "language": "python",
   "name": "python3"
  },
  "language_info": {
   "codemirror_mode": {
    "name": "ipython",
    "version": 3
   },
   "file_extension": ".py",
   "mimetype": "text/x-python",
   "name": "python",
   "nbconvert_exporter": "python",
   "pygments_lexer": "ipython3",
   "version": "3.6.5"
  }
 },
 "nbformat": 4,
 "nbformat_minor": 4
}
