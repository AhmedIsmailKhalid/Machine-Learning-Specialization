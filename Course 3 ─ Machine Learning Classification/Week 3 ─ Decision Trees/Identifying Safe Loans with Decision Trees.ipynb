{
 "cells": [
  {
   "cell_type": "markdown",
   "metadata": {
    "hideCode": false,
    "hidePrompt": false
   },
   "source": [
    "# Identifying Safe Loans with Decision Trees"
   ]
  },
  {
   "cell_type": "markdown",
   "metadata": {
    "hideCode": false,
    "hidePrompt": false
   },
   "source": [
    "The [LendingClub](https://www.lendingclub.com/) is a peer-to-peer leading company that directly connects borrowers and potential lenders/investors. In this notebook, you will build a classification model to predict whether or not a loan provided by LendingClub is likely to [default](https://en.wikipedia.org/wiki/Default_%28finance%29).\n",
    "\n",
    "In this notebook you will use data from the LendingClub to predict whether a loan will be paid off in full or the loan will be [charged off](https://en.wikipedia.org/wiki/Charge-off) and possibly go into default. In this assignment you will:\n",
    "\n",
    "* Use DataFrames to do some feature engineering.\n",
    "* Train a decision-tree on the LendingClub dataset.\n",
    "* Predict whether a loan will default along with prediction probabilities (on a validation set).\n",
    "* Train a complex tree model and compare it to simple tree model.\n",
    "\n",
    "Let's get started!"
   ]
  },
  {
   "cell_type": "markdown",
   "metadata": {
    "hideCode": false,
    "hidePrompt": false
   },
   "source": [
    "# Import Neccessary Libraries"
   ]
  },
  {
   "cell_type": "code",
   "execution_count": 1,
   "metadata": {
    "hideCode": false,
    "hidePrompt": false
   },
   "outputs": [],
   "source": [
    "import pandas as pd\n",
    "import numpy as np\n",
    "import math\n",
    "import string\n",
    "import graphviz \n",
    "from os import system\n",
    "from IPython.display import Image\n",
    "from sklearn import tree\n",
    "from sklearn.tree import DecisionTreeClassifier\n",
    "from sklearn.model_selection import train_test_split\n",
    "from sklearn.feature_extraction import DictVectorizer\n",
    "from sklearn.feature_extraction.text import CountVectorizer"
   ]
  },
  {
   "cell_type": "markdown",
   "metadata": {
    "hideCode": false,
    "hidePrompt": false
   },
   "source": [
    "# Load LendingClub dataset"
   ]
  },
  {
   "cell_type": "markdown",
   "metadata": {
    "hideCode": false,
    "hidePrompt": false
   },
   "source": [
    "Load the dataset into a data frame named loans"
   ]
  },
  {
   "cell_type": "code",
   "execution_count": 2,
   "metadata": {
    "hideCode": false,
    "hidePrompt": false
   },
   "outputs": [
    {
     "name": "stderr",
     "output_type": "stream",
     "text": [
      "c:\\users\\ahmed ismail khalid\\appdata\\local\\programs\\python\\python36\\lib\\site-packages\\IPython\\core\\interactiveshell.py:3063: DtypeWarning: Columns (19,47) have mixed types.Specify dtype option on import or set low_memory=False.\n",
      "  interactivity=interactivity, compiler=compiler, result=result)\n"
     ]
    }
   ],
   "source": [
    "loans = pd.read_csv('lending-club-data.csv')"
   ]
  },
  {
   "cell_type": "markdown",
   "metadata": {
    "hideCode": false,
    "hidePrompt": false
   },
   "source": [
    "## Exploring some features\n",
    "\n",
    "Let's quickly explore what the dataset looks like. First, let's print out the column names to see what features we have in this dataset."
   ]
  },
  {
   "cell_type": "code",
   "execution_count": 3,
   "metadata": {
    "hideCode": false,
    "hidePrompt": false
   },
   "outputs": [
    {
     "data": {
      "text/plain": [
       "Index(['id', 'member_id', 'loan_amnt', 'funded_amnt', 'funded_amnt_inv',\n",
       "       'term', 'int_rate', 'installment', 'grade', 'sub_grade', 'emp_title',\n",
       "       'emp_length', 'home_ownership', 'annual_inc', 'is_inc_v', 'issue_d',\n",
       "       'loan_status', 'pymnt_plan', 'url', 'desc', 'purpose', 'title',\n",
       "       'zip_code', 'addr_state', 'dti', 'delinq_2yrs', 'earliest_cr_line',\n",
       "       'inq_last_6mths', 'mths_since_last_delinq', 'mths_since_last_record',\n",
       "       'open_acc', 'pub_rec', 'revol_bal', 'revol_util', 'total_acc',\n",
       "       'initial_list_status', 'out_prncp', 'out_prncp_inv', 'total_pymnt',\n",
       "       'total_pymnt_inv', 'total_rec_prncp', 'total_rec_int',\n",
       "       'total_rec_late_fee', 'recoveries', 'collection_recovery_fee',\n",
       "       'last_pymnt_d', 'last_pymnt_amnt', 'next_pymnt_d', 'last_credit_pull_d',\n",
       "       'collections_12_mths_ex_med', 'mths_since_last_major_derog',\n",
       "       'policy_code', 'not_compliant', 'status', 'inactive_loans', 'bad_loans',\n",
       "       'emp_length_num', 'grade_num', 'sub_grade_num', 'delinq_2yrs_zero',\n",
       "       'pub_rec_zero', 'collections_12_mths_zero', 'short_emp',\n",
       "       'payment_inc_ratio', 'final_d', 'last_delinq_none', 'last_record_none',\n",
       "       'last_major_derog_none'],\n",
       "      dtype='object')"
      ]
     },
     "execution_count": 3,
     "metadata": {},
     "output_type": "execute_result"
    }
   ],
   "source": [
    "loans.columns"
   ]
  },
  {
   "cell_type": "markdown",
   "metadata": {
    "hideCode": false,
    "hidePrompt": false
   },
   "source": [
    "Here, we should see that we have some feature columns that have to do with grade of the loan, annual income, home ownership status, etc."
   ]
  },
  {
   "cell_type": "markdown",
   "metadata": {
    "hideCode": false,
    "hidePrompt": false
   },
   "source": [
    "## Exploring the target column\n",
    "\n",
    "The target column (label column) of the dataset that we are interested in is called **bad_loans**. In this column **1** means a risky (bad) loan **0** means a safe  loan.\n",
    "\n",
    "In order to make this more intuitive and consistent with the lectures, we reassign the target to be:\n",
    "* **+1** as a safe  loan, \n",
    "* **-1** as a risky (bad) loan. \n",
    "\n",
    "We put this in a new column called **safe_loans**."
   ]
  },
  {
   "cell_type": "code",
   "execution_count": 4,
   "metadata": {
    "hideCode": false,
    "hidePrompt": false
   },
   "outputs": [],
   "source": [
    "loans['safe_loans'] = loans['bad_loans'].apply(lambda x : +1 if x==0 else -1)\n",
    "loans = loans.drop('bad_loans', axis=1)"
   ]
  },
  {
   "cell_type": "markdown",
   "metadata": {
    "hideCode": false,
    "hidePrompt": false
   },
   "source": [
    "Now, let us explore the distribution of the column safe_loans. This gives us a sense of how many safe and risky loans are present in the dataset. Print out the percentage of safe loans and risky loans in the data frame."
   ]
  },
  {
   "cell_type": "code",
   "execution_count": 5,
   "metadata": {
    "hideCode": false,
    "hidePrompt": false
   },
   "outputs": [
    {
     "name": "stdout",
     "output_type": "stream",
     "text": [
      "Percentage of safe loans :  81.0\n",
      "Percentage of risky loans :  19.0\n"
     ]
    }
   ],
   "source": [
    "percentage_safe_loans = sum(loans['safe_loans'] == 1)/ len(loans) * 100\n",
    "percentage_risky_loans = sum(loans['safe_loans'] == -1) /len(loans) * 100\n",
    "\n",
    "print('Percentage of safe loans : ', round(percentage_safe_loans,0))\n",
    "print('Percentage of risky loans : ', round(percentage_risky_loans,0))"
   ]
  },
  {
   "cell_type": "markdown",
   "metadata": {
    "hideCode": false,
    "hidePrompt": false
   },
   "source": [
    "You should have:\n",
    "\n",
    "* Around 81% safe loans\n",
    "* Around 19% risky loans\n",
    "\n",
    "It looks like most of these loans are safe loans (thankfully). But this does make our problem of identifying risky loans challenging."
   ]
  },
  {
   "cell_type": "markdown",
   "metadata": {
    "hideCode": false,
    "hidePrompt": false
   },
   "source": [
    "## Features for the classification algorithm"
   ]
  },
  {
   "cell_type": "markdown",
   "metadata": {
    "hideCode": false,
    "hidePrompt": false
   },
   "source": [
    "In this assignment, we will be using a subset of features (categorical and numeric). The features we will be using are described in the code comments below. If you are a finance geek, the LendingClub website has a lot more details about these features. Extract these feature columns and target column from the dataset. We will only use these features.\n"
   ]
  },
  {
   "cell_type": "code",
   "execution_count": 6,
   "metadata": {
    "hideCode": false,
    "hidePrompt": false
   },
   "outputs": [],
   "source": [
    "features = ['grade',                     # grade of the loan\n",
    "            'sub_grade',                 # sub-grade of the loan\n",
    "            'short_emp',                 # one year or less of employment\n",
    "            'emp_length_num',            # number of years of employment\n",
    "            'home_ownership',            # home_ownership status: own, mortgage or rent\n",
    "            'dti',                       # debt to income ratio\n",
    "            'purpose',                   # the purpose of the loan\n",
    "            'term',                      # the term of the loan\n",
    "            'last_delinq_none',          # has borrower had a delinquincy\n",
    "            'last_major_derog_none',     # has borrower had 90 day or worse rating\n",
    "            'revol_util',                # percent of available credit being used\n",
    "            'total_rec_late_fee',        # total late fees received to day\n",
    "           ]\n",
    "\n",
    "target = 'safe_loans'                    # prediction target (y) (+1 means safe, -1 is risky)\n",
    "\n",
    "# Extract the feature columns and target column\n",
    "loans = loans[features + [target]]"
   ]
  },
  {
   "cell_type": "markdown",
   "metadata": {
    "hideCode": false,
    "hidePrompt": false
   },
   "source": [
    "What remains now is a subset of features and the target that we will use for the rest of this notebook."
   ]
  },
  {
   "cell_type": "markdown",
   "metadata": {
    "hideCode": false,
    "hidePrompt": false
   },
   "source": [
    "## One Hot Encoding"
   ]
  },
  {
   "cell_type": "code",
   "execution_count": 7,
   "metadata": {
    "hideCode": false,
    "hidePrompt": false
   },
   "outputs": [],
   "source": [
    "catergorical_vars = [var for var in loans.columns if loans[var].dtypes == object]\n",
    "loans = pd.get_dummies(loans)"
   ]
  },
  {
   "cell_type": "markdown",
   "metadata": {
    "hideCode": false,
    "hidePrompt": false
   },
   "source": [
    "## Split data into training and validation sets"
   ]
  },
  {
   "cell_type": "markdown",
   "metadata": {
    "hideCode": false,
    "hidePrompt": false
   },
   "source": [
    "We split the data into training and validation sets using the indexes from the json files provided\n",
    "\n",
    "**Note**: In previous assignments, we have called this a **train-test split**. However, the portion of data that we don't train on will be used to help **select model parameters** (this is known as model selection). Thus, this portion of data should be called a **validation set**. Recall that examining performance of various potential models (i.e. models with different parameters) should be on validation set, while evaluation of the final selected model should always be on test data. Typically, we would also save a portion of the data (a real test set) to test our final model on or use cross-validation on the training set to select our final model. But for the learning purposes of this assignment, we won't do that."
   ]
  },
  {
   "cell_type": "code",
   "execution_count": 8,
   "metadata": {
    "hideCode": false,
    "hidePrompt": false
   },
   "outputs": [],
   "source": [
    "train_indices = pd.read_json('module-5-assignment-1-train-idx.json')\n",
    "train_indices = train_indices.rename({0: 'indices'}, axis=1)\n",
    "train_indices = list(train_indices['indices'])\n",
    "\n",
    "validation_indices = pd.read_json('module-5-assignment-1-validation-idx.json')\n",
    "validation_indices = validation_indices.rename({0: 'indices'}, axis=1)\n",
    "validation_indices = list(validation_indices['indices'])\n",
    "\n",
    "train_data = loans.iloc[train_indices]\n",
    "validation_data = loans.iloc[validation_indices]"
   ]
  },
  {
   "cell_type": "markdown",
   "metadata": {
    "hideCode": false,
    "hidePrompt": false
   },
   "source": [
    "# Build a decision tree classifier"
   ]
  },
  {
   "cell_type": "markdown",
   "metadata": {
    "hideCode": false,
    "hidePrompt": false
   },
   "source": [
    "Now, let's use the built-in scikit learn decision tree learner (sklearn.tree.DecisionTreeClassifier) to create a loan prediction model on the training data. To do this, you will need to import sklearn, sklearn.tree, and numpy.\n",
    "\n",
    "**Note:** You will have to first convert the DataFrame into a numpy data array, and extract the target labels as a numpy array (Hint: you can use the **.to_numpy()** method call on DataFrame to turn DataFrames into numpy arrays). See the API for more information. **Make sure to set max_depth=6**.\n",
    "\n",
    "Call this model **decision_tree_model**"
   ]
  },
  {
   "cell_type": "code",
   "execution_count": 9,
   "metadata": {
    "hideCode": false,
    "hidePrompt": false
   },
   "outputs": [],
   "source": [
    "train_matrix = train_data.drop('safe_loans', axis=1)\n",
    "train_label = train_data['safe_loans'].to_numpy()\n",
    "\n",
    "decision_tree_model = DecisionTreeClassifier(max_depth=6)\n",
    "decision_tree_model = decision_tree_model.fit(train_matrix, train_label)\n",
    "\n",
    "small_model = DecisionTreeClassifier(max_depth=2)\n",
    "small_model = small_model.fit(train_matrix, train_label)"
   ]
  },
  {
   "cell_type": "markdown",
   "metadata": {
    "hideCode": false,
    "hidePrompt": false
   },
   "source": [
    "## Visualizing a learned model (Optional)"
   ]
  },
  {
   "cell_type": "code",
   "execution_count": 10,
   "metadata": {
    "hideCode": false,
    "hidePrompt": false
   },
   "outputs": [
    {
     "data": {
      "image/png": "[encoded data removed]",
      "text/plain": [
       "<IPython.core.display.Image object>"
      ]
     },
     "execution_count": 10,
     "metadata": {},
     "output_type": "execute_result"
    }
   ],
   "source": [
    "dot_data = tree.export_graphviz(small_model, out_file='simple_tree.dot',\n",
    "                               feature_names=train_matrix.columns,  \n",
    "                         class_names=['+1','-1'],  \n",
    "                         filled=True, rounded=True,  \n",
    "                         special_characters=True) \n",
    "system(\"dot -Tpng simple_tree.dot -o simple_tree.png\")\n",
    "\n",
    "Image(filename='simple_tree.png')"
   ]
  },
  {
   "cell_type": "markdown",
   "metadata": {
    "hideCode": false,
    "hidePrompt": false
   },
   "source": [
    "# Making predictions\n",
    "\n",
    "Let's consider two positive and two negative examples **from the validation set** and see what the model predicts. We will do the following:\n",
    "\n",
    "* Predict whether or not a loan is safe.\n",
    "* Predict the probability that a loan is safe.\n",
    "\n",
    "First, let's grab 2 positive examples and 2 negative examples"
   ]
  },
  {
   "cell_type": "code",
   "execution_count": 11,
   "metadata": {
    "hideCode": false,
    "hidePrompt": false
   },
   "outputs": [
    {
     "data": {
      "text/html": [
       "<div>\n",
       "<style scoped>\n",
       "    .dataframe tbody tr th:only-of-type {\n",
       "        vertical-align: middle;\n",
       "    }\n",
       "\n",
       "    .dataframe tbody tr th {\n",
       "        vertical-align: top;\n",
       "    }\n",
       "\n",
       "    .dataframe thead th {\n",
       "        text-align: right;\n",
       "    }\n",
       "</style>\n",
       "<table border=\"1\" class=\"dataframe\">\n",
       "  <thead>\n",
       "    <tr style=\"text-align: right;\">\n",
       "      <th></th>\n",
       "      <th>short_emp</th>\n",
       "      <th>emp_length_num</th>\n",
       "      <th>dti</th>\n",
       "      <th>last_delinq_none</th>\n",
       "      <th>last_major_derog_none</th>\n",
       "      <th>revol_util</th>\n",
       "      <th>total_rec_late_fee</th>\n",
       "      <th>safe_loans</th>\n",
       "      <th>grade_A</th>\n",
       "      <th>grade_B</th>\n",
       "      <th>...</th>\n",
       "      <th>purpose_house</th>\n",
       "      <th>purpose_major_purchase</th>\n",
       "      <th>purpose_medical</th>\n",
       "      <th>purpose_moving</th>\n",
       "      <th>purpose_other</th>\n",
       "      <th>purpose_small_business</th>\n",
       "      <th>purpose_vacation</th>\n",
       "      <th>purpose_wedding</th>\n",
       "      <th>term_ 36 months</th>\n",
       "      <th>term_ 60 months</th>\n",
       "    </tr>\n",
       "  </thead>\n",
       "  <tbody>\n",
       "    <tr>\n",
       "      <th>19</th>\n",
       "      <td>0</td>\n",
       "      <td>11</td>\n",
       "      <td>11.18</td>\n",
       "      <td>1</td>\n",
       "      <td>1</td>\n",
       "      <td>82.4</td>\n",
       "      <td>0.0</td>\n",
       "      <td>1</td>\n",
       "      <td>0</td>\n",
       "      <td>1</td>\n",
       "      <td>...</td>\n",
       "      <td>0</td>\n",
       "      <td>0</td>\n",
       "      <td>0</td>\n",
       "      <td>0</td>\n",
       "      <td>0</td>\n",
       "      <td>0</td>\n",
       "      <td>0</td>\n",
       "      <td>0</td>\n",
       "      <td>1</td>\n",
       "      <td>0</td>\n",
       "    </tr>\n",
       "    <tr>\n",
       "      <th>79</th>\n",
       "      <td>0</td>\n",
       "      <td>10</td>\n",
       "      <td>16.85</td>\n",
       "      <td>1</td>\n",
       "      <td>1</td>\n",
       "      <td>96.4</td>\n",
       "      <td>0.0</td>\n",
       "      <td>1</td>\n",
       "      <td>0</td>\n",
       "      <td>0</td>\n",
       "      <td>...</td>\n",
       "      <td>0</td>\n",
       "      <td>0</td>\n",
       "      <td>0</td>\n",
       "      <td>0</td>\n",
       "      <td>0</td>\n",
       "      <td>0</td>\n",
       "      <td>0</td>\n",
       "      <td>0</td>\n",
       "      <td>1</td>\n",
       "      <td>0</td>\n",
       "    </tr>\n",
       "    <tr>\n",
       "      <th>24</th>\n",
       "      <td>0</td>\n",
       "      <td>3</td>\n",
       "      <td>13.97</td>\n",
       "      <td>0</td>\n",
       "      <td>1</td>\n",
       "      <td>59.5</td>\n",
       "      <td>0.0</td>\n",
       "      <td>-1</td>\n",
       "      <td>0</td>\n",
       "      <td>0</td>\n",
       "      <td>...</td>\n",
       "      <td>0</td>\n",
       "      <td>0</td>\n",
       "      <td>0</td>\n",
       "      <td>0</td>\n",
       "      <td>1</td>\n",
       "      <td>0</td>\n",
       "      <td>0</td>\n",
       "      <td>0</td>\n",
       "      <td>0</td>\n",
       "      <td>1</td>\n",
       "    </tr>\n",
       "    <tr>\n",
       "      <th>41</th>\n",
       "      <td>0</td>\n",
       "      <td>11</td>\n",
       "      <td>16.33</td>\n",
       "      <td>1</td>\n",
       "      <td>1</td>\n",
       "      <td>62.1</td>\n",
       "      <td>0.0</td>\n",
       "      <td>-1</td>\n",
       "      <td>1</td>\n",
       "      <td>0</td>\n",
       "      <td>...</td>\n",
       "      <td>0</td>\n",
       "      <td>0</td>\n",
       "      <td>0</td>\n",
       "      <td>0</td>\n",
       "      <td>0</td>\n",
       "      <td>0</td>\n",
       "      <td>0</td>\n",
       "      <td>0</td>\n",
       "      <td>1</td>\n",
       "      <td>0</td>\n",
       "    </tr>\n",
       "  </tbody>\n",
       "</table>\n",
       "<p>4 rows × 68 columns</p>\n",
       "</div>"
      ],
      "text/plain": [
       "    short_emp  emp_length_num    dti  last_delinq_none  last_major_derog_none  \\\n",
       "19          0              11  11.18                 1                      1   \n",
       "79          0              10  16.85                 1                      1   \n",
       "24          0               3  13.97                 0                      1   \n",
       "41          0              11  16.33                 1                      1   \n",
       "\n",
       "    revol_util  total_rec_late_fee  safe_loans  grade_A  grade_B  ...  \\\n",
       "19        82.4                 0.0           1        0        1  ...   \n",
       "79        96.4                 0.0           1        0        0  ...   \n",
       "24        59.5                 0.0          -1        0        0  ...   \n",
       "41        62.1                 0.0          -1        1        0  ...   \n",
       "\n",
       "    purpose_house  purpose_major_purchase  purpose_medical  purpose_moving  \\\n",
       "19              0                       0                0               0   \n",
       "79              0                       0                0               0   \n",
       "24              0                       0                0               0   \n",
       "41              0                       0                0               0   \n",
       "\n",
       "    purpose_other  purpose_small_business  purpose_vacation  purpose_wedding  \\\n",
       "19              0                       0                 0                0   \n",
       "79              0                       0                 0                0   \n",
       "24              1                       0                 0                0   \n",
       "41              0                       0                 0                0   \n",
       "\n",
       "    term_ 36 months  term_ 60 months  \n",
       "19                1                0  \n",
       "79                1                0  \n",
       "24                0                1  \n",
       "41                1                0  \n",
       "\n",
       "[4 rows x 68 columns]"
      ]
     },
     "execution_count": 11,
     "metadata": {},
     "output_type": "execute_result"
    }
   ],
   "source": [
    "validation_safe_loans = validation_data[validation_data[target] == 1]\n",
    "validation_risky_loans = validation_data[validation_data[target] == -1]\n",
    "\n",
    "sample_validation_data_risky = validation_risky_loans[0:2]\n",
    "sample_validation_data_safe = validation_safe_loans[0:2]\n",
    "\n",
    "sample_validation_data = sample_validation_data_safe.append(sample_validation_data_risky)\n",
    "sample_validation_data"
   ]
  },
  {
   "cell_type": "markdown",
   "metadata": {
    "hideCode": false,
    "hidePrompt": false
   },
   "source": [
    "Now, we will use our model to predict whether or not a loan is likely to default. For each row in the **sample_validation_data**, use the **decision_tree_model** to predict whether or not the loan is classified as a **safe loan**. (Hint: if you are using scikit-learn, you can use the **.predict()** method)"
   ]
  },
  {
   "cell_type": "code",
   "execution_count": 12,
   "metadata": {
    "hideCode": false,
    "hidePrompt": false
   },
   "outputs": [
    {
     "name": "stdout",
     "output_type": "stream",
     "text": [
      "The decision_tree_model got 50.0 % predictions correct for the sample_validation_data\n"
     ]
    }
   ],
   "source": [
    "sample_validation_data_matrix = sample_validation_data.drop('safe_loans', axis=1)\n",
    "sample_validation_data_label = sample_validation_data['safe_loans'].to_numpy()\n",
    "\n",
    "sample_validation_data_predictions = decision_tree_model.predict(sample_validation_data_matrix)\n",
    "\n",
    "# The code below is to answer the following quiz quesiton\n",
    "\n",
    "sample_validation_accuracy = decision_tree_model.score(sample_validation_data_matrix, sample_validation_data_label)\n",
    "print('The decision_tree_model got', sample_validation_accuracy * 100, \n",
    "      '% predictions correct for the sample_validation_data')"
   ]
  },
  {
   "cell_type": "markdown",
   "metadata": {
    "hideCode": false,
    "hidePrompt": false,
    "variables": {
     "sample_validation_accuracy * 100": "50.0"
    }
   },
   "source": [
    "<font color='steelblue'><b> Quiz : What percentage of the predictions on sample_validation_data did decision_tree_model get correct? </b></font>\n",
    "\n",
    "<font color='mediumvioletred'><b> Answer : The decision_tree_model got {{sample_validation_accuracy * 100}} % correct predictions for the sample_validation_data </b></font>"
   ]
  },
  {
   "cell_type": "markdown",
   "metadata": {
    "hideCode": false,
    "hidePrompt": false
   },
   "source": [
    "## Explore label predictions"
   ]
  },
  {
   "cell_type": "markdown",
   "metadata": {
    "hideCode": false,
    "hidePrompt": false
   },
   "source": [
    "For each row in the **sample_validation_data**, what is the probability (according **decision_tree_model**) of a loan being classified as **safe**? (Hint: if you are using scikit-learn, you can use the **.predict_proba()** method)"
   ]
  },
  {
   "cell_type": "code",
   "execution_count": 13,
   "metadata": {
    "hideCode": false,
    "hidePrompt": false
   },
   "outputs": [
    {
     "name": "stdout",
     "output_type": "stream",
     "text": [
      "Loan 4 has the highest probability of being classified as safe loan\n",
      "\n",
      "For all predictions with probabilty >= 0.5, the model DOES predict the label +1\n"
     ]
    }
   ],
   "source": [
    "sample_validation_data_prob_preds = decision_tree_model.predict_proba(sample_validation_data_matrix)\n",
    "\n",
    "# The code below is to answer the following quiz question\n",
    "\n",
    "safe_preds = [sample_validation_data_prob_preds[i][1] for i in range(len(sample_validation_data_prob_preds))]\n",
    "safest_loan = safe_preds.index(max(safe_preds)) + 1\n",
    "\n",
    "print('Loan', safest_loan, 'has the highest probability of being classified as safe loan')\n",
    "\n",
    "'''Checkpoint : Verifying that for all the predictions with probability >= 0.5, the model predicted the label +1?'''\n",
    "\n",
    "checkpoint = True\n",
    "\n",
    "for i in range(len(safe_preds)) :\n",
    "    if sample_validation_data_predictions[i] == 1 and safe_preds[i] >= 0.5 :\n",
    "        checkpoint = True\n",
    "        \n",
    "    elif sample_validation_data_predictions[i] == 1 and safe_preds[i] <= 0.5 :\n",
    "        checkpoint = False\n",
    "\n",
    "if checkpoint == True :\n",
    "    print('\\nFor all predictions with probabilty >= 0.5, the model DOES predict the label +1')\n",
    "\n",
    "elif checkpoint == False :\n",
    "    print('\\nFor all predictions with probabilty >= 0.5, the model DOES NOT predict the label +1')"
   ]
  },
  {
   "cell_type": "markdown",
   "metadata": {
    "hideCode": false,
    "hidePrompt": false,
    "variables": {
     "safest_loan": "4"
    }
   },
   "source": [
    "<font color='steelblue'><b> Quiz : Which loan has the highest probability of being classified as a safe loan? </b></font>\n",
    "\n",
    "<font color='mediumvioletred'><b> Answer : Loan {{safest_loan}} has the highest probability of being classified as safe loan </b></font>"
   ]
  },
  {
   "cell_type": "markdown",
   "metadata": {
    "hideCode": false,
    "hidePrompt": false
   },
   "source": [
    "### Tricky predictions!\n",
    "\n",
    "Now, we will explore something pretty interesting. For each row in the **sample_validation_data**, what is the probability (according to **small_model**) of a loan being classified as **safe**?"
   ]
  },
  {
   "cell_type": "code",
   "execution_count": 14,
   "metadata": {
    "hideCode": false,
    "hidePrompt": false
   },
   "outputs": [
    {
     "data": {
      "text/plain": [
       "array([[0.41896585, 0.58103415],\n",
       "       [0.59255339, 0.40744661],\n",
       "       [0.59255339, 0.40744661],\n",
       "       [0.23120112, 0.76879888]])"
      ]
     },
     "execution_count": 14,
     "metadata": {},
     "output_type": "execute_result"
    }
   ],
   "source": [
    "sample_validation_data_small_probs = small_model.predict_proba(sample_validation_data_matrix)\n",
    "sample_validation_data_small_probs"
   ]
  },
  {
   "cell_type": "markdown",
   "metadata": {
    "hideCode": false,
    "hidePrompt": false
   },
   "source": [
    "<font color='steelblue'><b> Quiz : Notice that the probability preditions are the exact same for the 2nd and 3rd loans. Why would this happen? </b></font>\n",
    "\n",
    "<font color='mediumvioletred'><b> Answer : During tree traversal both examples fall into the same leaf node </b></font>"
   ]
  },
  {
   "cell_type": "markdown",
   "metadata": {
    "hideCode": false,
    "hidePrompt": false
   },
   "source": [
    "### Visualize the prediction on a tree\n",
    "Note that you should be able to look at the small tree (of depth 2), traverse it yourself, and visualize the prediction being made. Consider the following point in the sample_validation_data:\n",
    "\n",
    "    sample_validation_data.iloc[1]\n",
    "    \n",
    "If you have Graphviz, go ahead and re-visualize small_model here to do the traversing for this data point."
   ]
  },
  {
   "cell_type": "code",
   "execution_count": 15,
   "metadata": {
    "hideCode": false,
    "hidePrompt": false
   },
   "outputs": [
    {
     "data": {
      "text/plain": [
       "short_emp                  0.00\n",
       "emp_length_num            11.00\n",
       "dti                       11.18\n",
       "last_delinq_none           1.00\n",
       "last_major_derog_none      1.00\n",
       "                          ...  \n",
       "purpose_small_business     0.00\n",
       "purpose_vacation           0.00\n",
       "purpose_wedding            0.00\n",
       "term_ 36 months            1.00\n",
       "term_ 60 months            0.00\n",
       "Name: 19, Length: 68, dtype: float64"
      ]
     },
     "execution_count": 15,
     "metadata": {},
     "output_type": "execute_result"
    }
   ],
   "source": [
    "sample_validation_data.iloc[0]"
   ]
  },
  {
   "cell_type": "code",
   "execution_count": 16,
   "metadata": {
    "hideCode": false,
    "hidePrompt": false
   },
   "outputs": [
    {
     "name": "stdout",
     "output_type": "stream",
     "text": [
      "The prediction for sample_validation_data.iloc[1] is -1 \n",
      "\n",
      "\n"
     ]
    },
    {
     "data": {
      "image/png": "[encoded data removed]",
      "text/plain": [
       "<IPython.core.display.Image object>"
      ]
     },
     "execution_count": 16,
     "metadata": {},
     "output_type": "execute_result"
    }
   ],
   "source": [
    "dot_data = tree.export_graphviz(small_model, out_file='simple_tree_small.dot',\n",
    "                               feature_names=sample_validation_data.drop('safe_loans', axis=1).iloc[1],  \n",
    "                         class_names=['+1','-1'],  \n",
    "                         filled=True, rounded=True,  \n",
    "                         special_characters=True) \n",
    "system(\"dot -Tpng simple_tree_small.dot -o simple_tree_small.png\")\n",
    "\n",
    "\n",
    "\n",
    "# The code below is to answer the following quiz question\n",
    "\n",
    "'''This is to confirm that the prediction for sample_validation_data.iloc[1] is IN FACT -1'''\n",
    "confirm = small_model.predict(np.array(sample_validation_data.drop('safe_loans',axis=1).iloc[1]).reshape(1,-1))\n",
    "print('The prediction for sample_validation_data.iloc[1] is', *confirm, '\\n\\n')\n",
    "\n",
    "Image(filename='simple_tree_small.png')"
   ]
  },
  {
   "cell_type": "markdown",
   "metadata": {
    "hideCode": false,
    "hidePrompt": false
   },
   "source": [
    "<font color='steelblue'><b> Quiz : Based on the visualized tree, what prediction would you make for this data point (according to small_model)?  </b></font>\n",
    "\n",
    "<font color='mediumvioletred'><b> Answer : The prediction for sample_validation_data.iloc[1] is -1 </b></font>"
   ]
  },
  {
   "cell_type": "markdown",
   "metadata": {
    "hideCode": false,
    "hidePrompt": false
   },
   "source": [
    "# Evaluating accuracy of the decision tree model"
   ]
  },
  {
   "cell_type": "markdown",
   "metadata": {
    "hideCode": false,
    "hidePrompt": false
   },
   "source": [
    "Recall that the accuracy is defined as follows:\n",
    "$$\n",
    "\\mbox{accuracy} = \\frac{\\mbox{# correctly classified examples}}{\\mbox{# total examples}}\n",
    "$$\n",
    "\n",
    "Let us start by evaluating the accuracy of the **small_model** and **decision_tree_model** on the training data"
   ]
  },
  {
   "cell_type": "code",
   "execution_count": 17,
   "metadata": {
    "hideCode": false,
    "hidePrompt": false
   },
   "outputs": [
    {
     "name": "stdout",
     "output_type": "stream",
     "text": [
      "The accuracy of the decision_tree_model on the train data is :  0.64\n",
      "The accuracy of the small_model on the train data is :  0.61\n"
     ]
    }
   ],
   "source": [
    "decision_tree_model_train_accuracy = round(decision_tree_model.score(train_matrix,train_label),2)\n",
    "small_model_train_accuracy = round(small_model.score(train_matrix,train_label),2)\n",
    "\n",
    "print('The accuracy of the decision_tree_model on the train data is : ', decision_tree_model_train_accuracy)\n",
    "print('The accuracy of the small_model on the train data is : ', small_model_train_accuracy)"
   ]
  },
  {
   "cell_type": "markdown",
   "metadata": {
    "hideCode": false,
    "hidePrompt": false
   },
   "source": [
    "**Checkpoint:** You should see that the **small_model** performs worse than the **decision_tree_model** on the training data.\n",
    "\n",
    "\n",
    "Now, let us evaluate the accuracy of the **small_model** and **decision_tree_model** on the entire **validation_data**, not just the subsample considered above."
   ]
  },
  {
   "cell_type": "code",
   "execution_count": 18,
   "metadata": {
    "hideCode": false,
    "hidePrompt": false
   },
   "outputs": [
    {
     "name": "stdout",
     "output_type": "stream",
     "text": [
      "The accuracy of the decision_tree_model on the validation data is :  0.64\n",
      "The accuracy of the small_model on the validation data is :  0.62\n"
     ]
    }
   ],
   "source": [
    "validation_matrix = validation_data.drop('safe_loans', axis=1)\n",
    "validation_label = validation_data['safe_loans'].to_numpy() \n",
    "\n",
    "decision_tree_model_validation_accuracy = round(decision_tree_model.score(validation_matrix,validation_label),2)\n",
    "small_model_validation_accuracy = round(small_model.score(validation_matrix,validation_label),2)\n",
    "\n",
    "print('The accuracy of the decision_tree_model on the validation data is : ', decision_tree_model_validation_accuracy)\n",
    "print('The accuracy of the small_model on the validation data is : ', small_model_validation_accuracy)"
   ]
  },
  {
   "cell_type": "markdown",
   "metadata": {
    "variables": {
     "decision_tree_model_validation_accuracy": "0.64"
    }
   },
   "source": [
    "<font color='steelblue'><b> Quiz : What is the accuracy of decision_tree_model on the validation set, rounded to the nearest .01?  </b></font>\n",
    "\n",
    "<font color='mediumvioletred'><b> Answer : The accuracy of the decision_tree_model on the validation data is : {{decision_tree_model_validation_accuracy}} </b></font>"
   ]
  },
  {
   "cell_type": "markdown",
   "metadata": {},
   "source": [
    "## Evaluating accuracy of a complex decision tree model\n",
    "\n",
    "Here, we will train a large decision tree with **max_depth=10**. This will allow the learned tree to become very deep, and result in a very complex model. Recall that in lecture, we prefer simpler models with similar predictive power. This will be an example of a more complicated model which has similar predictive power, i.e. something we don't want.\n",
    "\n",
    "Using sklearn.tree.DecisionTreeClassifier, train a decision tree with maximum depth = 10. Call this model **big_model**."
   ]
  },
  {
   "cell_type": "code",
   "execution_count": 19,
   "metadata": {},
   "outputs": [],
   "source": [
    "big_model = DecisionTreeClassifier(max_depth=10)\n",
    "big_model = big_model.fit(train_matrix,train_label)"
   ]
  },
  {
   "cell_type": "markdown",
   "metadata": {},
   "source": [
    " Evaluate the accuracy of **big_model** on the training set and validation set."
   ]
  },
  {
   "cell_type": "code",
   "execution_count": 20,
   "metadata": {},
   "outputs": [
    {
     "name": "stdout",
     "output_type": "stream",
     "text": [
      "The accuracy of the big_model on the validation data is :  0.66\n",
      "The accuracy of the big_model on the validation data is :  0.63\n",
      "\n",
      "Checkpoint : The big_model performs even better on training set than decision_tree_model\n",
      "\n",
      "big_model has lower accuracy on the validation set than decision_tree_model. This is not overfitting.\n"
     ]
    }
   ],
   "source": [
    "big_model_train_accuracy = round(big_model.score(train_matrix, train_label),2)\n",
    "big_model_validation_accuracy = round(big_model.score(validation_matrix, validation_label),2)\n",
    "\n",
    "print('The accuracy of the big_model on the validation data is : ', big_model_train_accuracy)\n",
    "print('The accuracy of the big_model on the validation data is : ', big_model_validation_accuracy)\n",
    "\n",
    "'''Checkpoint'''\n",
    "if big_model_train_accuracy > decision_tree_model_train_accuracy :\n",
    "    print('\\nCheckpoint : The big_model performs even better on training set than decision_tree_model\\n')\n",
    "elif big_model_train_accuracy > decision_tree_model_train_accuracy :\n",
    "    print('\\nCheckpoint : The big_model does not performs better on training set than decision_tree_model\\n')\n",
    "    \n",
    "# The code below is to answer the following quiz question\n",
    "if big_model_validation_accuracy > decision_tree_model_train_accuracy :\n",
    "    answer = 'big_model has higher accuracy on the validation set than decision_tree_model. This is overfitting.'\n",
    "    \n",
    "elif big_model_validation_accuracy < decision_tree_model_train_accuracy :\n",
    "    answer = 'big_model has lower accuracy on the validation set than decision_tree_model. This is not overfitting.'\n",
    "    \n",
    "print(answer)"
   ]
  },
  {
   "cell_type": "markdown",
   "metadata": {},
   "source": [
    "**Checkpoint:** We should see that **big_model** has even better performance on the training set than **decision_tree_model** did on the training set."
   ]
  },
  {
   "cell_type": "markdown",
   "metadata": {
    "variables": {
     "answer": "big_model has lower accuracy on the validation set than decision_tree_model. This is not overfitting."
    }
   },
   "source": [
    "<font color='steelblue'><b> Quiz : How does the performance of big_model on the validation set compare to decision_tree_model on the validation set? Is this a sign of overfitting? </b></font>\n",
    "\n",
    "<font color='mediumvioletred'><b> Answer : {{answer}} </b></font>"
   ]
  },
  {
   "cell_type": "markdown",
   "metadata": {},
   "source": [
    "### Quantifying the cost of mistakes\n",
    "\n",
    "Every mistake the model makes costs money. In this section, we will try and quantify the cost of each mistake made by the model.\n",
    "\n",
    "Assume the following:\n",
    "\n",
    "* **False negatives**: Loans that were actually safe but were predicted to be risky. This results in an oppurtunity cost of losing a loan that would have otherwise been accepted. \n",
    "* **False positives**: Loans that were actually risky but were predicted to be safe. These are much more expensive because it results in a risky loan being given. \n",
    "* **Correct predictions**: All correct predictions don't typically incur any cost.\n",
    "\n",
    "\n",
    "Let's write code that can compute the cost of mistakes made by the model. Complete the following 4 steps:\n",
    "1. First, let us compute the predictions made by the model.\n",
    "1. Second, compute the number of false positives.\n",
    "2. Third, compute the number of false negatives.\n",
    "3. Finally, compute the cost of mistakes made by the model by adding up the costs of true positives and false positives."
   ]
  },
  {
   "cell_type": "code",
   "execution_count": 21,
   "metadata": {},
   "outputs": [
    {
     "name": "stdout",
     "output_type": "stream",
     "text": [
      "Number of False Positives in decision_tree_model :  1661\n",
      "Number of False Negatives in decision_tree_model :  1717\n",
      "Number of mistakes made by decision_tree_model   :  3378\n",
      "\n",
      "The cost of the decision_tree_model on validation_data is : $ 50390000\n"
     ]
    }
   ],
   "source": [
    "decision_tree_model_validation_predicitions = decision_tree_model.predict(validation_matrix)\n",
    "\n",
    "decision_tree_model_validation_fp = 0\n",
    "decision_tree_model_validation_fn = 0\n",
    "\n",
    "for prediction, actual in zip(decision_tree_model_validation_predicitions, validation_label) :\n",
    "    if prediction == 1 and actual == -1 :\n",
    "        decision_tree_model_validation_fp += 1\n",
    "    else :\n",
    "        decision_tree_model_validation_fp += 0\n",
    "        \n",
    "for prediction, actual in zip(decision_tree_model_validation_predicitions, validation_label) :\n",
    "    if prediction == -1 and actual == +1 :\n",
    "        decision_tree_model_validation_fn += 1\n",
    "    else :\n",
    "        decision_tree_model_validation_fn += 0\n",
    "\n",
    "decision_tree_model_validation_mistakes = decision_tree_model_validation_fp + decision_tree_model_validation_fn\n",
    "        \n",
    "print('Number of False Positives in decision_tree_model : ', decision_tree_model_validation_fp)\n",
    "print('Number of False Negatives in decision_tree_model : ', decision_tree_model_validation_fn)\n",
    "print('Number of mistakes made by decision_tree_model   : ', decision_tree_model_validation_mistakes)\n",
    "\n",
    "\n",
    "# The code below is to answer the following quiz question\n",
    "\n",
    "cost = (10000 * decision_tree_model_validation_fn) + (20000 * decision_tree_model_validation_fp)\n",
    "print('\\nThe cost of the decision_tree_model on validation_data is : $',cost)"
   ]
  },
  {
   "cell_type": "markdown",
   "metadata": {
    "variables": {
     "cost": "50390000"
    }
   },
   "source": [
    "<font color='steelblue'><b> Quiz : Let's assume that each mistake costs us money: a false negative costs \\\\$10,000 while a false positive costs \\\\$20,000. What is the total cost of mistakes made by decision_tree_model on validation_data? </b></font>\n",
    "\n",
    "<font color='mediumvioletred'><b> Answer : The cost of the decision_tree_model on validation_data is : \\\\${{cost}} </b></font>"
   ]
  }
 ],
 "metadata": {
  "hide_code_all_hidden": false,
  "kernelspec": {
   "display_name": "Python 3",
   "language": "python",
   "name": "python3"
  },
  "language_info": {
   "codemirror_mode": {
    "name": "ipython",
    "version": 3
   },
   "file_extension": ".py",
   "mimetype": "text/x-python",
   "name": "python",
   "nbconvert_exporter": "python",
   "pygments_lexer": "ipython3",
   "version": "3.6.5"
  }
 },
 "nbformat": 4,
 "nbformat_minor": 4
}
